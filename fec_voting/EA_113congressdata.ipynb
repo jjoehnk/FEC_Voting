{
 "cells": [
  {
   "cell_type": "markdown",
   "id": "99928385-71e1-4b48-a079-1b05052257b3",
   "metadata": {},
   "source": [
    "# US Representative Voting Patterns and Funding Sources"
   ]
  },
  {
   "cell_type": "markdown",
   "id": "20f77f6a-e0e7-411b-b3f6-e5e789567022",
   "metadata": {},
   "source": [
    "*Exploratory analysis of how funding influences voting habits in Congress*\n",
    "\n",
    "Part 2 of Exploratory Analysis: Congressional Member Voting Data (*using the 113th session of congress as a case study*)"
   ]
  },
  {
   "cell_type": "code",
   "execution_count": 19,
   "id": "98c57601-7e67-4f47-99bf-439c65b3c682",
   "metadata": {},
   "outputs": [],
   "source": [
    "# modules to import for exploratory analysis\n",
    "\n",
    "import numpy as np\n",
    "import pandas as pd\n",
    "import matplotlib.pyplot as plt\n",
    "import ydata_profiling as yd"
   ]
  },
  {
   "cell_type": "code",
   "execution_count": 12,
   "id": "9cc5fb2c-f710-40da-ab00-1c90bb0e6c75",
   "metadata": {
    "scrolled": true
   },
   "outputs": [
    {
     "data": {
      "text/html": [
       "<div>\n",
       "<style scoped>\n",
       "    .dataframe tbody tr th:only-of-type {\n",
       "        vertical-align: middle;\n",
       "    }\n",
       "\n",
       "    .dataframe tbody tr th {\n",
       "        vertical-align: top;\n",
       "    }\n",
       "\n",
       "    .dataframe thead th {\n",
       "        text-align: right;\n",
       "    }\n",
       "</style>\n",
       "<table border=\"1\" class=\"dataframe\">\n",
       "  <thead>\n",
       "    <tr style=\"text-align: right;\">\n",
       "      <th></th>\n",
       "      <th>congress</th>\n",
       "      <th>chamber</th>\n",
       "      <th>icpsr</th>\n",
       "      <th>state_icpsr</th>\n",
       "      <th>district_code</th>\n",
       "      <th>state_abbrev</th>\n",
       "      <th>party_code</th>\n",
       "      <th>occupancy</th>\n",
       "      <th>last_means</th>\n",
       "      <th>bioname</th>\n",
       "      <th>...</th>\n",
       "      <th>died</th>\n",
       "      <th>nominate_dim1</th>\n",
       "      <th>nominate_dim2</th>\n",
       "      <th>nominate_log_likelihood</th>\n",
       "      <th>nominate_geo_mean_probability</th>\n",
       "      <th>nominate_number_of_votes</th>\n",
       "      <th>nominate_number_of_errors</th>\n",
       "      <th>conditional</th>\n",
       "      <th>nokken_poole_dim1</th>\n",
       "      <th>nokken_poole_dim2</th>\n",
       "    </tr>\n",
       "  </thead>\n",
       "  <tbody>\n",
       "    <tr>\n",
       "      <th>0</th>\n",
       "      <td>113</td>\n",
       "      <td>President</td>\n",
       "      <td>99911</td>\n",
       "      <td>99</td>\n",
       "      <td>0</td>\n",
       "      <td>USA</td>\n",
       "      <td>100</td>\n",
       "      <td>0</td>\n",
       "      <td>0</td>\n",
       "      <td>OBAMA, Barack</td>\n",
       "      <td>...</td>\n",
       "      <td>NaN</td>\n",
       "      <td>-0.358</td>\n",
       "      <td>-0.197</td>\n",
       "      <td>-41.04464</td>\n",
       "      <td>0.882</td>\n",
       "      <td>327</td>\n",
       "      <td>11</td>\n",
       "      <td>NaN</td>\n",
       "      <td>NaN</td>\n",
       "      <td>NaN</td>\n",
       "    </tr>\n",
       "  </tbody>\n",
       "</table>\n",
       "<p>1 rows × 22 columns</p>\n",
       "</div>"
      ],
      "text/plain": [
       "   congress    chamber  icpsr  state_icpsr  district_code state_abbrev  \\\n",
       "0       113  President  99911           99              0          USA   \n",
       "\n",
       "   party_code  occupancy  last_means        bioname  ... died  nominate_dim1  \\\n",
       "0         100          0           0  OBAMA, Barack  ...  NaN         -0.358   \n",
       "\n",
       "   nominate_dim2  nominate_log_likelihood  nominate_geo_mean_probability  \\\n",
       "0         -0.197                -41.04464                          0.882   \n",
       "\n",
       "   nominate_number_of_votes  nominate_number_of_errors conditional  \\\n",
       "0                       327                         11         NaN   \n",
       "\n",
       "  nokken_poole_dim1  nokken_poole_dim2  \n",
       "0               NaN                NaN  \n",
       "\n",
       "[1 rows x 22 columns]"
      ]
     },
     "execution_count": 12,
     "metadata": {},
     "output_type": "execute_result"
    }
   ],
   "source": [
    "# dataset of all members of the 113th congressional session\n",
    "# This data includes basic biographical information (state, district, party, name) and ideological scores for members of the selected congresses.\n",
    "\n",
    "h113m = pd.read_json('./datasets/HS113_members.json')\n",
    "h113m.head(1)"
   ]
  },
  {
   "cell_type": "code",
   "execution_count": 14,
   "id": "d48f2ff8-c3e2-45fd-94c4-fbc391d52a62",
   "metadata": {},
   "outputs": [
    {
     "data": {
      "text/html": [
       "<div>\n",
       "<style scoped>\n",
       "    .dataframe tbody tr th:only-of-type {\n",
       "        vertical-align: middle;\n",
       "    }\n",
       "\n",
       "    .dataframe tbody tr th {\n",
       "        vertical-align: top;\n",
       "    }\n",
       "\n",
       "    .dataframe thead th {\n",
       "        text-align: right;\n",
       "    }\n",
       "</style>\n",
       "<table border=\"1\" class=\"dataframe\">\n",
       "  <thead>\n",
       "    <tr style=\"text-align: right;\">\n",
       "      <th></th>\n",
       "      <th>congress</th>\n",
       "      <th>chamber</th>\n",
       "      <th>rollnumber</th>\n",
       "      <th>date</th>\n",
       "      <th>session</th>\n",
       "      <th>clerk_rollnumber</th>\n",
       "      <th>yea_count</th>\n",
       "      <th>nay_count</th>\n",
       "      <th>nominate_mid_1</th>\n",
       "      <th>nominate_mid_2</th>\n",
       "      <th>...</th>\n",
       "      <th>vote_desc</th>\n",
       "      <th>vote_question</th>\n",
       "      <th>dtl_desc</th>\n",
       "      <th>issue_codes</th>\n",
       "      <th>peltzman_codes</th>\n",
       "      <th>clausen_codes</th>\n",
       "      <th>crs_policy_area</th>\n",
       "      <th>crs_subjects</th>\n",
       "      <th>congress_url</th>\n",
       "      <th>source_documents</th>\n",
       "    </tr>\n",
       "  </thead>\n",
       "  <tbody>\n",
       "    <tr>\n",
       "      <th>0</th>\n",
       "      <td>113</td>\n",
       "      <td>House</td>\n",
       "      <td>1</td>\n",
       "      <td>2013-01-03</td>\n",
       "      <td>1</td>\n",
       "      <td>2</td>\n",
       "      <td>220</td>\n",
       "      <td>192</td>\n",
       "      <td>0.061</td>\n",
       "      <td>0.358</td>\n",
       "      <td>...</td>\n",
       "      <td>None</td>\n",
       "      <td>Election of the Speaker</td>\n",
       "      <td>NaN</td>\n",
       "      <td>[Election of the Speaker of the House]</td>\n",
       "      <td>[Internal Organization]</td>\n",
       "      <td>[Miscellaneous Policy]</td>\n",
       "      <td>None</td>\n",
       "      <td>None</td>\n",
       "      <td>None</td>\n",
       "      <td>NaN</td>\n",
       "    </tr>\n",
       "  </tbody>\n",
       "</table>\n",
       "<p>1 rows × 25 columns</p>\n",
       "</div>"
      ],
      "text/plain": [
       "   congress chamber  rollnumber       date  session  clerk_rollnumber  \\\n",
       "0       113   House           1 2013-01-03        1                 2   \n",
       "\n",
       "   yea_count  nay_count  nominate_mid_1  nominate_mid_2  ...  vote_desc  \\\n",
       "0        220        192           0.061           0.358  ...       None   \n",
       "\n",
       "             vote_question  dtl_desc                             issue_codes  \\\n",
       "0  Election of the Speaker       NaN  [Election of the Speaker of the House]   \n",
       "\n",
       "            peltzman_codes           clausen_codes crs_policy_area  \\\n",
       "0  [Internal Organization]  [Miscellaneous Policy]            None   \n",
       "\n",
       "   crs_subjects congress_url source_documents  \n",
       "0          None         None              NaN  \n",
       "\n",
       "[1 rows x 25 columns]"
      ]
     },
     "execution_count": 14,
     "metadata": {},
     "output_type": "execute_result"
    }
   ],
   "source": [
    "# dataset of all bills voted on in 113th session\n",
    "# This data includes the result and ideological parameters of every vote taken in the selected congresses and chambers. \n",
    "h113r = pd.read_json('./datasets/HS113_rollcalls.json')\n",
    "h113r.head(1)"
   ]
  },
  {
   "cell_type": "code",
   "execution_count": 15,
   "id": "bc27c9c9-bff3-4de6-80b4-de677d5d02e6",
   "metadata": {},
   "outputs": [
    {
     "data": {
      "text/html": [
       "<div>\n",
       "<style scoped>\n",
       "    .dataframe tbody tr th:only-of-type {\n",
       "        vertical-align: middle;\n",
       "    }\n",
       "\n",
       "    .dataframe tbody tr th {\n",
       "        vertical-align: top;\n",
       "    }\n",
       "\n",
       "    .dataframe thead th {\n",
       "        text-align: right;\n",
       "    }\n",
       "</style>\n",
       "<table border=\"1\" class=\"dataframe\">\n",
       "  <thead>\n",
       "    <tr style=\"text-align: right;\">\n",
       "      <th></th>\n",
       "      <th>congress</th>\n",
       "      <th>icpsr</th>\n",
       "      <th>cast_code</th>\n",
       "      <th>chamber</th>\n",
       "      <th>rollnumber</th>\n",
       "      <th>prob</th>\n",
       "    </tr>\n",
       "  </thead>\n",
       "  <tbody>\n",
       "    <tr>\n",
       "      <th>0</th>\n",
       "      <td>113</td>\n",
       "      <td>2605</td>\n",
       "      <td>7</td>\n",
       "      <td>House</td>\n",
       "      <td>1</td>\n",
       "      <td>100.0</td>\n",
       "    </tr>\n",
       "  </tbody>\n",
       "</table>\n",
       "</div>"
      ],
      "text/plain": [
       "   congress  icpsr  cast_code chamber  rollnumber   prob\n",
       "0       113   2605          7   House           1  100.0"
      ]
     },
     "execution_count": 15,
     "metadata": {},
     "output_type": "execute_result"
    }
   ],
   "source": [
    "# dataset of votes by each member\n",
    "h113v = pd.read_json('./datasets/HS113_votes.json')\n",
    "h113v.head(1)"
   ]
  },
  {
   "cell_type": "code",
   "execution_count": 6,
   "id": "e4cbdc9a-2865-42f5-ad72-bedae86d88f7",
   "metadata": {
    "scrolled": true
   },
   "outputs": [
    {
     "name": "stdout",
     "output_type": "stream",
     "text": [
      "<class 'pandas.core.frame.DataFrame'>\n",
      "RangeIndex: 1859 entries, 0 to 1858\n",
      "Data columns (total 25 columns):\n",
      " #   Column                   Non-Null Count  Dtype         \n",
      "---  ------                   --------------  -----         \n",
      " 0   congress                 1859 non-null   int64         \n",
      " 1   chamber                  1859 non-null   object        \n",
      " 2   rollnumber               1859 non-null   int64         \n",
      " 3   date                     1859 non-null   datetime64[ns]\n",
      " 4   session                  1859 non-null   int64         \n",
      " 5   clerk_rollnumber         1859 non-null   int64         \n",
      " 6   yea_count                1859 non-null   int64         \n",
      " 7   nay_count                1859 non-null   int64         \n",
      " 8   nominate_mid_1           1859 non-null   float64       \n",
      " 9   nominate_mid_2           1859 non-null   float64       \n",
      " 10  nominate_spread_1        1859 non-null   float64       \n",
      " 11  nominate_spread_2        1859 non-null   float64       \n",
      " 12  nominate_log_likelihood  1859 non-null   float64       \n",
      " 13  bill_number              1812 non-null   object        \n",
      " 14  vote_result              1859 non-null   object        \n",
      " 15  vote_desc                1353 non-null   object        \n",
      " 16  vote_question            1859 non-null   object        \n",
      " 17  dtl_desc                 0 non-null      float64       \n",
      " 18  issue_codes              1375 non-null   object        \n",
      " 19  peltzman_codes           1858 non-null   object        \n",
      " 20  clausen_codes            1859 non-null   object        \n",
      " 21  crs_policy_area          1440 non-null   object        \n",
      " 22  crs_subjects             1446 non-null   object        \n",
      " 23  congress_url             1812 non-null   object        \n",
      " 24  source_documents         0 non-null      float64       \n",
      "dtypes: datetime64[ns](1), float64(7), int64(6), object(11)\n",
      "memory usage: 363.2+ KB\n"
     ]
    }
   ],
   "source": [
    "h113r.info()"
   ]
  },
  {
   "cell_type": "code",
   "execution_count": 16,
   "id": "83b31944-f4d2-4774-9c3e-c731d035e106",
   "metadata": {
    "scrolled": true
   },
   "outputs": [
    {
     "data": {
      "text/html": [
       "<div>\n",
       "<style scoped>\n",
       "    .dataframe tbody tr th:only-of-type {\n",
       "        vertical-align: middle;\n",
       "    }\n",
       "\n",
       "    .dataframe tbody tr th {\n",
       "        vertical-align: top;\n",
       "    }\n",
       "\n",
       "    .dataframe thead th {\n",
       "        text-align: right;\n",
       "    }\n",
       "</style>\n",
       "<table border=\"1\" class=\"dataframe\">\n",
       "  <thead>\n",
       "    <tr style=\"text-align: right;\">\n",
       "      <th></th>\n",
       "      <th>bill.id</th>\n",
       "      <th>year</th>\n",
       "      <th>date</th>\n",
       "      <th>bill.str</th>\n",
       "      <th>bill.desc</th>\n",
       "      <th>congno</th>\n",
       "      <th>sponsors</th>\n",
       "      <th>cosponsors</th>\n",
       "      <th>tw.latent1</th>\n",
       "      <th>tw.abortion.and.social.conservatism</th>\n",
       "      <th>...</th>\n",
       "      <th>tw.healthcare</th>\n",
       "      <th>tw.higher.education</th>\n",
       "      <th>tw.immigration</th>\n",
       "      <th>tw.indian.affairs</th>\n",
       "      <th>tw.intelligence.and.surveillance</th>\n",
       "      <th>tw.labor</th>\n",
       "      <th>tw.law.courts.and.judges</th>\n",
       "      <th>tw.transportation</th>\n",
       "      <th>tw.veterans.affairs</th>\n",
       "      <th>tw.womens.issues</th>\n",
       "    </tr>\n",
       "  </thead>\n",
       "  <tbody>\n",
       "    <tr>\n",
       "      <th>0</th>\n",
       "      <td>113_hr83</td>\n",
       "      <td>2014</td>\n",
       "      <td>2014-12-13</td>\n",
       "      <td>H.R. 83|On the Motion to Proceed H.R. 83|To re...</td>\n",
       "      <td>To require the Secretary of the Interior to as...</td>\n",
       "      <td>113</td>\n",
       "      <td>NaN</td>\n",
       "      <td>NaN</td>\n",
       "      <td>0.471785</td>\n",
       "      <td>0.0</td>\n",
       "      <td>...</td>\n",
       "      <td>0.0</td>\n",
       "      <td>0.0</td>\n",
       "      <td>0.0</td>\n",
       "      <td>0.0</td>\n",
       "      <td>0.0</td>\n",
       "      <td>0.0</td>\n",
       "      <td>0.0</td>\n",
       "      <td>0.0</td>\n",
       "      <td>0.0</td>\n",
       "      <td>0.0</td>\n",
       "    </tr>\n",
       "    <tr>\n",
       "      <th>1</th>\n",
       "      <td>113_pn1070</td>\n",
       "      <td>2014</td>\n",
       "      <td>2014-12-13</td>\n",
       "      <td>PN1070|On the Motion to Proceed PN1070|Christo...</td>\n",
       "      <td>Christopher Smith, of Texas, to be an Assistan...</td>\n",
       "      <td>113</td>\n",
       "      <td>NaN</td>\n",
       "      <td>NaN</td>\n",
       "      <td>1.000000</td>\n",
       "      <td>0.0</td>\n",
       "      <td>...</td>\n",
       "      <td>0.0</td>\n",
       "      <td>0.0</td>\n",
       "      <td>0.0</td>\n",
       "      <td>0.0</td>\n",
       "      <td>0.0</td>\n",
       "      <td>0.0</td>\n",
       "      <td>0.0</td>\n",
       "      <td>0.0</td>\n",
       "      <td>0.0</td>\n",
       "      <td>0.0</td>\n",
       "    </tr>\n",
       "    <tr>\n",
       "      <th>2</th>\n",
       "      <td>113_pn1099</td>\n",
       "      <td>2014</td>\n",
       "      <td>2014-12-13</td>\n",
       "      <td>PN1099|On the Motion to Proceed PN1099|Frank A...</td>\n",
       "      <td>Frank A. Rose, of Massachusetts, to be an Assi...</td>\n",
       "      <td>113</td>\n",
       "      <td>NaN</td>\n",
       "      <td>NaN</td>\n",
       "      <td>1.000000</td>\n",
       "      <td>0.0</td>\n",
       "      <td>...</td>\n",
       "      <td>0.0</td>\n",
       "      <td>0.0</td>\n",
       "      <td>0.0</td>\n",
       "      <td>0.0</td>\n",
       "      <td>0.0</td>\n",
       "      <td>0.0</td>\n",
       "      <td>0.0</td>\n",
       "      <td>0.0</td>\n",
       "      <td>0.0</td>\n",
       "      <td>0.0</td>\n",
       "    </tr>\n",
       "    <tr>\n",
       "      <th>3</th>\n",
       "      <td>113_pn1160</td>\n",
       "      <td>2014</td>\n",
       "      <td>2014-12-13</td>\n",
       "      <td>PN1160|On the Motion to Proceed PN1160|Vivek H...</td>\n",
       "      <td>Vivek Hallegere Murthy, of Massachusetts, to b...</td>\n",
       "      <td>113</td>\n",
       "      <td>NaN</td>\n",
       "      <td>NaN</td>\n",
       "      <td>1.000000</td>\n",
       "      <td>0.0</td>\n",
       "      <td>...</td>\n",
       "      <td>0.0</td>\n",
       "      <td>0.0</td>\n",
       "      <td>0.0</td>\n",
       "      <td>0.0</td>\n",
       "      <td>0.0</td>\n",
       "      <td>0.0</td>\n",
       "      <td>0.0</td>\n",
       "      <td>0.0</td>\n",
       "      <td>0.0</td>\n",
       "      <td>0.0</td>\n",
       "    </tr>\n",
       "    <tr>\n",
       "      <th>4</th>\n",
       "      <td>113_pn1297</td>\n",
       "      <td>2014</td>\n",
       "      <td>2014-12-13</td>\n",
       "      <td>PN1297|On the Motion to Proceed PN1297|John Ch...</td>\n",
       "      <td>John Charles Cruden, of Virginia, to be an Ass...</td>\n",
       "      <td>113</td>\n",
       "      <td>NaN</td>\n",
       "      <td>NaN</td>\n",
       "      <td>1.000000</td>\n",
       "      <td>0.0</td>\n",
       "      <td>...</td>\n",
       "      <td>0.0</td>\n",
       "      <td>0.0</td>\n",
       "      <td>0.0</td>\n",
       "      <td>0.0</td>\n",
       "      <td>0.0</td>\n",
       "      <td>0.0</td>\n",
       "      <td>0.0</td>\n",
       "      <td>0.0</td>\n",
       "      <td>0.0</td>\n",
       "      <td>0.0</td>\n",
       "    </tr>\n",
       "  </tbody>\n",
       "</table>\n",
       "<p>5 rows × 33 columns</p>\n",
       "</div>"
      ],
      "text/plain": [
       "      bill.id  year        date  \\\n",
       "0    113_hr83  2014  2014-12-13   \n",
       "1  113_pn1070  2014  2014-12-13   \n",
       "2  113_pn1099  2014  2014-12-13   \n",
       "3  113_pn1160  2014  2014-12-13   \n",
       "4  113_pn1297  2014  2014-12-13   \n",
       "\n",
       "                                            bill.str  \\\n",
       "0  H.R. 83|On the Motion to Proceed H.R. 83|To re...   \n",
       "1  PN1070|On the Motion to Proceed PN1070|Christo...   \n",
       "2  PN1099|On the Motion to Proceed PN1099|Frank A...   \n",
       "3  PN1160|On the Motion to Proceed PN1160|Vivek H...   \n",
       "4  PN1297|On the Motion to Proceed PN1297|John Ch...   \n",
       "\n",
       "                                           bill.desc  congno sponsors  \\\n",
       "0  To require the Secretary of the Interior to as...     113      NaN   \n",
       "1  Christopher Smith, of Texas, to be an Assistan...     113      NaN   \n",
       "2  Frank A. Rose, of Massachusetts, to be an Assi...     113      NaN   \n",
       "3  Vivek Hallegere Murthy, of Massachusetts, to b...     113      NaN   \n",
       "4  John Charles Cruden, of Virginia, to be an Ass...     113      NaN   \n",
       "\n",
       "  cosponsors  tw.latent1  tw.abortion.and.social.conservatism  ...  \\\n",
       "0        NaN    0.471785                                  0.0  ...   \n",
       "1        NaN    1.000000                                  0.0  ...   \n",
       "2        NaN    1.000000                                  0.0  ...   \n",
       "3        NaN    1.000000                                  0.0  ...   \n",
       "4        NaN    1.000000                                  0.0  ...   \n",
       "\n",
       "   tw.healthcare  tw.higher.education  tw.immigration  tw.indian.affairs  \\\n",
       "0            0.0                  0.0             0.0                0.0   \n",
       "1            0.0                  0.0             0.0                0.0   \n",
       "2            0.0                  0.0             0.0                0.0   \n",
       "3            0.0                  0.0             0.0                0.0   \n",
       "4            0.0                  0.0             0.0                0.0   \n",
       "\n",
       "   tw.intelligence.and.surveillance  tw.labor  tw.law.courts.and.judges  \\\n",
       "0                               0.0       0.0                       0.0   \n",
       "1                               0.0       0.0                       0.0   \n",
       "2                               0.0       0.0                       0.0   \n",
       "3                               0.0       0.0                       0.0   \n",
       "4                               0.0       0.0                       0.0   \n",
       "\n",
       "   tw.transportation  tw.veterans.affairs  tw.womens.issues  \n",
       "0                0.0                  0.0               0.0  \n",
       "1                0.0                  0.0               0.0  \n",
       "2                0.0                  0.0               0.0  \n",
       "3                0.0                  0.0               0.0  \n",
       "4                0.0                  0.0               0.0  \n",
       "\n",
       "[5 rows x 33 columns]"
      ]
     },
     "execution_count": 16,
     "metadata": {},
     "output_type": "execute_result"
    }
   ],
   "source": [
    "# additional dataset from Stanford (DIME PLUS) giving ideological weight to each bill put forth from 2003-2014 \n",
    "bills_dime = pd.read_csv('./datasets/bills_db.csv')\n",
    "bills_dime.head(5)"
   ]
  },
  {
   "cell_type": "code",
   "execution_count": 24,
   "id": "5e880f6e-412d-4b75-9789-cf73b017bb1a",
   "metadata": {},
   "outputs": [],
   "source": [
    "# pulling ydata profile of DIME PLUS bills, member profiles, member votes, and voteview bills \n",
    "bill_profile = yd.ProfileReport(bills_dime, title=\"Congressional Bills from 2003 to 2014\")"
   ]
  },
  {
   "cell_type": "code",
   "execution_count": null,
   "id": "2f7876d6-f9d2-4cfb-9ce2-2f8416f658ae",
   "metadata": {},
   "outputs": [
    {
     "data": {
      "application/vnd.jupyter.widget-view+json": {
       "model_id": "8eba4b7b602f49088a242afdf56cc49f",
       "version_major": 2,
       "version_minor": 0
      },
      "text/plain": [
       "Summarize dataset:   0%|          | 0/5 [00:00<?, ?it/s]"
      ]
     },
     "metadata": {},
     "output_type": "display_data"
    },
    {
     "data": {
      "application/vnd.jupyter.widget-view+json": {
       "model_id": "518ccb8d6c4a47d08abe54d5944f93a9",
       "version_major": 2,
       "version_minor": 0
      },
      "text/plain": [
       "Generate report structure:   0%|          | 0/1 [00:00<?, ?it/s]"
      ]
     },
     "metadata": {},
     "output_type": "display_data"
    }
   ],
   "source": [
    "bill_profile.to_file(\"bill_ydata.html\")"
   ]
  },
  {
   "cell_type": "code",
   "execution_count": 23,
   "id": "1e64a61a-24d4-4ca5-95b2-ef90677abb97",
   "metadata": {},
   "outputs": [
    {
     "data": {
      "application/vnd.jupyter.widget-view+json": {
       "model_id": "24a760ab9fd140a79c9e445f5821ae46",
       "version_major": 2,
       "version_minor": 0
      },
      "text/plain": [
       "Summarize dataset:   0%|          | 0/5 [00:00<?, ?it/s]"
      ]
     },
     "metadata": {},
     "output_type": "display_data"
    },
    {
     "data": {
      "application/vnd.jupyter.widget-view+json": {
       "model_id": "32af0d16e5994fbda22ccac4560f4c64",
       "version_major": 2,
       "version_minor": 0
      },
      "text/plain": [
       "Generate report structure:   0%|          | 0/1 [00:00<?, ?it/s]"
      ]
     },
     "metadata": {},
     "output_type": "display_data"
    },
    {
     "data": {
      "application/vnd.jupyter.widget-view+json": {
       "model_id": "4e06aa8d5983442aa5d9a4c9f417e37c",
       "version_major": 2,
       "version_minor": 0
      },
      "text/plain": [
       "Render HTML:   0%|          | 0/1 [00:00<?, ?it/s]"
      ]
     },
     "metadata": {},
     "output_type": "display_data"
    },
    {
     "data": {
      "application/vnd.jupyter.widget-view+json": {
       "model_id": "41e1b22ec4e74efd8678c26c92c63b5f",
       "version_major": 2,
       "version_minor": 0
      },
      "text/plain": [
       "Export report to file:   0%|          | 0/1 [00:00<?, ?it/s]"
      ]
     },
     "metadata": {},
     "output_type": "display_data"
    }
   ],
   "source": [
    "member_profile = yd.ProfileReport(h113m, title=\"Congressional Members in 113th Session\")\n",
    "member_profile.to_file(\"member_ydata.html\")"
   ]
  },
  {
   "cell_type": "code",
   "execution_count": 25,
   "id": "fc6b09e0-60f8-43a9-916f-d53c959b2290",
   "metadata": {},
   "outputs": [
    {
     "data": {
      "application/vnd.jupyter.widget-view+json": {
       "model_id": "4af3bd1b9f4b47edbb831657c75efd76",
       "version_major": 2,
       "version_minor": 0
      },
      "text/plain": [
       "Summarize dataset:   0%|          | 0/5 [00:00<?, ?it/s]"
      ]
     },
     "metadata": {},
     "output_type": "display_data"
    },
    {
     "data": {
      "application/vnd.jupyter.widget-view+json": {
       "model_id": "12c5f665523f46fd89df12b47e34e1a3",
       "version_major": 2,
       "version_minor": 0
      },
      "text/plain": [
       "Generate report structure:   0%|          | 0/1 [00:00<?, ?it/s]"
      ]
     },
     "metadata": {},
     "output_type": "display_data"
    },
    {
     "data": {
      "application/vnd.jupyter.widget-view+json": {
       "model_id": "d23be7c81dfb47969936875384708c71",
       "version_major": 2,
       "version_minor": 0
      },
      "text/plain": [
       "Render HTML:   0%|          | 0/1 [00:00<?, ?it/s]"
      ]
     },
     "metadata": {},
     "output_type": "display_data"
    },
    {
     "data": {
      "application/vnd.jupyter.widget-view+json": {
       "model_id": "1168410a48144739ac3cad4268eb09d6",
       "version_major": 2,
       "version_minor": 0
      },
      "text/plain": [
       "Export report to file:   0%|          | 0/1 [00:00<?, ?it/s]"
      ]
     },
     "metadata": {},
     "output_type": "display_data"
    }
   ],
   "source": [
    "rollcall_profile = yd.ProfileReport(h113r, title=\"Congressional Roll Call Votes in 113th Session\")\n",
    "rollcall_profile.to_file(\"rollcall_ydata.html\")"
   ]
  },
  {
   "cell_type": "code",
   "execution_count": 26,
   "id": "bb9de6a9-9e8d-4f3c-be4d-0ccce53f8c03",
   "metadata": {},
   "outputs": [
    {
     "data": {
      "application/vnd.jupyter.widget-view+json": {
       "model_id": "8520c6fa0e154bf08a396a9744aed179",
       "version_major": 2,
       "version_minor": 0
      },
      "text/plain": [
       "Summarize dataset:   0%|          | 0/5 [00:00<?, ?it/s]"
      ]
     },
     "metadata": {},
     "output_type": "display_data"
    },
    {
     "data": {
      "application/vnd.jupyter.widget-view+json": {
       "model_id": "db52cd63512040ac801fc462075258ef",
       "version_major": 2,
       "version_minor": 0
      },
      "text/plain": [
       "Generate report structure:   0%|          | 0/1 [00:00<?, ?it/s]"
      ]
     },
     "metadata": {},
     "output_type": "display_data"
    },
    {
     "data": {
      "application/vnd.jupyter.widget-view+json": {
       "model_id": "d7a2dd898db04d0d8ce8fc411a416a55",
       "version_major": 2,
       "version_minor": 0
      },
      "text/plain": [
       "Render HTML:   0%|          | 0/1 [00:00<?, ?it/s]"
      ]
     },
     "metadata": {},
     "output_type": "display_data"
    },
    {
     "data": {
      "application/vnd.jupyter.widget-view+json": {
       "model_id": "050ad1c6415e4ec2a53020a09013c29b",
       "version_major": 2,
       "version_minor": 0
      },
      "text/plain": [
       "Export report to file:   0%|          | 0/1 [00:00<?, ?it/s]"
      ]
     },
     "metadata": {},
     "output_type": "display_data"
    }
   ],
   "source": [
    "voting_profile = yd.ProfileReport(h113m, title=\"Congressional Votes by Member in 113th Session\")\n",
    "voting_profile.to_file(\"voting_ydata.html\")"
   ]
  },
  {
   "cell_type": "code",
   "execution_count": null,
   "id": "f1645e8b-0ba7-4386-8973-25dd86b53014",
   "metadata": {},
   "outputs": [],
   "source": []
  }
 ],
 "metadata": {
  "kernelspec": {
   "display_name": "Python 3 (ipykernel)",
   "language": "python",
   "name": "python3"
  },
  "language_info": {
   "codemirror_mode": {
    "name": "ipython",
    "version": 3
   },
   "file_extension": ".py",
   "mimetype": "text/x-python",
   "name": "python",
   "nbconvert_exporter": "python",
   "pygments_lexer": "ipython3",
   "version": "3.10.12"
  }
 },
 "nbformat": 4,
 "nbformat_minor": 5
}
