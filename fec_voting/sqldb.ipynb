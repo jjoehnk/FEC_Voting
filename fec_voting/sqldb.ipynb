{
 "cells": [
  {
   "cell_type": "markdown",
   "id": "98639513-4b1c-42a1-bb01-560149bc2b1d",
   "metadata": {},
   "source": [
    "# US Representative Voting Patterns and Funding Sources\n",
    "\n",
    "Creating a SQLite Database\n",
    "\n",
    "Tables created:\n",
    "\n",
    "1. DIME PLUS Congressional Bills\n",
    "2. Cast Codes\n",
    "3. FEC Committees\n",
    "4. Party Codes\n",
    "5. Member Descriptions\n",
    "6. Roll Call\n",
    "7. Member Votes"
   ]
  },
  {
   "cell_type": "code",
   "execution_count": 12,
   "id": "98a521a1-df1f-496c-af01-b401abbbac64",
   "metadata": {
    "scrolled": true
   },
   "outputs": [],
   "source": [
    "import sqlite3 as sq\n",
    "import pandas as pd"
   ]
  },
  {
   "cell_type": "markdown",
   "id": "3451e8ab-9f08-4011-b2ce-7e875a30359d",
   "metadata": {
    "jp-MarkdownHeadingCollapsed": true
   },
   "source": [
    "#### DIME PLUS Congressional Bills"
   ]
  },
  {
   "cell_type": "code",
   "execution_count": 33,
   "id": "4d7cb94d-2831-4bc8-908d-49f8f45b35dc",
   "metadata": {
    "scrolled": true
   },
   "outputs": [
    {
     "data": {
      "text/html": [
       "<div>\n",
       "<style scoped>\n",
       "    .dataframe tbody tr th:only-of-type {\n",
       "        vertical-align: middle;\n",
       "    }\n",
       "\n",
       "    .dataframe tbody tr th {\n",
       "        vertical-align: top;\n",
       "    }\n",
       "\n",
       "    .dataframe thead th {\n",
       "        text-align: right;\n",
       "    }\n",
       "</style>\n",
       "<table border=\"1\" class=\"dataframe\">\n",
       "  <thead>\n",
       "    <tr style=\"text-align: right;\">\n",
       "      <th></th>\n",
       "      <th>bill_id</th>\n",
       "      <th>year</th>\n",
       "      <th>date</th>\n",
       "      <th>bill_str</th>\n",
       "      <th>bill_desc</th>\n",
       "      <th>congno</th>\n",
       "      <th>sponsors</th>\n",
       "      <th>cosponsors</th>\n",
       "      <th>tw_latent1</th>\n",
       "      <th>tw_abortion_and_social_conservatism</th>\n",
       "      <th>...</th>\n",
       "      <th>tw_healthcare</th>\n",
       "      <th>tw_higher_education</th>\n",
       "      <th>tw_immigration</th>\n",
       "      <th>tw_indian_affairs</th>\n",
       "      <th>tw_intelligence_and_surveillance</th>\n",
       "      <th>tw_labor</th>\n",
       "      <th>tw_law_courts_and_judges</th>\n",
       "      <th>tw_transportation</th>\n",
       "      <th>tw_veterans_affairs</th>\n",
       "      <th>tw_womens_issues</th>\n",
       "    </tr>\n",
       "  </thead>\n",
       "  <tbody>\n",
       "    <tr>\n",
       "      <th>0</th>\n",
       "      <td>hr83</td>\n",
       "      <td>2014</td>\n",
       "      <td>12/13/2014</td>\n",
       "      <td>H.R. 83|On the Motion to Proceed H.R. 83|To re...</td>\n",
       "      <td>To require the Secretary of the Interior to as...</td>\n",
       "      <td>113</td>\n",
       "      <td>NaN</td>\n",
       "      <td>NaN</td>\n",
       "      <td>0.471785</td>\n",
       "      <td>0.000000</td>\n",
       "      <td>...</td>\n",
       "      <td>0.000000</td>\n",
       "      <td>0.0</td>\n",
       "      <td>0.0</td>\n",
       "      <td>0.000000</td>\n",
       "      <td>0.0</td>\n",
       "      <td>0.0</td>\n",
       "      <td>0.000000</td>\n",
       "      <td>0.0</td>\n",
       "      <td>0.0</td>\n",
       "      <td>0.0</td>\n",
       "    </tr>\n",
       "    <tr>\n",
       "      <th>1</th>\n",
       "      <td>pn1070</td>\n",
       "      <td>2014</td>\n",
       "      <td>12/13/2014</td>\n",
       "      <td>PN1070|On the Motion to Proceed PN1070|Christo...</td>\n",
       "      <td>Christopher Smith, of Texas, to be an Assistan...</td>\n",
       "      <td>113</td>\n",
       "      <td>NaN</td>\n",
       "      <td>NaN</td>\n",
       "      <td>1.000000</td>\n",
       "      <td>0.000000</td>\n",
       "      <td>...</td>\n",
       "      <td>0.000000</td>\n",
       "      <td>0.0</td>\n",
       "      <td>0.0</td>\n",
       "      <td>0.000000</td>\n",
       "      <td>0.0</td>\n",
       "      <td>0.0</td>\n",
       "      <td>0.000000</td>\n",
       "      <td>0.0</td>\n",
       "      <td>0.0</td>\n",
       "      <td>0.0</td>\n",
       "    </tr>\n",
       "    <tr>\n",
       "      <th>2</th>\n",
       "      <td>pn1099</td>\n",
       "      <td>2014</td>\n",
       "      <td>12/13/2014</td>\n",
       "      <td>PN1099|On the Motion to Proceed PN1099|Frank A...</td>\n",
       "      <td>Frank A. Rose, of Massachusetts, to be an Assi...</td>\n",
       "      <td>113</td>\n",
       "      <td>NaN</td>\n",
       "      <td>NaN</td>\n",
       "      <td>1.000000</td>\n",
       "      <td>0.000000</td>\n",
       "      <td>...</td>\n",
       "      <td>0.000000</td>\n",
       "      <td>0.0</td>\n",
       "      <td>0.0</td>\n",
       "      <td>0.000000</td>\n",
       "      <td>0.0</td>\n",
       "      <td>0.0</td>\n",
       "      <td>0.000000</td>\n",
       "      <td>0.0</td>\n",
       "      <td>0.0</td>\n",
       "      <td>0.0</td>\n",
       "    </tr>\n",
       "    <tr>\n",
       "      <th>3</th>\n",
       "      <td>pn1160</td>\n",
       "      <td>2014</td>\n",
       "      <td>12/13/2014</td>\n",
       "      <td>PN1160|On the Motion to Proceed PN1160|Vivek H...</td>\n",
       "      <td>Vivek Hallegere Murthy, of Massachusetts, to b...</td>\n",
       "      <td>113</td>\n",
       "      <td>NaN</td>\n",
       "      <td>NaN</td>\n",
       "      <td>1.000000</td>\n",
       "      <td>0.000000</td>\n",
       "      <td>...</td>\n",
       "      <td>0.000000</td>\n",
       "      <td>0.0</td>\n",
       "      <td>0.0</td>\n",
       "      <td>0.000000</td>\n",
       "      <td>0.0</td>\n",
       "      <td>0.0</td>\n",
       "      <td>0.000000</td>\n",
       "      <td>0.0</td>\n",
       "      <td>0.0</td>\n",
       "      <td>0.0</td>\n",
       "    </tr>\n",
       "    <tr>\n",
       "      <th>4</th>\n",
       "      <td>pn1297</td>\n",
       "      <td>2014</td>\n",
       "      <td>12/13/2014</td>\n",
       "      <td>PN1297|On the Motion to Proceed PN1297|John Ch...</td>\n",
       "      <td>John Charles Cruden, of Virginia, to be an Ass...</td>\n",
       "      <td>113</td>\n",
       "      <td>NaN</td>\n",
       "      <td>NaN</td>\n",
       "      <td>1.000000</td>\n",
       "      <td>0.000000</td>\n",
       "      <td>...</td>\n",
       "      <td>0.000000</td>\n",
       "      <td>0.0</td>\n",
       "      <td>0.0</td>\n",
       "      <td>0.000000</td>\n",
       "      <td>0.0</td>\n",
       "      <td>0.0</td>\n",
       "      <td>0.000000</td>\n",
       "      <td>0.0</td>\n",
       "      <td>0.0</td>\n",
       "      <td>0.0</td>\n",
       "    </tr>\n",
       "    <tr>\n",
       "      <th>...</th>\n",
       "      <td>...</td>\n",
       "      <td>...</td>\n",
       "      <td>...</td>\n",
       "      <td>...</td>\n",
       "      <td>...</td>\n",
       "      <td>...</td>\n",
       "      <td>...</td>\n",
       "      <td>...</td>\n",
       "      <td>...</td>\n",
       "      <td>...</td>\n",
       "      <td>...</td>\n",
       "      <td>...</td>\n",
       "      <td>...</td>\n",
       "      <td>...</td>\n",
       "      <td>...</td>\n",
       "      <td>...</td>\n",
       "      <td>...</td>\n",
       "      <td>...</td>\n",
       "      <td>...</td>\n",
       "      <td>...</td>\n",
       "      <td>...</td>\n",
       "    </tr>\n",
       "    <tr>\n",
       "      <th>613</th>\n",
       "      <td>hres23</td>\n",
       "      <td>2013</td>\n",
       "      <td>1/15/2013</td>\n",
       "      <td>H RES 23|On Ordering the Previous Question|Pro...</td>\n",
       "      <td>Providing for consideration of the bill (H.R. ...</td>\n",
       "      <td>113</td>\n",
       "      <td>cand910</td>\n",
       "      <td>NaN</td>\n",
       "      <td>1.000000</td>\n",
       "      <td>0.000000</td>\n",
       "      <td>...</td>\n",
       "      <td>0.000000</td>\n",
       "      <td>0.0</td>\n",
       "      <td>0.0</td>\n",
       "      <td>0.000000</td>\n",
       "      <td>0.0</td>\n",
       "      <td>0.0</td>\n",
       "      <td>0.000000</td>\n",
       "      <td>0.0</td>\n",
       "      <td>0.0</td>\n",
       "      <td>0.0</td>\n",
       "    </tr>\n",
       "    <tr>\n",
       "      <th>614</th>\n",
       "      <td>adjourn</td>\n",
       "      <td>2013</td>\n",
       "      <td>1/14/2013</td>\n",
       "      <td>ADJOURN|On Motion to Adjourn|</td>\n",
       "      <td>NaN</td>\n",
       "      <td>113</td>\n",
       "      <td>NaN</td>\n",
       "      <td>NaN</td>\n",
       "      <td>1.000000</td>\n",
       "      <td>0.000000</td>\n",
       "      <td>...</td>\n",
       "      <td>0.000000</td>\n",
       "      <td>0.0</td>\n",
       "      <td>0.0</td>\n",
       "      <td>0.000000</td>\n",
       "      <td>0.0</td>\n",
       "      <td>0.0</td>\n",
       "      <td>0.000000</td>\n",
       "      <td>0.0</td>\n",
       "      <td>0.0</td>\n",
       "      <td>0.0</td>\n",
       "    </tr>\n",
       "    <tr>\n",
       "      <th>615</th>\n",
       "      <td>hr219</td>\n",
       "      <td>2013</td>\n",
       "      <td>1/14/2013</td>\n",
       "      <td>H R 219|On Motion to Suspend the Rules and Pas...</td>\n",
       "      <td>To improve and streamline disaster assistance ...</td>\n",
       "      <td>113</td>\n",
       "      <td>cand1100</td>\n",
       "      <td>cand1376|cand1316|cand854|cand359|cand904|cand...</td>\n",
       "      <td>0.764401</td>\n",
       "      <td>0.000000</td>\n",
       "      <td>...</td>\n",
       "      <td>0.000000</td>\n",
       "      <td>0.0</td>\n",
       "      <td>0.0</td>\n",
       "      <td>0.000029</td>\n",
       "      <td>0.0</td>\n",
       "      <td>0.0</td>\n",
       "      <td>0.000061</td>\n",
       "      <td>0.0</td>\n",
       "      <td>0.0</td>\n",
       "      <td>0.0</td>\n",
       "    </tr>\n",
       "    <tr>\n",
       "      <th>616</th>\n",
       "      <td>hres5</td>\n",
       "      <td>2013</td>\n",
       "      <td>1/3/2013</td>\n",
       "      <td>H RES 5|On Motion to Table the Motion to Refer...</td>\n",
       "      <td>Adopting rules for the One Hundred Thirteenth ...</td>\n",
       "      <td>113</td>\n",
       "      <td>cand864</td>\n",
       "      <td>NaN</td>\n",
       "      <td>0.570199</td>\n",
       "      <td>0.009365</td>\n",
       "      <td>...</td>\n",
       "      <td>0.020559</td>\n",
       "      <td>0.0</td>\n",
       "      <td>0.0</td>\n",
       "      <td>0.000000</td>\n",
       "      <td>0.0</td>\n",
       "      <td>0.0</td>\n",
       "      <td>0.004542</td>\n",
       "      <td>0.0</td>\n",
       "      <td>0.0</td>\n",
       "      <td>0.0</td>\n",
       "    </tr>\n",
       "    <tr>\n",
       "      <th>617</th>\n",
       "      <td>quorum</td>\n",
       "      <td>2013</td>\n",
       "      <td>1/3/2013</td>\n",
       "      <td>QUORUM|Call of the House|</td>\n",
       "      <td>NaN</td>\n",
       "      <td>113</td>\n",
       "      <td>NaN</td>\n",
       "      <td>NaN</td>\n",
       "      <td>1.000000</td>\n",
       "      <td>0.000000</td>\n",
       "      <td>...</td>\n",
       "      <td>0.000000</td>\n",
       "      <td>0.0</td>\n",
       "      <td>0.0</td>\n",
       "      <td>0.000000</td>\n",
       "      <td>0.0</td>\n",
       "      <td>0.0</td>\n",
       "      <td>0.000000</td>\n",
       "      <td>0.0</td>\n",
       "      <td>0.0</td>\n",
       "      <td>0.0</td>\n",
       "    </tr>\n",
       "  </tbody>\n",
       "</table>\n",
       "<p>618 rows × 33 columns</p>\n",
       "</div>"
      ],
      "text/plain": [
       "     bill_id  year        date  \\\n",
       "0       hr83  2014  12/13/2014   \n",
       "1     pn1070  2014  12/13/2014   \n",
       "2     pn1099  2014  12/13/2014   \n",
       "3     pn1160  2014  12/13/2014   \n",
       "4     pn1297  2014  12/13/2014   \n",
       "..       ...   ...         ...   \n",
       "613   hres23  2013   1/15/2013   \n",
       "614  adjourn  2013   1/14/2013   \n",
       "615    hr219  2013   1/14/2013   \n",
       "616    hres5  2013    1/3/2013   \n",
       "617   quorum  2013    1/3/2013   \n",
       "\n",
       "                                              bill_str  \\\n",
       "0    H.R. 83|On the Motion to Proceed H.R. 83|To re...   \n",
       "1    PN1070|On the Motion to Proceed PN1070|Christo...   \n",
       "2    PN1099|On the Motion to Proceed PN1099|Frank A...   \n",
       "3    PN1160|On the Motion to Proceed PN1160|Vivek H...   \n",
       "4    PN1297|On the Motion to Proceed PN1297|John Ch...   \n",
       "..                                                 ...   \n",
       "613  H RES 23|On Ordering the Previous Question|Pro...   \n",
       "614                      ADJOURN|On Motion to Adjourn|   \n",
       "615  H R 219|On Motion to Suspend the Rules and Pas...   \n",
       "616  H RES 5|On Motion to Table the Motion to Refer...   \n",
       "617                          QUORUM|Call of the House|   \n",
       "\n",
       "                                             bill_desc  congno  sponsors  \\\n",
       "0    To require the Secretary of the Interior to as...     113       NaN   \n",
       "1    Christopher Smith, of Texas, to be an Assistan...     113       NaN   \n",
       "2    Frank A. Rose, of Massachusetts, to be an Assi...     113       NaN   \n",
       "3    Vivek Hallegere Murthy, of Massachusetts, to b...     113       NaN   \n",
       "4    John Charles Cruden, of Virginia, to be an Ass...     113       NaN   \n",
       "..                                                 ...     ...       ...   \n",
       "613  Providing for consideration of the bill (H.R. ...     113   cand910   \n",
       "614                                                NaN     113       NaN   \n",
       "615  To improve and streamline disaster assistance ...     113  cand1100   \n",
       "616  Adopting rules for the One Hundred Thirteenth ...     113   cand864   \n",
       "617                                                NaN     113       NaN   \n",
       "\n",
       "                                            cosponsors  tw_latent1  \\\n",
       "0                                                  NaN    0.471785   \n",
       "1                                                  NaN    1.000000   \n",
       "2                                                  NaN    1.000000   \n",
       "3                                                  NaN    1.000000   \n",
       "4                                                  NaN    1.000000   \n",
       "..                                                 ...         ...   \n",
       "613                                                NaN    1.000000   \n",
       "614                                                NaN    1.000000   \n",
       "615  cand1376|cand1316|cand854|cand359|cand904|cand...    0.764401   \n",
       "616                                                NaN    0.570199   \n",
       "617                                                NaN    1.000000   \n",
       "\n",
       "     tw_abortion_and_social_conservatism  ...  tw_healthcare  \\\n",
       "0                               0.000000  ...       0.000000   \n",
       "1                               0.000000  ...       0.000000   \n",
       "2                               0.000000  ...       0.000000   \n",
       "3                               0.000000  ...       0.000000   \n",
       "4                               0.000000  ...       0.000000   \n",
       "..                                   ...  ...            ...   \n",
       "613                             0.000000  ...       0.000000   \n",
       "614                             0.000000  ...       0.000000   \n",
       "615                             0.000000  ...       0.000000   \n",
       "616                             0.009365  ...       0.020559   \n",
       "617                             0.000000  ...       0.000000   \n",
       "\n",
       "     tw_higher_education  tw_immigration  tw_indian_affairs  \\\n",
       "0                    0.0             0.0           0.000000   \n",
       "1                    0.0             0.0           0.000000   \n",
       "2                    0.0             0.0           0.000000   \n",
       "3                    0.0             0.0           0.000000   \n",
       "4                    0.0             0.0           0.000000   \n",
       "..                   ...             ...                ...   \n",
       "613                  0.0             0.0           0.000000   \n",
       "614                  0.0             0.0           0.000000   \n",
       "615                  0.0             0.0           0.000029   \n",
       "616                  0.0             0.0           0.000000   \n",
       "617                  0.0             0.0           0.000000   \n",
       "\n",
       "     tw_intelligence_and_surveillance  tw_labor  tw_law_courts_and_judges  \\\n",
       "0                                 0.0       0.0                  0.000000   \n",
       "1                                 0.0       0.0                  0.000000   \n",
       "2                                 0.0       0.0                  0.000000   \n",
       "3                                 0.0       0.0                  0.000000   \n",
       "4                                 0.0       0.0                  0.000000   \n",
       "..                                ...       ...                       ...   \n",
       "613                               0.0       0.0                  0.000000   \n",
       "614                               0.0       0.0                  0.000000   \n",
       "615                               0.0       0.0                  0.000061   \n",
       "616                               0.0       0.0                  0.004542   \n",
       "617                               0.0       0.0                  0.000000   \n",
       "\n",
       "     tw_transportation  tw_veterans_affairs  tw_womens_issues  \n",
       "0                  0.0                  0.0               0.0  \n",
       "1                  0.0                  0.0               0.0  \n",
       "2                  0.0                  0.0               0.0  \n",
       "3                  0.0                  0.0               0.0  \n",
       "4                  0.0                  0.0               0.0  \n",
       "..                 ...                  ...               ...  \n",
       "613                0.0                  0.0               0.0  \n",
       "614                0.0                  0.0               0.0  \n",
       "615                0.0                  0.0               0.0  \n",
       "616                0.0                  0.0               0.0  \n",
       "617                0.0                  0.0               0.0  \n",
       "\n",
       "[618 rows x 33 columns]"
      ]
     },
     "execution_count": 33,
     "metadata": {},
     "output_type": "execute_result"
    }
   ],
   "source": [
    "df = pd.read_csv('./datasets/bills_dime.csv')\n",
    "df"
   ]
  },
  {
   "cell_type": "code",
   "execution_count": 34,
   "id": "63c6452d-e581-451a-b4a5-d088b7a77403",
   "metadata": {},
   "outputs": [
    {
     "data": {
      "text/plain": [
       "Index(['bill_id', 'year', 'date', 'bill_str', 'bill_desc', 'congno',\n",
       "       'sponsors', 'cosponsors', 'tw_latent1',\n",
       "       'tw_abortion_and_social_conservatism', 'tw_agriculture',\n",
       "       'tw_banking_and_finance', 'tw_civil_rights',\n",
       "       'tw_congress_and_procedural', 'tw_crime',\n",
       "       'tw_defense_and_foreign_policy', 'tw_economy', 'tw_education',\n",
       "       'tw_energy', 'tw_environment', 'tw_fair_elections',\n",
       "       'tw_federal_agencies_and_gov_regulation', 'tw_guns', 'tw_healthcare',\n",
       "       'tw_higher_education', 'tw_immigration', 'tw_indian_affairs',\n",
       "       'tw_intelligence_and_surveillance', 'tw_labor',\n",
       "       'tw_law_courts_and_judges', 'tw_transportation', 'tw_veterans_affairs',\n",
       "       'tw_womens_issues'],\n",
       "      dtype='object')"
      ]
     },
     "execution_count": 34,
     "metadata": {},
     "output_type": "execute_result"
    }
   ],
   "source": [
    "df.columns"
   ]
  },
  {
   "cell_type": "code",
   "execution_count": 35,
   "id": "372a1bd6-8779-45dc-9e2b-4cd432d9d4b6",
   "metadata": {},
   "outputs": [
    {
     "data": {
      "text/plain": [
       "(618, 33)"
      ]
     },
     "execution_count": 35,
     "metadata": {},
     "output_type": "execute_result"
    }
   ],
   "source": [
    "df.shape"
   ]
  },
  {
   "cell_type": "code",
   "execution_count": 36,
   "id": "71c6e6cf-743b-4d17-9652-e619e584f292",
   "metadata": {},
   "outputs": [],
   "source": [
    "conn = sq.connect('congress.db') # open connection to file"
   ]
  },
  {
   "cell_type": "code",
   "execution_count": 37,
   "id": "0730cbcd-fa5a-4f19-9c43-9c20b1af730e",
   "metadata": {},
   "outputs": [
    {
     "data": {
      "text/plain": [
       "618"
      ]
     },
     "execution_count": 37,
     "metadata": {},
     "output_type": "execute_result"
    }
   ],
   "source": [
    "df.to_sql(name='bills_dime', con=conn, if_exists='replace', index=False)"
   ]
  },
  {
   "cell_type": "markdown",
   "id": "be3caccd-4871-471d-814e-ef0459e1ef37",
   "metadata": {
    "jp-MarkdownHeadingCollapsed": true
   },
   "source": [
    "#### Cast Codes"
   ]
  },
  {
   "cell_type": "code",
   "execution_count": 7,
   "id": "86308144-fe77-4d7c-a22d-55b4f9f88a5d",
   "metadata": {},
   "outputs": [],
   "source": [
    "df2 = pd.read_csv('./datasets/cast_codes.csv')"
   ]
  },
  {
   "cell_type": "code",
   "execution_count": 9,
   "id": "3df93e04-4ab2-4fdb-be7e-7da536f85d85",
   "metadata": {},
   "outputs": [
    {
     "data": {
      "text/plain": [
       "(10, 3)"
      ]
     },
     "execution_count": 9,
     "metadata": {},
     "output_type": "execute_result"
    }
   ],
   "source": [
    "df2.shape"
   ]
  },
  {
   "cell_type": "code",
   "execution_count": 10,
   "id": "eeacb205-f5e4-4aff-8dc9-688cebc9d477",
   "metadata": {},
   "outputs": [
    {
     "data": {
      "text/html": [
       "<div>\n",
       "<style scoped>\n",
       "    .dataframe tbody tr th:only-of-type {\n",
       "        vertical-align: middle;\n",
       "    }\n",
       "\n",
       "    .dataframe tbody tr th {\n",
       "        vertical-align: top;\n",
       "    }\n",
       "\n",
       "    .dataframe thead th {\n",
       "        text-align: right;\n",
       "    }\n",
       "</style>\n",
       "<table border=\"1\" class=\"dataframe\">\n",
       "  <thead>\n",
       "    <tr style=\"text-align: right;\">\n",
       "      <th></th>\n",
       "      <th>cast_code</th>\n",
       "      <th>description</th>\n",
       "      <th>simplified_grouping</th>\n",
       "    </tr>\n",
       "  </thead>\n",
       "  <tbody>\n",
       "    <tr>\n",
       "      <th>0</th>\n",
       "      <td>0</td>\n",
       "      <td>Not a member of the chamber when this vote was...</td>\n",
       "      <td>NaN</td>\n",
       "    </tr>\n",
       "  </tbody>\n",
       "</table>\n",
       "</div>"
      ],
      "text/plain": [
       "   cast_code                                        description  \\\n",
       "0          0  Not a member of the chamber when this vote was...   \n",
       "\n",
       "  simplified_grouping  \n",
       "0                 NaN  "
      ]
     },
     "execution_count": 10,
     "metadata": {},
     "output_type": "execute_result"
    }
   ],
   "source": [
    "df2.head(1)"
   ]
  },
  {
   "cell_type": "code",
   "execution_count": 11,
   "id": "3eb78dc0-7466-43ad-ab0e-11000ab41696",
   "metadata": {},
   "outputs": [
    {
     "data": {
      "text/plain": [
       "10"
      ]
     },
     "execution_count": 11,
     "metadata": {},
     "output_type": "execute_result"
    }
   ],
   "source": [
    "df2.to_sql(name='cast_codes', con=conn, if_exists='replace', index=False)"
   ]
  },
  {
   "cell_type": "markdown",
   "id": "eb075d5c-1dad-4e21-a603-76b57b571c61",
   "metadata": {
    "jp-MarkdownHeadingCollapsed": true
   },
   "source": [
    "#### FEC Committees"
   ]
  },
  {
   "cell_type": "code",
   "execution_count": 14,
   "id": "74700711-e2f7-4b65-9aec-1c9ac2d528ca",
   "metadata": {},
   "outputs": [],
   "source": [
    "df3 = pd.read_csv('./datasets/committees.csv')"
   ]
  },
  {
   "cell_type": "code",
   "execution_count": 15,
   "id": "902830e6-c4ac-4641-b595-a4551aa8dc56",
   "metadata": {},
   "outputs": [
    {
     "data": {
      "text/plain": [
       "(991, 7)"
      ]
     },
     "execution_count": 15,
     "metadata": {},
     "output_type": "execute_result"
    }
   ],
   "source": [
    "df3.shape"
   ]
  },
  {
   "cell_type": "code",
   "execution_count": 16,
   "id": "ee5d684c-26ee-4031-8577-add2af67dc53",
   "metadata": {},
   "outputs": [
    {
     "data": {
      "text/html": [
       "<div>\n",
       "<style scoped>\n",
       "    .dataframe tbody tr th:only-of-type {\n",
       "        vertical-align: middle;\n",
       "    }\n",
       "\n",
       "    .dataframe tbody tr th {\n",
       "        vertical-align: top;\n",
       "    }\n",
       "\n",
       "    .dataframe thead th {\n",
       "        text-align: right;\n",
       "    }\n",
       "</style>\n",
       "<table border=\"1\" class=\"dataframe\">\n",
       "  <thead>\n",
       "    <tr style=\"text-align: right;\">\n",
       "      <th></th>\n",
       "      <th>affiliated_committee_name</th>\n",
       "      <th>committee_id</th>\n",
       "      <th>committee_type</th>\n",
       "      <th>designation_type</th>\n",
       "      <th>name</th>\n",
       "      <th>organization_type</th>\n",
       "      <th>state</th>\n",
       "    </tr>\n",
       "  </thead>\n",
       "  <tbody>\n",
       "    <tr>\n",
       "      <th>0</th>\n",
       "      <td>3M COMPANY</td>\n",
       "      <td>C00084475</td>\n",
       "      <td>PAC - Qualified</td>\n",
       "      <td>Lobbyist/Registrant PAC</td>\n",
       "      <td>3M COMPANY PAC</td>\n",
       "      <td>Corporation</td>\n",
       "      <td>MN</td>\n",
       "    </tr>\n",
       "    <tr>\n",
       "      <th>1</th>\n",
       "      <td>ABBOTT LABORATORIES</td>\n",
       "      <td>C00040279</td>\n",
       "      <td>PAC - Qualified</td>\n",
       "      <td>Lobbyist/Registrant PAC</td>\n",
       "      <td>ABBOTT LABORATORIES EMPLOYEE POLITICAL ACTION ...</td>\n",
       "      <td>Corporation</td>\n",
       "      <td>IL</td>\n",
       "    </tr>\n",
       "  </tbody>\n",
       "</table>\n",
       "</div>"
      ],
      "text/plain": [
       "  affiliated_committee_name committee_id   committee_type  \\\n",
       "0                3M COMPANY    C00084475  PAC - Qualified   \n",
       "1       ABBOTT LABORATORIES    C00040279  PAC - Qualified   \n",
       "\n",
       "          designation_type                                               name  \\\n",
       "0  Lobbyist/Registrant PAC                                     3M COMPANY PAC   \n",
       "1  Lobbyist/Registrant PAC  ABBOTT LABORATORIES EMPLOYEE POLITICAL ACTION ...   \n",
       "\n",
       "  organization_type state  \n",
       "0       Corporation    MN  \n",
       "1       Corporation    IL  "
      ]
     },
     "execution_count": 16,
     "metadata": {},
     "output_type": "execute_result"
    }
   ],
   "source": [
    "df3.head(2)"
   ]
  },
  {
   "cell_type": "code",
   "execution_count": 17,
   "id": "eed465fb-5e44-49dc-9c6f-8066dfde5dc5",
   "metadata": {},
   "outputs": [
    {
     "data": {
      "text/plain": [
       "991"
      ]
     },
     "execution_count": 17,
     "metadata": {},
     "output_type": "execute_result"
    }
   ],
   "source": [
    "df3.to_sql(name='committees', con=conn, if_exists='replace', index=False)"
   ]
  },
  {
   "cell_type": "markdown",
   "id": "2fcc585a-177a-457c-91c6-b329c449280d",
   "metadata": {
    "jp-MarkdownHeadingCollapsed": true
   },
   "source": [
    "#### Party Codes"
   ]
  },
  {
   "cell_type": "code",
   "execution_count": 18,
   "id": "6a2804dd-bc40-4127-bbd9-e980bdbf6d6b",
   "metadata": {},
   "outputs": [],
   "source": [
    "df4 = pd.read_csv('./datasets/party_codes.csv')"
   ]
  },
  {
   "cell_type": "code",
   "execution_count": 19,
   "id": "c768670a-c046-47f9-b425-cd9d75ee3ba1",
   "metadata": {},
   "outputs": [
    {
     "data": {
      "text/plain": [
       "(53, 2)"
      ]
     },
     "execution_count": 19,
     "metadata": {},
     "output_type": "execute_result"
    }
   ],
   "source": [
    "df4.shape"
   ]
  },
  {
   "cell_type": "code",
   "execution_count": 22,
   "id": "9fda5315-8fc4-40ac-a327-22a3ef5e9293",
   "metadata": {},
   "outputs": [
    {
     "data": {
      "text/html": [
       "<div>\n",
       "<style scoped>\n",
       "    .dataframe tbody tr th:only-of-type {\n",
       "        vertical-align: middle;\n",
       "    }\n",
       "\n",
       "    .dataframe tbody tr th {\n",
       "        vertical-align: top;\n",
       "    }\n",
       "\n",
       "    .dataframe thead th {\n",
       "        text-align: right;\n",
       "    }\n",
       "</style>\n",
       "<table border=\"1\" class=\"dataframe\">\n",
       "  <thead>\n",
       "    <tr style=\"text-align: right;\">\n",
       "      <th></th>\n",
       "      <th>Party Code</th>\n",
       "      <th>Party Name</th>\n",
       "    </tr>\n",
       "  </thead>\n",
       "  <tbody>\n",
       "    <tr>\n",
       "      <th>0</th>\n",
       "      <td>100</td>\n",
       "      <td>Democratic Party</td>\n",
       "    </tr>\n",
       "    <tr>\n",
       "      <th>1</th>\n",
       "      <td>200</td>\n",
       "      <td>Republican Party</td>\n",
       "    </tr>\n",
       "  </tbody>\n",
       "</table>\n",
       "</div>"
      ],
      "text/plain": [
       "   Party Code        Party Name\n",
       "0         100  Democratic Party\n",
       "1         200  Republican Party"
      ]
     },
     "execution_count": 22,
     "metadata": {},
     "output_type": "execute_result"
    }
   ],
   "source": [
    "df4.head(2)"
   ]
  },
  {
   "cell_type": "code",
   "execution_count": 23,
   "id": "75416049-f0a0-4ae3-9424-a2eb2d61db35",
   "metadata": {},
   "outputs": [
    {
     "data": {
      "text/plain": [
       "53"
      ]
     },
     "execution_count": 23,
     "metadata": {},
     "output_type": "execute_result"
    }
   ],
   "source": [
    "df4.to_sql(name='party_codes', con=conn, if_exists='replace', index=False)"
   ]
  },
  {
   "cell_type": "markdown",
   "id": "dd8b8fa9-ed05-454d-be7c-88d67f969ebb",
   "metadata": {
    "jp-MarkdownHeadingCollapsed": true
   },
   "source": [
    "#### Congressional Member Descriptions"
   ]
  },
  {
   "cell_type": "code",
   "execution_count": 24,
   "id": "e0e57bea-a977-400a-ad66-bbc602ccaffc",
   "metadata": {},
   "outputs": [],
   "source": [
    "df5 = pd.read_csv('./datasets/c113m.csv')"
   ]
  },
  {
   "cell_type": "code",
   "execution_count": 39,
   "id": "28da97c8-16ea-491f-935b-d04106b0cbe8",
   "metadata": {},
   "outputs": [
    {
     "data": {
      "text/plain": [
       "(550, 9)"
      ]
     },
     "execution_count": 39,
     "metadata": {},
     "output_type": "execute_result"
    }
   ],
   "source": [
    "df5.shape"
   ]
  },
  {
   "cell_type": "code",
   "execution_count": 25,
   "id": "2f9c6085-5c92-434b-8044-a905c62096b4",
   "metadata": {},
   "outputs": [
    {
     "data": {
      "text/html": [
       "<div>\n",
       "<style scoped>\n",
       "    .dataframe tbody tr th:only-of-type {\n",
       "        vertical-align: middle;\n",
       "    }\n",
       "\n",
       "    .dataframe tbody tr th {\n",
       "        vertical-align: top;\n",
       "    }\n",
       "\n",
       "    .dataframe thead th {\n",
       "        text-align: right;\n",
       "    }\n",
       "</style>\n",
       "<table border=\"1\" class=\"dataframe\">\n",
       "  <thead>\n",
       "    <tr style=\"text-align: right;\">\n",
       "      <th></th>\n",
       "      <th>chamber</th>\n",
       "      <th>icpsr_id</th>\n",
       "      <th>district</th>\n",
       "      <th>state</th>\n",
       "      <th>party</th>\n",
       "      <th>name</th>\n",
       "      <th>congress_id</th>\n",
       "      <th>NOMINATE_dim1</th>\n",
       "      <th>NOMINATE_dim2</th>\n",
       "    </tr>\n",
       "  </thead>\n",
       "  <tbody>\n",
       "    <tr>\n",
       "      <th>0</th>\n",
       "      <td>President</td>\n",
       "      <td>99911</td>\n",
       "      <td>0</td>\n",
       "      <td>USA</td>\n",
       "      <td>100</td>\n",
       "      <td>OBAMA, Barack</td>\n",
       "      <td>O000167</td>\n",
       "      <td>-0.358</td>\n",
       "      <td>-0.197</td>\n",
       "    </tr>\n",
       "    <tr>\n",
       "      <th>1</th>\n",
       "      <td>House</td>\n",
       "      <td>20300</td>\n",
       "      <td>1</td>\n",
       "      <td>AL</td>\n",
       "      <td>200</td>\n",
       "      <td>BONNER, Jr., Josiah Robins (Jo)</td>\n",
       "      <td>B001244</td>\n",
       "      <td>0.367</td>\n",
       "      <td>0.513</td>\n",
       "    </tr>\n",
       "  </tbody>\n",
       "</table>\n",
       "</div>"
      ],
      "text/plain": [
       "     chamber  icpsr_id  district state  party  \\\n",
       "0  President     99911         0   USA    100   \n",
       "1      House     20300         1    AL    200   \n",
       "\n",
       "                              name congress_id  NOMINATE_dim1  NOMINATE_dim2  \n",
       "0                    OBAMA, Barack     O000167         -0.358         -0.197  \n",
       "1  BONNER, Jr., Josiah Robins (Jo)     B001244          0.367          0.513  "
      ]
     },
     "execution_count": 25,
     "metadata": {},
     "output_type": "execute_result"
    }
   ],
   "source": [
    "df5.head(2)"
   ]
  },
  {
   "cell_type": "code",
   "execution_count": 26,
   "id": "a384ea1b-0abd-494b-b750-5846f98d6e30",
   "metadata": {},
   "outputs": [
    {
     "data": {
      "text/plain": [
       "550"
      ]
     },
     "execution_count": 26,
     "metadata": {},
     "output_type": "execute_result"
    }
   ],
   "source": [
    "df5.to_sql(name='members', con=conn, if_exists='replace', index=False)"
   ]
  },
  {
   "cell_type": "markdown",
   "id": "c153b380-660a-4267-b001-dc3d0d242bdc",
   "metadata": {
    "jp-MarkdownHeadingCollapsed": true
   },
   "source": [
    "#### Roll Call"
   ]
  },
  {
   "cell_type": "code",
   "execution_count": 27,
   "id": "c68a1857-719e-4293-b4c4-c2bb0da395d2",
   "metadata": {},
   "outputs": [],
   "source": [
    "df6 = pd.read_csv('./datasets/c113r.csv')"
   ]
  },
  {
   "cell_type": "code",
   "execution_count": 40,
   "id": "ec6c7392-4d15-4215-8cfc-48a1a7332f65",
   "metadata": {},
   "outputs": [
    {
     "data": {
      "text/plain": [
       "(1859, 20)"
      ]
     },
     "execution_count": 40,
     "metadata": {},
     "output_type": "execute_result"
    }
   ],
   "source": [
    "df6.shape"
   ]
  },
  {
   "cell_type": "code",
   "execution_count": 28,
   "id": "12897a82-4ce3-4970-b9ed-e8445b984a29",
   "metadata": {},
   "outputs": [
    {
     "data": {
      "text/html": [
       "<div>\n",
       "<style scoped>\n",
       "    .dataframe tbody tr th:only-of-type {\n",
       "        vertical-align: middle;\n",
       "    }\n",
       "\n",
       "    .dataframe tbody tr th {\n",
       "        vertical-align: top;\n",
       "    }\n",
       "\n",
       "    .dataframe thead th {\n",
       "        text-align: right;\n",
       "    }\n",
       "</style>\n",
       "<table border=\"1\" class=\"dataframe\">\n",
       "  <thead>\n",
       "    <tr style=\"text-align: right;\">\n",
       "      <th></th>\n",
       "      <th>chamber</th>\n",
       "      <th>rollnumber</th>\n",
       "      <th>date</th>\n",
       "      <th>session</th>\n",
       "      <th>yea_count</th>\n",
       "      <th>nay_count</th>\n",
       "      <th>nominate_mid_1</th>\n",
       "      <th>nominate_mid_2</th>\n",
       "      <th>nominate_spread_1</th>\n",
       "      <th>nominate_spread_2</th>\n",
       "      <th>bill_number</th>\n",
       "      <th>vote_result</th>\n",
       "      <th>vote_desc</th>\n",
       "      <th>vote_question</th>\n",
       "      <th>issue_codes</th>\n",
       "      <th>peltzman_codes</th>\n",
       "      <th>clausen_codes</th>\n",
       "      <th>crs_policy_area</th>\n",
       "      <th>crs_subjects</th>\n",
       "      <th>congress_url</th>\n",
       "    </tr>\n",
       "  </thead>\n",
       "  <tbody>\n",
       "    <tr>\n",
       "      <th>0</th>\n",
       "      <td>House</td>\n",
       "      <td>1</td>\n",
       "      <td>2013-01-03</td>\n",
       "      <td>1</td>\n",
       "      <td>220</td>\n",
       "      <td>192</td>\n",
       "      <td>0.061</td>\n",
       "      <td>0.358</td>\n",
       "      <td>-0.747</td>\n",
       "      <td>0.288</td>\n",
       "      <td>NaN</td>\n",
       "      <td>Boehner</td>\n",
       "      <td>NaN</td>\n",
       "      <td>Election of the Speaker</td>\n",
       "      <td>['Election of the Speaker of the House']</td>\n",
       "      <td>['Internal Organization']</td>\n",
       "      <td>['Miscellaneous Policy']</td>\n",
       "      <td>NaN</td>\n",
       "      <td>NaN</td>\n",
       "      <td>NaN</td>\n",
       "    </tr>\n",
       "    <tr>\n",
       "      <th>1</th>\n",
       "      <td>House</td>\n",
       "      <td>2</td>\n",
       "      <td>2013-01-03</td>\n",
       "      <td>1</td>\n",
       "      <td>224</td>\n",
       "      <td>187</td>\n",
       "      <td>0.056</td>\n",
       "      <td>0.197</td>\n",
       "      <td>-0.732</td>\n",
       "      <td>0.309</td>\n",
       "      <td>HRES5</td>\n",
       "      <td>Passed</td>\n",
       "      <td>Adopting rules for the One Hundred Thirteenth ...</td>\n",
       "      <td>On Motion to Table the Motion to Refer</td>\n",
       "      <td>NaN</td>\n",
       "      <td>['Internal Organization']</td>\n",
       "      <td>['Miscellaneous Policy']</td>\n",
       "      <td>Congress</td>\n",
       "      <td>['Administrative law and regulatory procedures...</td>\n",
       "      <td>https://www.congress.gov/bill/113th-congress/h...</td>\n",
       "    </tr>\n",
       "  </tbody>\n",
       "</table>\n",
       "</div>"
      ],
      "text/plain": [
       "  chamber  rollnumber        date  session  yea_count  nay_count  \\\n",
       "0   House           1  2013-01-03        1        220        192   \n",
       "1   House           2  2013-01-03        1        224        187   \n",
       "\n",
       "   nominate_mid_1  nominate_mid_2  nominate_spread_1  nominate_spread_2  \\\n",
       "0           0.061           0.358             -0.747              0.288   \n",
       "1           0.056           0.197             -0.732              0.309   \n",
       "\n",
       "  bill_number vote_result                                          vote_desc  \\\n",
       "0         NaN     Boehner                                                NaN   \n",
       "1       HRES5      Passed  Adopting rules for the One Hundred Thirteenth ...   \n",
       "\n",
       "                            vote_question  \\\n",
       "0                 Election of the Speaker   \n",
       "1  On Motion to Table the Motion to Refer   \n",
       "\n",
       "                                issue_codes             peltzman_codes  \\\n",
       "0  ['Election of the Speaker of the House']  ['Internal Organization']   \n",
       "1                                       NaN  ['Internal Organization']   \n",
       "\n",
       "              clausen_codes crs_policy_area  \\\n",
       "0  ['Miscellaneous Policy']             NaN   \n",
       "1  ['Miscellaneous Policy']        Congress   \n",
       "\n",
       "                                        crs_subjects  \\\n",
       "0                                                NaN   \n",
       "1  ['Administrative law and regulatory procedures...   \n",
       "\n",
       "                                        congress_url  \n",
       "0                                                NaN  \n",
       "1  https://www.congress.gov/bill/113th-congress/h...  "
      ]
     },
     "execution_count": 28,
     "metadata": {},
     "output_type": "execute_result"
    }
   ],
   "source": [
    "df6.head(2)"
   ]
  },
  {
   "cell_type": "code",
   "execution_count": 29,
   "id": "4cf9ec03-2f6d-4cb1-af22-e6a8b2e6b303",
   "metadata": {},
   "outputs": [
    {
     "data": {
      "text/plain": [
       "1859"
      ]
     },
     "execution_count": 29,
     "metadata": {},
     "output_type": "execute_result"
    }
   ],
   "source": [
    "df6.to_sql(name='roll_call', con=conn, if_exists='replace', index=False)"
   ]
  },
  {
   "cell_type": "markdown",
   "id": "1415eed7-7290-4129-8e8d-8efd4664b550",
   "metadata": {
    "jp-MarkdownHeadingCollapsed": true
   },
   "source": [
    "#### Member Votes"
   ]
  },
  {
   "cell_type": "code",
   "execution_count": 30,
   "id": "12fb84c6-1b76-4cac-a97f-bf8b6398e0e4",
   "metadata": {},
   "outputs": [],
   "source": [
    "df7 = pd.read_csv('./datasets/c113v.csv')"
   ]
  },
  {
   "cell_type": "code",
   "execution_count": 41,
   "id": "05ed1652-db14-41bd-ad56-7c5f6f02c1db",
   "metadata": {},
   "outputs": [
    {
     "data": {
      "text/plain": [
       "(586665, 5)"
      ]
     },
     "execution_count": 41,
     "metadata": {},
     "output_type": "execute_result"
    }
   ],
   "source": [
    "df7.shape"
   ]
  },
  {
   "cell_type": "code",
   "execution_count": 31,
   "id": "f121923a-5791-4f24-a546-51c68ccc24c1",
   "metadata": {},
   "outputs": [
    {
     "data": {
      "text/html": [
       "<div>\n",
       "<style scoped>\n",
       "    .dataframe tbody tr th:only-of-type {\n",
       "        vertical-align: middle;\n",
       "    }\n",
       "\n",
       "    .dataframe tbody tr th {\n",
       "        vertical-align: top;\n",
       "    }\n",
       "\n",
       "    .dataframe thead th {\n",
       "        text-align: right;\n",
       "    }\n",
       "</style>\n",
       "<table border=\"1\" class=\"dataframe\">\n",
       "  <thead>\n",
       "    <tr style=\"text-align: right;\">\n",
       "      <th></th>\n",
       "      <th>icpsr</th>\n",
       "      <th>cast_code</th>\n",
       "      <th>chamber</th>\n",
       "      <th>rollnumber</th>\n",
       "      <th>prob</th>\n",
       "    </tr>\n",
       "  </thead>\n",
       "  <tbody>\n",
       "    <tr>\n",
       "      <th>0</th>\n",
       "      <td>2605</td>\n",
       "      <td>7</td>\n",
       "      <td>House</td>\n",
       "      <td>1</td>\n",
       "      <td>100.0</td>\n",
       "    </tr>\n",
       "    <tr>\n",
       "      <th>1</th>\n",
       "      <td>10713</td>\n",
       "      <td>6</td>\n",
       "      <td>House</td>\n",
       "      <td>1</td>\n",
       "      <td>100.0</td>\n",
       "    </tr>\n",
       "  </tbody>\n",
       "</table>\n",
       "</div>"
      ],
      "text/plain": [
       "   icpsr  cast_code chamber  rollnumber   prob\n",
       "0   2605          7   House           1  100.0\n",
       "1  10713          6   House           1  100.0"
      ]
     },
     "execution_count": 31,
     "metadata": {},
     "output_type": "execute_result"
    }
   ],
   "source": [
    "df7.head(2)"
   ]
  },
  {
   "cell_type": "code",
   "execution_count": 32,
   "id": "9f3cd066-b3db-4a46-b896-3a6b8f12df77",
   "metadata": {},
   "outputs": [
    {
     "data": {
      "text/plain": [
       "586665"
      ]
     },
     "execution_count": 32,
     "metadata": {},
     "output_type": "execute_result"
    }
   ],
   "source": [
    "df7.to_sql(name='votes', con=conn, if_exists='replace', index=False)"
   ]
  },
  {
   "cell_type": "markdown",
   "id": "de660214-e5fc-44e6-8b4f-ea4ad33daa35",
   "metadata": {},
   "source": [
    "#### Close Connection"
   ]
  },
  {
   "cell_type": "code",
   "execution_count": 38,
   "id": "d3fd50d8-7a52-43e2-9b27-a834a1fa2623",
   "metadata": {},
   "outputs": [],
   "source": [
    "conn.close()"
   ]
  }
 ],
 "metadata": {
  "kernelspec": {
   "display_name": "Python 3 (ipykernel)",
   "language": "python",
   "name": "python3"
  },
  "language_info": {
   "codemirror_mode": {
    "name": "ipython",
    "version": 3
   },
   "file_extension": ".py",
   "mimetype": "text/x-python",
   "name": "python",
   "nbconvert_exporter": "python",
   "pygments_lexer": "ipython3",
   "version": "3.10.12"
  }
 },
 "nbformat": 4,
 "nbformat_minor": 5
}
