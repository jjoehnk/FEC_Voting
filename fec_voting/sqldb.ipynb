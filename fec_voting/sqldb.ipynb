{
 "cells": [
  {
   "cell_type": "markdown",
   "id": "928fb2f1-64de-40ff-9b8b-e9d21ba8388f",
   "metadata": {},
   "source": [
    "# US Representative Voting Patterns and Funding Sources"
   ]
  },
  {
   "cell_type": "markdown",
   "id": "07f465cc-b18f-4504-a812-aacfb35f245c",
   "metadata": {},
   "source": [
    "Part 3: Creating a SQLite Database"
   ]
  },
  {
   "cell_type": "markdown",
   "id": "98639513-4b1c-42a1-bb01-560149bc2b1d",
   "metadata": {},
   "source": [
    "*Tables created:*\n",
    "\n",
    "1. DIME PLUS Congressional Bills\n",
    "2. Cast Codes\n",
    "3. FEC Committees\n",
    "4. Party Codes\n",
    "5. Member Descriptions\n",
    "6. Roll Call\n",
    "7. Member Votes\n",
    "8. Expenditures\n",
    "9. Receipts\n",
    "10. Candidate Committees\n",
    "11. Disbursements"
   ]
  },
  {
   "cell_type": "code",
   "execution_count": 1,
   "id": "98a521a1-df1f-496c-af01-b401abbbac64",
   "metadata": {
    "scrolled": true
   },
   "outputs": [],
   "source": [
    "import sqlite3 as sq\n",
    "import pandas as pd\n",
    "conn = sq.connect('congress.db') # open connection to file"
   ]
  },
  {
   "cell_type": "markdown",
   "id": "3451e8ab-9f08-4011-b2ce-7e875a30359d",
   "metadata": {
    "jp-MarkdownHeadingCollapsed": true
   },
   "source": [
    "#### DIME PLUS Congressional Bills"
   ]
  },
  {
   "cell_type": "code",
   "execution_count": 2,
   "id": "4d7cb94d-2831-4bc8-908d-49f8f45b35dc",
   "metadata": {
    "scrolled": true
   },
   "outputs": [
    {
     "data": {
      "text/html": [
       "<div>\n",
       "<style scoped>\n",
       "    .dataframe tbody tr th:only-of-type {\n",
       "        vertical-align: middle;\n",
       "    }\n",
       "\n",
       "    .dataframe tbody tr th {\n",
       "        vertical-align: top;\n",
       "    }\n",
       "\n",
       "    .dataframe thead th {\n",
       "        text-align: right;\n",
       "    }\n",
       "</style>\n",
       "<table border=\"1\" class=\"dataframe\">\n",
       "  <thead>\n",
       "    <tr style=\"text-align: right;\">\n",
       "      <th></th>\n",
       "      <th>bill_id</th>\n",
       "      <th>bill_desc</th>\n",
       "      <th>sponsors</th>\n",
       "      <th>cosponsors</th>\n",
       "      <th>tw_latent1</th>\n",
       "      <th>tw_abortion_and_social_conservatism</th>\n",
       "      <th>tw_agriculture</th>\n",
       "      <th>tw_banking_and_finance</th>\n",
       "      <th>tw_civil_rights</th>\n",
       "      <th>tw_congress_and_procedural</th>\n",
       "      <th>...</th>\n",
       "      <th>tw_healthcare</th>\n",
       "      <th>tw_higher_education</th>\n",
       "      <th>tw_immigration</th>\n",
       "      <th>tw_indian_affairs</th>\n",
       "      <th>tw_intelligence_and_surveillance</th>\n",
       "      <th>tw_labor</th>\n",
       "      <th>tw_law_courts_and_judges</th>\n",
       "      <th>tw_transportation</th>\n",
       "      <th>tw_veterans_affairs</th>\n",
       "      <th>tw_womens_issues</th>\n",
       "    </tr>\n",
       "  </thead>\n",
       "  <tbody>\n",
       "    <tr>\n",
       "      <th>0</th>\n",
       "      <td>hr83</td>\n",
       "      <td>To require the Secretary of the Interior to as...</td>\n",
       "      <td>NaN</td>\n",
       "      <td>NaN</td>\n",
       "      <td>0.471785</td>\n",
       "      <td>0.000000</td>\n",
       "      <td>0.000000</td>\n",
       "      <td>0.000000</td>\n",
       "      <td>0.072641</td>\n",
       "      <td>0.110686</td>\n",
       "      <td>...</td>\n",
       "      <td>0.000000</td>\n",
       "      <td>0.000000</td>\n",
       "      <td>0.000000</td>\n",
       "      <td>0.000000</td>\n",
       "      <td>0.000000</td>\n",
       "      <td>0.000000</td>\n",
       "      <td>0.000000</td>\n",
       "      <td>0.000000</td>\n",
       "      <td>0.000000</td>\n",
       "      <td>0.000000</td>\n",
       "    </tr>\n",
       "    <tr>\n",
       "      <th>1</th>\n",
       "      <td>hr5806</td>\n",
       "      <td>Supporting America’s Charities Act</td>\n",
       "      <td>NaN</td>\n",
       "      <td>NaN</td>\n",
       "      <td>0.131329</td>\n",
       "      <td>0.061381</td>\n",
       "      <td>0.013441</td>\n",
       "      <td>0.022888</td>\n",
       "      <td>0.055310</td>\n",
       "      <td>0.100501</td>\n",
       "      <td>...</td>\n",
       "      <td>0.002327</td>\n",
       "      <td>0.001538</td>\n",
       "      <td>0.009363</td>\n",
       "      <td>0.038940</td>\n",
       "      <td>0.002084</td>\n",
       "      <td>0.010166</td>\n",
       "      <td>0.015219</td>\n",
       "      <td>0.000076</td>\n",
       "      <td>0.000063</td>\n",
       "      <td>0.004749</td>\n",
       "    </tr>\n",
       "    <tr>\n",
       "      <th>2</th>\n",
       "      <td>hres776</td>\n",
       "      <td>Providing for consideration of the Senate amen...</td>\n",
       "      <td>NaN</td>\n",
       "      <td>NaN</td>\n",
       "      <td>1.000000</td>\n",
       "      <td>0.000000</td>\n",
       "      <td>0.000000</td>\n",
       "      <td>0.000000</td>\n",
       "      <td>0.000000</td>\n",
       "      <td>0.000000</td>\n",
       "      <td>...</td>\n",
       "      <td>0.000000</td>\n",
       "      <td>0.000000</td>\n",
       "      <td>0.000000</td>\n",
       "      <td>0.000000</td>\n",
       "      <td>0.000000</td>\n",
       "      <td>0.000000</td>\n",
       "      <td>0.000000</td>\n",
       "      <td>0.000000</td>\n",
       "      <td>0.000000</td>\n",
       "      <td>0.000000</td>\n",
       "    </tr>\n",
       "    <tr>\n",
       "      <th>3</th>\n",
       "      <td>hr2719</td>\n",
       "      <td>To require the Transportation Security Adminis...</td>\n",
       "      <td>cand43257</td>\n",
       "      <td>cand1307|cand953|cand1128</td>\n",
       "      <td>0.678486</td>\n",
       "      <td>0.000000</td>\n",
       "      <td>0.000000</td>\n",
       "      <td>0.000000</td>\n",
       "      <td>0.000043</td>\n",
       "      <td>0.000258</td>\n",
       "      <td>...</td>\n",
       "      <td>0.000000</td>\n",
       "      <td>0.000000</td>\n",
       "      <td>0.000000</td>\n",
       "      <td>0.000000</td>\n",
       "      <td>0.000000</td>\n",
       "      <td>0.000000</td>\n",
       "      <td>0.000000</td>\n",
       "      <td>0.054827</td>\n",
       "      <td>0.000000</td>\n",
       "      <td>0.000000</td>\n",
       "    </tr>\n",
       "    <tr>\n",
       "      <th>4</th>\n",
       "      <td>hres775</td>\n",
       "      <td>Providing for consideration of S. 2244, the Te...</td>\n",
       "      <td>NaN</td>\n",
       "      <td>NaN</td>\n",
       "      <td>1.000000</td>\n",
       "      <td>0.000000</td>\n",
       "      <td>0.000000</td>\n",
       "      <td>0.000000</td>\n",
       "      <td>0.000000</td>\n",
       "      <td>0.000000</td>\n",
       "      <td>...</td>\n",
       "      <td>0.000000</td>\n",
       "      <td>0.000000</td>\n",
       "      <td>0.000000</td>\n",
       "      <td>0.000000</td>\n",
       "      <td>0.000000</td>\n",
       "      <td>0.000000</td>\n",
       "      <td>0.000000</td>\n",
       "      <td>0.000000</td>\n",
       "      <td>0.000000</td>\n",
       "      <td>0.000000</td>\n",
       "    </tr>\n",
       "    <tr>\n",
       "      <th>...</th>\n",
       "      <td>...</td>\n",
       "      <td>...</td>\n",
       "      <td>...</td>\n",
       "      <td>...</td>\n",
       "      <td>...</td>\n",
       "      <td>...</td>\n",
       "      <td>...</td>\n",
       "      <td>...</td>\n",
       "      <td>...</td>\n",
       "      <td>...</td>\n",
       "      <td>...</td>\n",
       "      <td>...</td>\n",
       "      <td>...</td>\n",
       "      <td>...</td>\n",
       "      <td>...</td>\n",
       "      <td>...</td>\n",
       "      <td>...</td>\n",
       "      <td>...</td>\n",
       "      <td>...</td>\n",
       "      <td>...</td>\n",
       "      <td>...</td>\n",
       "    </tr>\n",
       "    <tr>\n",
       "      <th>354</th>\n",
       "      <td>hres39</td>\n",
       "      <td>Providing for consideration of the bill (H.R. ...</td>\n",
       "      <td>cand1484</td>\n",
       "      <td>NaN</td>\n",
       "      <td>1.000000</td>\n",
       "      <td>0.000000</td>\n",
       "      <td>0.000000</td>\n",
       "      <td>0.000000</td>\n",
       "      <td>0.000000</td>\n",
       "      <td>0.000000</td>\n",
       "      <td>...</td>\n",
       "      <td>0.000000</td>\n",
       "      <td>0.000000</td>\n",
       "      <td>0.000000</td>\n",
       "      <td>0.000000</td>\n",
       "      <td>0.000000</td>\n",
       "      <td>0.000000</td>\n",
       "      <td>0.000000</td>\n",
       "      <td>0.000000</td>\n",
       "      <td>0.000000</td>\n",
       "      <td>0.000000</td>\n",
       "    </tr>\n",
       "    <tr>\n",
       "      <th>355</th>\n",
       "      <td>hr152</td>\n",
       "      <td>NaN</td>\n",
       "      <td>cand541</td>\n",
       "      <td>NaN</td>\n",
       "      <td>0.533541</td>\n",
       "      <td>0.000000</td>\n",
       "      <td>0.000053</td>\n",
       "      <td>0.026818</td>\n",
       "      <td>0.019575</td>\n",
       "      <td>0.057106</td>\n",
       "      <td>...</td>\n",
       "      <td>0.000164</td>\n",
       "      <td>0.000000</td>\n",
       "      <td>0.000000</td>\n",
       "      <td>0.000000</td>\n",
       "      <td>0.000291</td>\n",
       "      <td>0.000022</td>\n",
       "      <td>0.000000</td>\n",
       "      <td>0.000106</td>\n",
       "      <td>0.000018</td>\n",
       "      <td>0.003529</td>\n",
       "    </tr>\n",
       "    <tr>\n",
       "      <th>356</th>\n",
       "      <td>hres23</td>\n",
       "      <td>Providing for consideration of the bill (H.R. ...</td>\n",
       "      <td>cand910</td>\n",
       "      <td>NaN</td>\n",
       "      <td>1.000000</td>\n",
       "      <td>0.000000</td>\n",
       "      <td>0.000000</td>\n",
       "      <td>0.000000</td>\n",
       "      <td>0.000000</td>\n",
       "      <td>0.000000</td>\n",
       "      <td>...</td>\n",
       "      <td>0.000000</td>\n",
       "      <td>0.000000</td>\n",
       "      <td>0.000000</td>\n",
       "      <td>0.000000</td>\n",
       "      <td>0.000000</td>\n",
       "      <td>0.000000</td>\n",
       "      <td>0.000000</td>\n",
       "      <td>0.000000</td>\n",
       "      <td>0.000000</td>\n",
       "      <td>0.000000</td>\n",
       "    </tr>\n",
       "    <tr>\n",
       "      <th>357</th>\n",
       "      <td>hr219</td>\n",
       "      <td>To improve and streamline disaster assistance ...</td>\n",
       "      <td>cand1100</td>\n",
       "      <td>cand1376|cand1316|cand854|cand359|cand904|cand...</td>\n",
       "      <td>0.764401</td>\n",
       "      <td>0.000000</td>\n",
       "      <td>0.000000</td>\n",
       "      <td>0.000190</td>\n",
       "      <td>0.000000</td>\n",
       "      <td>0.000000</td>\n",
       "      <td>...</td>\n",
       "      <td>0.000000</td>\n",
       "      <td>0.000000</td>\n",
       "      <td>0.000000</td>\n",
       "      <td>0.000029</td>\n",
       "      <td>0.000000</td>\n",
       "      <td>0.000000</td>\n",
       "      <td>0.000061</td>\n",
       "      <td>0.000000</td>\n",
       "      <td>0.000000</td>\n",
       "      <td>0.000000</td>\n",
       "    </tr>\n",
       "    <tr>\n",
       "      <th>358</th>\n",
       "      <td>hres5</td>\n",
       "      <td>Adopting rules for the One Hundred Thirteenth ...</td>\n",
       "      <td>cand864</td>\n",
       "      <td>NaN</td>\n",
       "      <td>0.570199</td>\n",
       "      <td>0.009365</td>\n",
       "      <td>0.000000</td>\n",
       "      <td>0.000000</td>\n",
       "      <td>0.000047</td>\n",
       "      <td>0.204659</td>\n",
       "      <td>...</td>\n",
       "      <td>0.020559</td>\n",
       "      <td>0.000000</td>\n",
       "      <td>0.000000</td>\n",
       "      <td>0.000000</td>\n",
       "      <td>0.000000</td>\n",
       "      <td>0.000000</td>\n",
       "      <td>0.004542</td>\n",
       "      <td>0.000000</td>\n",
       "      <td>0.000000</td>\n",
       "      <td>0.000000</td>\n",
       "    </tr>\n",
       "  </tbody>\n",
       "</table>\n",
       "<p>359 rows × 29 columns</p>\n",
       "</div>"
      ],
      "text/plain": [
       "     bill_id                                          bill_desc   sponsors  \\\n",
       "0       hr83  To require the Secretary of the Interior to as...        NaN   \n",
       "1     hr5806                 Supporting America’s Charities Act        NaN   \n",
       "2    hres776  Providing for consideration of the Senate amen...        NaN   \n",
       "3     hr2719  To require the Transportation Security Adminis...  cand43257   \n",
       "4    hres775  Providing for consideration of S. 2244, the Te...        NaN   \n",
       "..       ...                                                ...        ...   \n",
       "354   hres39  Providing for consideration of the bill (H.R. ...   cand1484   \n",
       "355    hr152                                                NaN    cand541   \n",
       "356   hres23  Providing for consideration of the bill (H.R. ...    cand910   \n",
       "357    hr219  To improve and streamline disaster assistance ...   cand1100   \n",
       "358    hres5  Adopting rules for the One Hundred Thirteenth ...    cand864   \n",
       "\n",
       "                                            cosponsors  tw_latent1  \\\n",
       "0                                                  NaN    0.471785   \n",
       "1                                                  NaN    0.131329   \n",
       "2                                                  NaN    1.000000   \n",
       "3                            cand1307|cand953|cand1128    0.678486   \n",
       "4                                                  NaN    1.000000   \n",
       "..                                                 ...         ...   \n",
       "354                                                NaN    1.000000   \n",
       "355                                                NaN    0.533541   \n",
       "356                                                NaN    1.000000   \n",
       "357  cand1376|cand1316|cand854|cand359|cand904|cand...    0.764401   \n",
       "358                                                NaN    0.570199   \n",
       "\n",
       "     tw_abortion_and_social_conservatism  tw_agriculture  \\\n",
       "0                               0.000000        0.000000   \n",
       "1                               0.061381        0.013441   \n",
       "2                               0.000000        0.000000   \n",
       "3                               0.000000        0.000000   \n",
       "4                               0.000000        0.000000   \n",
       "..                                   ...             ...   \n",
       "354                             0.000000        0.000000   \n",
       "355                             0.000000        0.000053   \n",
       "356                             0.000000        0.000000   \n",
       "357                             0.000000        0.000000   \n",
       "358                             0.009365        0.000000   \n",
       "\n",
       "     tw_banking_and_finance  tw_civil_rights  tw_congress_and_procedural  ...  \\\n",
       "0                  0.000000         0.072641                    0.110686  ...   \n",
       "1                  0.022888         0.055310                    0.100501  ...   \n",
       "2                  0.000000         0.000000                    0.000000  ...   \n",
       "3                  0.000000         0.000043                    0.000258  ...   \n",
       "4                  0.000000         0.000000                    0.000000  ...   \n",
       "..                      ...              ...                         ...  ...   \n",
       "354                0.000000         0.000000                    0.000000  ...   \n",
       "355                0.026818         0.019575                    0.057106  ...   \n",
       "356                0.000000         0.000000                    0.000000  ...   \n",
       "357                0.000190         0.000000                    0.000000  ...   \n",
       "358                0.000000         0.000047                    0.204659  ...   \n",
       "\n",
       "     tw_healthcare  tw_higher_education  tw_immigration  tw_indian_affairs  \\\n",
       "0         0.000000             0.000000        0.000000           0.000000   \n",
       "1         0.002327             0.001538        0.009363           0.038940   \n",
       "2         0.000000             0.000000        0.000000           0.000000   \n",
       "3         0.000000             0.000000        0.000000           0.000000   \n",
       "4         0.000000             0.000000        0.000000           0.000000   \n",
       "..             ...                  ...             ...                ...   \n",
       "354       0.000000             0.000000        0.000000           0.000000   \n",
       "355       0.000164             0.000000        0.000000           0.000000   \n",
       "356       0.000000             0.000000        0.000000           0.000000   \n",
       "357       0.000000             0.000000        0.000000           0.000029   \n",
       "358       0.020559             0.000000        0.000000           0.000000   \n",
       "\n",
       "     tw_intelligence_and_surveillance  tw_labor  tw_law_courts_and_judges  \\\n",
       "0                            0.000000  0.000000                  0.000000   \n",
       "1                            0.002084  0.010166                  0.015219   \n",
       "2                            0.000000  0.000000                  0.000000   \n",
       "3                            0.000000  0.000000                  0.000000   \n",
       "4                            0.000000  0.000000                  0.000000   \n",
       "..                                ...       ...                       ...   \n",
       "354                          0.000000  0.000000                  0.000000   \n",
       "355                          0.000291  0.000022                  0.000000   \n",
       "356                          0.000000  0.000000                  0.000000   \n",
       "357                          0.000000  0.000000                  0.000061   \n",
       "358                          0.000000  0.000000                  0.004542   \n",
       "\n",
       "     tw_transportation  tw_veterans_affairs  tw_womens_issues  \n",
       "0             0.000000             0.000000          0.000000  \n",
       "1             0.000076             0.000063          0.004749  \n",
       "2             0.000000             0.000000          0.000000  \n",
       "3             0.054827             0.000000          0.000000  \n",
       "4             0.000000             0.000000          0.000000  \n",
       "..                 ...                  ...               ...  \n",
       "354           0.000000             0.000000          0.000000  \n",
       "355           0.000106             0.000018          0.003529  \n",
       "356           0.000000             0.000000          0.000000  \n",
       "357           0.000000             0.000000          0.000000  \n",
       "358           0.000000             0.000000          0.000000  \n",
       "\n",
       "[359 rows x 29 columns]"
      ]
     },
     "execution_count": 2,
     "metadata": {},
     "output_type": "execute_result"
    }
   ],
   "source": [
    "df = pd.read_csv('./datasets/bills_dime.csv')\n",
    "df"
   ]
  },
  {
   "cell_type": "code",
   "execution_count": 3,
   "id": "63c6452d-e581-451a-b4a5-d088b7a77403",
   "metadata": {},
   "outputs": [
    {
     "data": {
      "text/plain": [
       "Index(['bill_id', 'bill_desc', 'sponsors', 'cosponsors', 'tw_latent1',\n",
       "       'tw_abortion_and_social_conservatism', 'tw_agriculture',\n",
       "       'tw_banking_and_finance', 'tw_civil_rights',\n",
       "       'tw_congress_and_procedural', 'tw_crime',\n",
       "       'tw_defense_and_foreign_policy', 'tw_economy', 'tw_education',\n",
       "       'tw_energy', 'tw_environment', 'tw_fair_elections',\n",
       "       'tw_federal_agencies_and_gov_regulation', 'tw_guns', 'tw_healthcare',\n",
       "       'tw_higher_education', 'tw_immigration', 'tw_indian_affairs',\n",
       "       'tw_intelligence_and_surveillance', 'tw_labor',\n",
       "       'tw_law_courts_and_judges', 'tw_transportation', 'tw_veterans_affairs',\n",
       "       'tw_womens_issues'],\n",
       "      dtype='object')"
      ]
     },
     "execution_count": 3,
     "metadata": {},
     "output_type": "execute_result"
    }
   ],
   "source": [
    "df.columns"
   ]
  },
  {
   "cell_type": "code",
   "execution_count": 4,
   "id": "372a1bd6-8779-45dc-9e2b-4cd432d9d4b6",
   "metadata": {},
   "outputs": [
    {
     "data": {
      "text/plain": [
       "(359, 29)"
      ]
     },
     "execution_count": 4,
     "metadata": {},
     "output_type": "execute_result"
    }
   ],
   "source": [
    "df.shape"
   ]
  },
  {
   "cell_type": "code",
   "execution_count": 5,
   "id": "0730cbcd-fa5a-4f19-9c43-9c20b1af730e",
   "metadata": {},
   "outputs": [
    {
     "data": {
      "text/plain": [
       "359"
      ]
     },
     "execution_count": 5,
     "metadata": {},
     "output_type": "execute_result"
    }
   ],
   "source": [
    "df.to_sql(name='bills_dime', con=conn, if_exists='replace', index=False)"
   ]
  },
  {
   "cell_type": "markdown",
   "id": "be3caccd-4871-471d-814e-ef0459e1ef37",
   "metadata": {
    "jp-MarkdownHeadingCollapsed": true
   },
   "source": [
    "#### Cast Codes"
   ]
  },
  {
   "cell_type": "code",
   "execution_count": 7,
   "id": "86308144-fe77-4d7c-a22d-55b4f9f88a5d",
   "metadata": {},
   "outputs": [],
   "source": [
    "df2 = pd.read_csv('./datasets/cast_codes.csv')"
   ]
  },
  {
   "cell_type": "code",
   "execution_count": 9,
   "id": "3df93e04-4ab2-4fdb-be7e-7da536f85d85",
   "metadata": {},
   "outputs": [
    {
     "data": {
      "text/plain": [
       "(10, 3)"
      ]
     },
     "execution_count": 9,
     "metadata": {},
     "output_type": "execute_result"
    }
   ],
   "source": [
    "df2.shape"
   ]
  },
  {
   "cell_type": "code",
   "execution_count": 10,
   "id": "eeacb205-f5e4-4aff-8dc9-688cebc9d477",
   "metadata": {},
   "outputs": [
    {
     "data": {
      "text/html": [
       "<div>\n",
       "<style scoped>\n",
       "    .dataframe tbody tr th:only-of-type {\n",
       "        vertical-align: middle;\n",
       "    }\n",
       "\n",
       "    .dataframe tbody tr th {\n",
       "        vertical-align: top;\n",
       "    }\n",
       "\n",
       "    .dataframe thead th {\n",
       "        text-align: right;\n",
       "    }\n",
       "</style>\n",
       "<table border=\"1\" class=\"dataframe\">\n",
       "  <thead>\n",
       "    <tr style=\"text-align: right;\">\n",
       "      <th></th>\n",
       "      <th>cast_code</th>\n",
       "      <th>description</th>\n",
       "      <th>simplified_grouping</th>\n",
       "    </tr>\n",
       "  </thead>\n",
       "  <tbody>\n",
       "    <tr>\n",
       "      <th>0</th>\n",
       "      <td>0</td>\n",
       "      <td>Not a member of the chamber when this vote was...</td>\n",
       "      <td>NaN</td>\n",
       "    </tr>\n",
       "  </tbody>\n",
       "</table>\n",
       "</div>"
      ],
      "text/plain": [
       "   cast_code                                        description  \\\n",
       "0          0  Not a member of the chamber when this vote was...   \n",
       "\n",
       "  simplified_grouping  \n",
       "0                 NaN  "
      ]
     },
     "execution_count": 10,
     "metadata": {},
     "output_type": "execute_result"
    }
   ],
   "source": [
    "df2.head(1)"
   ]
  },
  {
   "cell_type": "code",
   "execution_count": 11,
   "id": "3eb78dc0-7466-43ad-ab0e-11000ab41696",
   "metadata": {},
   "outputs": [
    {
     "data": {
      "text/plain": [
       "10"
      ]
     },
     "execution_count": 11,
     "metadata": {},
     "output_type": "execute_result"
    }
   ],
   "source": [
    "df2.to_sql(name='cast_codes', con=conn, if_exists='replace', index=False)"
   ]
  },
  {
   "cell_type": "markdown",
   "id": "eb075d5c-1dad-4e21-a603-76b57b571c61",
   "metadata": {},
   "source": [
    "#### FEC Committees"
   ]
  },
  {
   "cell_type": "code",
   "execution_count": 2,
   "id": "74700711-e2f7-4b65-9aec-1c9ac2d528ca",
   "metadata": {},
   "outputs": [],
   "source": [
    "df3 = pd.read_csv('./datasets/committees.csv')"
   ]
  },
  {
   "cell_type": "code",
   "execution_count": 3,
   "id": "902830e6-c4ac-4641-b595-a4551aa8dc56",
   "metadata": {},
   "outputs": [
    {
     "data": {
      "text/plain": [
       "(13008, 10)"
      ]
     },
     "execution_count": 3,
     "metadata": {},
     "output_type": "execute_result"
    }
   ],
   "source": [
    "df3.shape"
   ]
  },
  {
   "cell_type": "code",
   "execution_count": 4,
   "id": "ee5d684c-26ee-4031-8577-add2af67dc53",
   "metadata": {},
   "outputs": [
    {
     "data": {
      "text/html": [
       "<div>\n",
       "<style scoped>\n",
       "    .dataframe tbody tr th:only-of-type {\n",
       "        vertical-align: middle;\n",
       "    }\n",
       "\n",
       "    .dataframe tbody tr th {\n",
       "        vertical-align: top;\n",
       "    }\n",
       "\n",
       "    .dataframe thead th {\n",
       "        text-align: right;\n",
       "    }\n",
       "</style>\n",
       "<table border=\"1\" class=\"dataframe\">\n",
       "  <thead>\n",
       "    <tr style=\"text-align: right;\">\n",
       "      <th></th>\n",
       "      <th>affiliated_committee_name</th>\n",
       "      <th>candidate_ids</th>\n",
       "      <th>committee_id</th>\n",
       "      <th>committee_type</th>\n",
       "      <th>designation_type</th>\n",
       "      <th>name</th>\n",
       "      <th>organization_type</th>\n",
       "      <th>state</th>\n",
       "      <th>topic_weight</th>\n",
       "      <th>summary</th>\n",
       "    </tr>\n",
       "  </thead>\n",
       "  <tbody>\n",
       "    <tr>\n",
       "      <th>0</th>\n",
       "      <td>NaN</td>\n",
       "      <td>[]</td>\n",
       "      <td>C00408286</td>\n",
       "      <td>Party - Nonqualified</td>\n",
       "      <td>Unauthorized</td>\n",
       "      <td>10TH CONGRESSIONAL DISTRICT DEMOCRATIC COMM</td>\n",
       "      <td>NaN</td>\n",
       "      <td>MI</td>\n",
       "      <td>NaN</td>\n",
       "      <td>NaN</td>\n",
       "    </tr>\n",
       "    <tr>\n",
       "      <th>1</th>\n",
       "      <td>NaN</td>\n",
       "      <td>[]</td>\n",
       "      <td>C00486647</td>\n",
       "      <td>PAC - Nonqualified</td>\n",
       "      <td>Unauthorized</td>\n",
       "      <td>10TH CONSTITUTION PAC</td>\n",
       "      <td>NaN</td>\n",
       "      <td>MA</td>\n",
       "      <td>NaN</td>\n",
       "      <td>NaN</td>\n",
       "    </tr>\n",
       "  </tbody>\n",
       "</table>\n",
       "</div>"
      ],
      "text/plain": [
       "  affiliated_committee_name candidate_ids committee_id        committee_type  \\\n",
       "0                       NaN            []    C00408286  Party - Nonqualified   \n",
       "1                       NaN            []    C00486647    PAC - Nonqualified   \n",
       "\n",
       "  designation_type                                         name  \\\n",
       "0     Unauthorized  10TH CONGRESSIONAL DISTRICT DEMOCRATIC COMM   \n",
       "1     Unauthorized                        10TH CONSTITUTION PAC   \n",
       "\n",
       "  organization_type state topic_weight summary  \n",
       "0               NaN    MI          NaN     NaN  \n",
       "1               NaN    MA          NaN     NaN  "
      ]
     },
     "execution_count": 4,
     "metadata": {},
     "output_type": "execute_result"
    }
   ],
   "source": [
    "df3.head(2)"
   ]
  },
  {
   "cell_type": "code",
   "execution_count": 5,
   "id": "aca9c7c0-c737-4ce0-b5f9-84ff96c3da5d",
   "metadata": {
    "scrolled": true
   },
   "outputs": [],
   "source": [
    "def slice_string(df, column):\n",
    "    for index, value in enumerate(df[column]):\n",
    "        if len(value) == 2:\n",
    "            df[column][index] = None\n",
    "        elif len(value) == 13:\n",
    "            df[column][index] = value[2:-2]\n",
    "    return df"
   ]
  },
  {
   "cell_type": "code",
   "execution_count": 6,
   "id": "48dbb54d-6175-4071-867c-b088e376c17f",
   "metadata": {
    "scrolled": true
   },
   "outputs": [
    {
     "data": {
      "text/html": [
       "<div>\n",
       "<style scoped>\n",
       "    .dataframe tbody tr th:only-of-type {\n",
       "        vertical-align: middle;\n",
       "    }\n",
       "\n",
       "    .dataframe tbody tr th {\n",
       "        vertical-align: top;\n",
       "    }\n",
       "\n",
       "    .dataframe thead th {\n",
       "        text-align: right;\n",
       "    }\n",
       "</style>\n",
       "<table border=\"1\" class=\"dataframe\">\n",
       "  <thead>\n",
       "    <tr style=\"text-align: right;\">\n",
       "      <th></th>\n",
       "      <th>affiliated_committee_name</th>\n",
       "      <th>candidate_ids</th>\n",
       "      <th>committee_id</th>\n",
       "      <th>committee_type</th>\n",
       "      <th>designation_type</th>\n",
       "      <th>name</th>\n",
       "      <th>organization_type</th>\n",
       "      <th>state</th>\n",
       "      <th>topic_weight</th>\n",
       "      <th>summary</th>\n",
       "    </tr>\n",
       "  </thead>\n",
       "  <tbody>\n",
       "    <tr>\n",
       "      <th>0</th>\n",
       "      <td>NaN</td>\n",
       "      <td>None</td>\n",
       "      <td>C00408286</td>\n",
       "      <td>Party - Nonqualified</td>\n",
       "      <td>Unauthorized</td>\n",
       "      <td>10TH CONGRESSIONAL DISTRICT DEMOCRATIC COMM</td>\n",
       "      <td>NaN</td>\n",
       "      <td>MI</td>\n",
       "      <td>NaN</td>\n",
       "      <td>NaN</td>\n",
       "    </tr>\n",
       "    <tr>\n",
       "      <th>1</th>\n",
       "      <td>NaN</td>\n",
       "      <td>None</td>\n",
       "      <td>C00486647</td>\n",
       "      <td>PAC - Nonqualified</td>\n",
       "      <td>Unauthorized</td>\n",
       "      <td>10TH CONSTITUTION PAC</td>\n",
       "      <td>NaN</td>\n",
       "      <td>MA</td>\n",
       "      <td>NaN</td>\n",
       "      <td>NaN</td>\n",
       "    </tr>\n",
       "    <tr>\n",
       "      <th>2</th>\n",
       "      <td>REPUBLICAN PARTY OF VIRGINIA INC</td>\n",
       "      <td>H6VA10134</td>\n",
       "      <td>C00005462</td>\n",
       "      <td>Party - Qualified</td>\n",
       "      <td>Unauthorized</td>\n",
       "      <td>10TH DISTRICT REPUBLICAN CONGRESSIONAL COMMITTEE</td>\n",
       "      <td>NaN</td>\n",
       "      <td>VA</td>\n",
       "      <td>NaN</td>\n",
       "      <td>NaN</td>\n",
       "    </tr>\n",
       "    <tr>\n",
       "      <th>3</th>\n",
       "      <td>NaN</td>\n",
       "      <td>None</td>\n",
       "      <td>C90013426</td>\n",
       "      <td>Independent expenditure filer (not a committee)</td>\n",
       "      <td>Unauthorized</td>\n",
       "      <td>1199SEIU UNITED HEALTHCARE WORKERS EAST</td>\n",
       "      <td>NaN</td>\n",
       "      <td>NY</td>\n",
       "      <td>tw_labor</td>\n",
       "      <td>Labor Unions</td>\n",
       "    </tr>\n",
       "    <tr>\n",
       "      <th>4</th>\n",
       "      <td>1199 SEIU UNITED HEALTHCARE WORKERS EAST</td>\n",
       "      <td>None</td>\n",
       "      <td>C00348540</td>\n",
       "      <td>PAC - Qualified</td>\n",
       "      <td>Unauthorized</td>\n",
       "      <td>1199 SEIU UNITED HEALTHCARE WORKERS EAST FEDER...</td>\n",
       "      <td>Labor Organization</td>\n",
       "      <td>NY</td>\n",
       "      <td>tw_labor</td>\n",
       "      <td>Labor Unions</td>\n",
       "    </tr>\n",
       "    <tr>\n",
       "      <th>...</th>\n",
       "      <td>...</td>\n",
       "      <td>...</td>\n",
       "      <td>...</td>\n",
       "      <td>...</td>\n",
       "      <td>...</td>\n",
       "      <td>...</td>\n",
       "      <td>...</td>\n",
       "      <td>...</td>\n",
       "      <td>...</td>\n",
       "      <td>...</td>\n",
       "    </tr>\n",
       "    <tr>\n",
       "      <th>13003</th>\n",
       "      <td>NONE</td>\n",
       "      <td>None</td>\n",
       "      <td>C00462754</td>\n",
       "      <td>PAC - Nonqualified</td>\n",
       "      <td>Unauthorized</td>\n",
       "      <td>ZR FPAC</td>\n",
       "      <td>NaN</td>\n",
       "      <td>MN</td>\n",
       "      <td>NaN</td>\n",
       "      <td>NaN</td>\n",
       "    </tr>\n",
       "    <tr>\n",
       "      <th>13004</th>\n",
       "      <td>ENDEAVOR ACTION</td>\n",
       "      <td>None</td>\n",
       "      <td>C00459693</td>\n",
       "      <td>PAC - Qualified</td>\n",
       "      <td>Unauthorized</td>\n",
       "      <td>ZUFFA POLITICAL ACTION COMMMITTEE</td>\n",
       "      <td>NaN</td>\n",
       "      <td>DC</td>\n",
       "      <td>NaN</td>\n",
       "      <td>NaN</td>\n",
       "    </tr>\n",
       "    <tr>\n",
       "      <th>13005</th>\n",
       "      <td>NaN</td>\n",
       "      <td>H0OH12088</td>\n",
       "      <td>C00472332</td>\n",
       "      <td>House</td>\n",
       "      <td>Principal campaign committee</td>\n",
       "      <td>ZUKOWSKI FOR CONGRESS</td>\n",
       "      <td>NaN</td>\n",
       "      <td>OH</td>\n",
       "      <td>NaN</td>\n",
       "      <td>NaN</td>\n",
       "    </tr>\n",
       "    <tr>\n",
       "      <th>13006</th>\n",
       "      <td>ZURICH HOLDING COMPANY OF AMERICA, INC.</td>\n",
       "      <td>None</td>\n",
       "      <td>C00235036</td>\n",
       "      <td>PAC - Qualified</td>\n",
       "      <td>Lobbyist/Registrant PAC</td>\n",
       "      <td>ZURICH HOLDING COMPANY OF AMERICA, INC. COMMIT...</td>\n",
       "      <td>Corporation</td>\n",
       "      <td>DC</td>\n",
       "      <td>NaN</td>\n",
       "      <td>NaN</td>\n",
       "    </tr>\n",
       "    <tr>\n",
       "      <th>13007</th>\n",
       "      <td>NaN</td>\n",
       "      <td>None</td>\n",
       "      <td>C30001184</td>\n",
       "      <td>Electioneering Communication</td>\n",
       "      <td>Unauthorized</td>\n",
       "      <td>NaN</td>\n",
       "      <td>NaN</td>\n",
       "      <td>DC</td>\n",
       "      <td>NaN</td>\n",
       "      <td>NaN</td>\n",
       "    </tr>\n",
       "  </tbody>\n",
       "</table>\n",
       "<p>13008 rows × 10 columns</p>\n",
       "</div>"
      ],
      "text/plain": [
       "                      affiliated_committee_name candidate_ids committee_id  \\\n",
       "0                                           NaN          None    C00408286   \n",
       "1                                           NaN          None    C00486647   \n",
       "2              REPUBLICAN PARTY OF VIRGINIA INC     H6VA10134    C00005462   \n",
       "3                                           NaN          None    C90013426   \n",
       "4      1199 SEIU UNITED HEALTHCARE WORKERS EAST          None    C00348540   \n",
       "...                                         ...           ...          ...   \n",
       "13003                                      NONE          None    C00462754   \n",
       "13004                           ENDEAVOR ACTION          None    C00459693   \n",
       "13005                                       NaN     H0OH12088    C00472332   \n",
       "13006   ZURICH HOLDING COMPANY OF AMERICA, INC.          None    C00235036   \n",
       "13007                                       NaN          None    C30001184   \n",
       "\n",
       "                                        committee_type  \\\n",
       "0                                 Party - Nonqualified   \n",
       "1                                   PAC - Nonqualified   \n",
       "2                                    Party - Qualified   \n",
       "3      Independent expenditure filer (not a committee)   \n",
       "4                                      PAC - Qualified   \n",
       "...                                                ...   \n",
       "13003                               PAC - Nonqualified   \n",
       "13004                                  PAC - Qualified   \n",
       "13005                                            House   \n",
       "13006                                  PAC - Qualified   \n",
       "13007                     Electioneering Communication   \n",
       "\n",
       "                   designation_type  \\\n",
       "0                      Unauthorized   \n",
       "1                      Unauthorized   \n",
       "2                      Unauthorized   \n",
       "3                      Unauthorized   \n",
       "4                      Unauthorized   \n",
       "...                             ...   \n",
       "13003                  Unauthorized   \n",
       "13004                  Unauthorized   \n",
       "13005  Principal campaign committee   \n",
       "13006       Lobbyist/Registrant PAC   \n",
       "13007                  Unauthorized   \n",
       "\n",
       "                                                    name   organization_type  \\\n",
       "0            10TH CONGRESSIONAL DISTRICT DEMOCRATIC COMM                 NaN   \n",
       "1                                  10TH CONSTITUTION PAC                 NaN   \n",
       "2       10TH DISTRICT REPUBLICAN CONGRESSIONAL COMMITTEE                 NaN   \n",
       "3                1199SEIU UNITED HEALTHCARE WORKERS EAST                 NaN   \n",
       "4      1199 SEIU UNITED HEALTHCARE WORKERS EAST FEDER...  Labor Organization   \n",
       "...                                                  ...                 ...   \n",
       "13003                                            ZR FPAC                 NaN   \n",
       "13004                  ZUFFA POLITICAL ACTION COMMMITTEE                 NaN   \n",
       "13005                              ZUKOWSKI FOR CONGRESS                 NaN   \n",
       "13006  ZURICH HOLDING COMPANY OF AMERICA, INC. COMMIT...         Corporation   \n",
       "13007                                                NaN                 NaN   \n",
       "\n",
       "      state topic_weight       summary  \n",
       "0        MI          NaN           NaN  \n",
       "1        MA          NaN           NaN  \n",
       "2        VA          NaN           NaN  \n",
       "3        NY     tw_labor  Labor Unions  \n",
       "4        NY     tw_labor  Labor Unions  \n",
       "...     ...          ...           ...  \n",
       "13003    MN          NaN           NaN  \n",
       "13004    DC          NaN           NaN  \n",
       "13005    OH          NaN           NaN  \n",
       "13006    DC          NaN           NaN  \n",
       "13007    DC          NaN           NaN  \n",
       "\n",
       "[13008 rows x 10 columns]"
      ]
     },
     "execution_count": 6,
     "metadata": {},
     "output_type": "execute_result"
    }
   ],
   "source": [
    "slice_string(df3, 'candidate_ids')"
   ]
  },
  {
   "cell_type": "code",
   "execution_count": 7,
   "id": "53e2ac43-342c-435b-8730-22f6f2d54b21",
   "metadata": {},
   "outputs": [
    {
     "data": {
      "text/plain": [
       "P80003338    15\n",
       "P80002801    11\n",
       "P80000748     8\n",
       "S2CA00286     6\n",
       "P80003353     6\n",
       "             ..\n",
       "S0CA00330     1\n",
       "H0IL19048     1\n",
       "S2NE00094     1\n",
       "H2OH12068     1\n",
       "H0OH12088     1\n",
       "Name: candidate_ids, Length: 3810, dtype: int64"
      ]
     },
     "execution_count": 7,
     "metadata": {},
     "output_type": "execute_result"
    }
   ],
   "source": [
    "df3['candidate_ids'].value_counts()"
   ]
  },
  {
   "cell_type": "code",
   "execution_count": 8,
   "id": "eed465fb-5e44-49dc-9c6f-8066dfde5dc5",
   "metadata": {},
   "outputs": [
    {
     "data": {
      "text/plain": [
       "13008"
      ]
     },
     "execution_count": 8,
     "metadata": {},
     "output_type": "execute_result"
    }
   ],
   "source": [
    "df3.to_sql(name='committees', con=conn, if_exists='replace', index=False)"
   ]
  },
  {
   "cell_type": "markdown",
   "id": "2fcc585a-177a-457c-91c6-b329c449280d",
   "metadata": {},
   "source": [
    "#### Party Codes"
   ]
  },
  {
   "cell_type": "code",
   "execution_count": 18,
   "id": "6a2804dd-bc40-4127-bbd9-e980bdbf6d6b",
   "metadata": {},
   "outputs": [],
   "source": [
    "df4 = pd.read_csv('./datasets/party_codes.csv')"
   ]
  },
  {
   "cell_type": "code",
   "execution_count": 19,
   "id": "c768670a-c046-47f9-b425-cd9d75ee3ba1",
   "metadata": {},
   "outputs": [
    {
     "data": {
      "text/plain": [
       "(53, 2)"
      ]
     },
     "execution_count": 19,
     "metadata": {},
     "output_type": "execute_result"
    }
   ],
   "source": [
    "df4.shape"
   ]
  },
  {
   "cell_type": "code",
   "execution_count": 22,
   "id": "9fda5315-8fc4-40ac-a327-22a3ef5e9293",
   "metadata": {},
   "outputs": [
    {
     "data": {
      "text/html": [
       "<div>\n",
       "<style scoped>\n",
       "    .dataframe tbody tr th:only-of-type {\n",
       "        vertical-align: middle;\n",
       "    }\n",
       "\n",
       "    .dataframe tbody tr th {\n",
       "        vertical-align: top;\n",
       "    }\n",
       "\n",
       "    .dataframe thead th {\n",
       "        text-align: right;\n",
       "    }\n",
       "</style>\n",
       "<table border=\"1\" class=\"dataframe\">\n",
       "  <thead>\n",
       "    <tr style=\"text-align: right;\">\n",
       "      <th></th>\n",
       "      <th>Party Code</th>\n",
       "      <th>Party Name</th>\n",
       "    </tr>\n",
       "  </thead>\n",
       "  <tbody>\n",
       "    <tr>\n",
       "      <th>0</th>\n",
       "      <td>100</td>\n",
       "      <td>Democratic Party</td>\n",
       "    </tr>\n",
       "    <tr>\n",
       "      <th>1</th>\n",
       "      <td>200</td>\n",
       "      <td>Republican Party</td>\n",
       "    </tr>\n",
       "  </tbody>\n",
       "</table>\n",
       "</div>"
      ],
      "text/plain": [
       "   Party Code        Party Name\n",
       "0         100  Democratic Party\n",
       "1         200  Republican Party"
      ]
     },
     "execution_count": 22,
     "metadata": {},
     "output_type": "execute_result"
    }
   ],
   "source": [
    "df4.head(2)"
   ]
  },
  {
   "cell_type": "code",
   "execution_count": 23,
   "id": "75416049-f0a0-4ae3-9424-a2eb2d61db35",
   "metadata": {},
   "outputs": [
    {
     "data": {
      "text/plain": [
       "53"
      ]
     },
     "execution_count": 23,
     "metadata": {},
     "output_type": "execute_result"
    }
   ],
   "source": [
    "df4.to_sql(name='party_codes', con=conn, if_exists='replace', index=False)"
   ]
  },
  {
   "cell_type": "markdown",
   "id": "dd8b8fa9-ed05-454d-be7c-88d67f969ebb",
   "metadata": {
    "jp-MarkdownHeadingCollapsed": true
   },
   "source": [
    "#### Congressional Member Descriptions"
   ]
  },
  {
   "cell_type": "code",
   "execution_count": 38,
   "id": "e0e57bea-a977-400a-ad66-bbc602ccaffc",
   "metadata": {},
   "outputs": [],
   "source": [
    "df5 = pd.read_csv('./datasets/congress.csv')"
   ]
  },
  {
   "cell_type": "code",
   "execution_count": 39,
   "id": "28da97c8-16ea-491f-935b-d04106b0cbe8",
   "metadata": {},
   "outputs": [
    {
     "data": {
      "text/plain": [
       "(433, 23)"
      ]
     },
     "execution_count": 39,
     "metadata": {},
     "output_type": "execute_result"
    }
   ],
   "source": [
    "df5.shape"
   ]
  },
  {
   "cell_type": "code",
   "execution_count": 40,
   "id": "2f9c6085-5c92-434b-8044-a905c62096b4",
   "metadata": {},
   "outputs": [
    {
     "data": {
      "text/html": [
       "<div>\n",
       "<style scoped>\n",
       "    .dataframe tbody tr th:only-of-type {\n",
       "        vertical-align: middle;\n",
       "    }\n",
       "\n",
       "    .dataframe tbody tr th {\n",
       "        vertical-align: top;\n",
       "    }\n",
       "\n",
       "    .dataframe thead th {\n",
       "        text-align: right;\n",
       "    }\n",
       "</style>\n",
       "<table border=\"1\" class=\"dataframe\">\n",
       "  <thead>\n",
       "    <tr style=\"text-align: right;\">\n",
       "      <th></th>\n",
       "      <th>icpsr</th>\n",
       "      <th>district</th>\n",
       "      <th>state</th>\n",
       "      <th>party</th>\n",
       "      <th>congress_id</th>\n",
       "      <th>NOMINATE_dim1</th>\n",
       "      <th>NOMINATE_dim2</th>\n",
       "      <th>candidate_id</th>\n",
       "      <th>name</th>\n",
       "      <th>ici</th>\n",
       "      <th>...</th>\n",
       "      <th>comm_disb</th>\n",
       "      <th>start_cash</th>\n",
       "      <th>end_cash</th>\n",
       "      <th>cand_contrib</th>\n",
       "      <th>cand_loans</th>\n",
       "      <th>ind_contrib</th>\n",
       "      <th>district.1</th>\n",
       "      <th>state.1</th>\n",
       "      <th>other_comm_contrib</th>\n",
       "      <th>pty_contrib</th>\n",
       "    </tr>\n",
       "  </thead>\n",
       "  <tbody>\n",
       "    <tr>\n",
       "      <th>0</th>\n",
       "      <td>20300</td>\n",
       "      <td>1</td>\n",
       "      <td>AL</td>\n",
       "      <td>200</td>\n",
       "      <td>B001244</td>\n",
       "      <td>0.367</td>\n",
       "      <td>0.513</td>\n",
       "      <td>H2AL01077</td>\n",
       "      <td>bonner, josiah robias</td>\n",
       "      <td>I</td>\n",
       "      <td>...</td>\n",
       "      <td>0.0</td>\n",
       "      <td>279810.87</td>\n",
       "      <td>157209.22</td>\n",
       "      <td>0.0</td>\n",
       "      <td>0.0</td>\n",
       "      <td>564463.00</td>\n",
       "      <td>AL</td>\n",
       "      <td>1</td>\n",
       "      <td>523034.4</td>\n",
       "      <td>0.0</td>\n",
       "    </tr>\n",
       "    <tr>\n",
       "      <th>1</th>\n",
       "      <td>20301</td>\n",
       "      <td>3</td>\n",
       "      <td>AL</td>\n",
       "      <td>200</td>\n",
       "      <td>R000575</td>\n",
       "      <td>0.363</td>\n",
       "      <td>0.455</td>\n",
       "      <td>H2AL03032</td>\n",
       "      <td>rogers, michael dennis</td>\n",
       "      <td>I</td>\n",
       "      <td>...</td>\n",
       "      <td>270000.0</td>\n",
       "      <td>204259.44</td>\n",
       "      <td>292048.29</td>\n",
       "      <td>0.0</td>\n",
       "      <td>0.0</td>\n",
       "      <td>474560.95</td>\n",
       "      <td>AL</td>\n",
       "      <td>3</td>\n",
       "      <td>588500.0</td>\n",
       "      <td>2700.0</td>\n",
       "    </tr>\n",
       "  </tbody>\n",
       "</table>\n",
       "<p>2 rows × 23 columns</p>\n",
       "</div>"
      ],
      "text/plain": [
       "   icpsr  district state  party congress_id  NOMINATE_dim1  NOMINATE_dim2  \\\n",
       "0  20300         1    AL    200     B001244          0.367          0.513   \n",
       "1  20301         3    AL    200     R000575          0.363          0.455   \n",
       "\n",
       "  candidate_id                    name ici  ...  comm_disb  start_cash  \\\n",
       "0    H2AL01077   bonner, josiah robias   I  ...        0.0   279810.87   \n",
       "1    H2AL03032  rogers, michael dennis   I  ...   270000.0   204259.44   \n",
       "\n",
       "    end_cash  cand_contrib  cand_loans  ind_contrib  district.1  state.1  \\\n",
       "0  157209.22           0.0         0.0    564463.00          AL        1   \n",
       "1  292048.29           0.0         0.0    474560.95          AL        3   \n",
       "\n",
       "   other_comm_contrib pty_contrib  \n",
       "0            523034.4         0.0  \n",
       "1            588500.0      2700.0  \n",
       "\n",
       "[2 rows x 23 columns]"
      ]
     },
     "execution_count": 40,
     "metadata": {},
     "output_type": "execute_result"
    }
   ],
   "source": [
    "df5.head(2)"
   ]
  },
  {
   "cell_type": "code",
   "execution_count": 41,
   "id": "9b9f27b2-213b-4ffb-9381-d1192d0ad3aa",
   "metadata": {},
   "outputs": [
    {
     "data": {
      "text/plain": [
       "[231]"
      ]
     },
     "execution_count": 41,
     "metadata": {},
     "output_type": "execute_result"
    }
   ],
   "source": [
    "# correcting district errors for tableau visualizations\n",
    "df5.index[df5['name'] == 'daines, steven'].tolist()"
   ]
  },
  {
   "cell_type": "code",
   "execution_count": 42,
   "id": "784aad8c-d95c-433d-9a59-25c37cd67968",
   "metadata": {},
   "outputs": [],
   "source": [
    "df5.at[231, 'district'] = 1"
   ]
  },
  {
   "cell_type": "code",
   "execution_count": 43,
   "id": "ccaa6ab7-8779-493c-90b0-511a2deb5a40",
   "metadata": {},
   "outputs": [],
   "source": [
    "# changing names to proper case\n",
    "df5['name'] = df5['name'].str.title()"
   ]
  },
  {
   "cell_type": "code",
   "execution_count": 44,
   "id": "a384ea1b-0abd-494b-b750-5846f98d6e30",
   "metadata": {},
   "outputs": [
    {
     "data": {
      "text/plain": [
       "433"
      ]
     },
     "execution_count": 44,
     "metadata": {},
     "output_type": "execute_result"
    }
   ],
   "source": [
    "df5.to_sql(name='members', con=conn, if_exists='replace', index=False)"
   ]
  },
  {
   "cell_type": "markdown",
   "id": "c153b380-660a-4267-b001-dc3d0d242bdc",
   "metadata": {
    "jp-MarkdownHeadingCollapsed": true
   },
   "source": [
    "#### Roll Call"
   ]
  },
  {
   "cell_type": "code",
   "execution_count": 2,
   "id": "c68a1857-719e-4293-b4c4-c2bb0da395d2",
   "metadata": {},
   "outputs": [],
   "source": [
    "df6 = pd.read_csv('./datasets/c113r.csv')"
   ]
  },
  {
   "cell_type": "code",
   "execution_count": 3,
   "id": "ec6c7392-4d15-4215-8cfc-48a1a7332f65",
   "metadata": {},
   "outputs": [
    {
     "data": {
      "text/plain": [
       "(1202, 20)"
      ]
     },
     "execution_count": 3,
     "metadata": {},
     "output_type": "execute_result"
    }
   ],
   "source": [
    "df6.shape"
   ]
  },
  {
   "cell_type": "code",
   "execution_count": 4,
   "id": "12897a82-4ce3-4970-b9ed-e8445b984a29",
   "metadata": {},
   "outputs": [
    {
     "data": {
      "text/html": [
       "<div>\n",
       "<style scoped>\n",
       "    .dataframe tbody tr th:only-of-type {\n",
       "        vertical-align: middle;\n",
       "    }\n",
       "\n",
       "    .dataframe tbody tr th {\n",
       "        vertical-align: top;\n",
       "    }\n",
       "\n",
       "    .dataframe thead th {\n",
       "        text-align: right;\n",
       "    }\n",
       "</style>\n",
       "<table border=\"1\" class=\"dataframe\">\n",
       "  <thead>\n",
       "    <tr style=\"text-align: right;\">\n",
       "      <th></th>\n",
       "      <th>chamber</th>\n",
       "      <th>rollnumber</th>\n",
       "      <th>date</th>\n",
       "      <th>session</th>\n",
       "      <th>yea_count</th>\n",
       "      <th>nay_count</th>\n",
       "      <th>nominate_mid_1</th>\n",
       "      <th>nominate_mid_2</th>\n",
       "      <th>nominate_spread_1</th>\n",
       "      <th>nominate_spread_2</th>\n",
       "      <th>bill_number</th>\n",
       "      <th>vote_result</th>\n",
       "      <th>vote_desc</th>\n",
       "      <th>vote_question</th>\n",
       "      <th>issue_codes</th>\n",
       "      <th>peltzman_codes</th>\n",
       "      <th>clausen_codes</th>\n",
       "      <th>crs_policy_area</th>\n",
       "      <th>crs_subjects</th>\n",
       "      <th>congress_url</th>\n",
       "    </tr>\n",
       "  </thead>\n",
       "  <tbody>\n",
       "    <tr>\n",
       "      <th>0</th>\n",
       "      <td>House</td>\n",
       "      <td>1</td>\n",
       "      <td>2013-01-03</td>\n",
       "      <td>1</td>\n",
       "      <td>220</td>\n",
       "      <td>192</td>\n",
       "      <td>0.061</td>\n",
       "      <td>0.358</td>\n",
       "      <td>-0.747</td>\n",
       "      <td>0.288</td>\n",
       "      <td>NaN</td>\n",
       "      <td>Boehner</td>\n",
       "      <td>NaN</td>\n",
       "      <td>Election of the Speaker</td>\n",
       "      <td>['Election of the Speaker of the House']</td>\n",
       "      <td>['Internal Organization']</td>\n",
       "      <td>['Miscellaneous Policy']</td>\n",
       "      <td>NaN</td>\n",
       "      <td>NaN</td>\n",
       "      <td>NaN</td>\n",
       "    </tr>\n",
       "    <tr>\n",
       "      <th>1</th>\n",
       "      <td>House</td>\n",
       "      <td>2</td>\n",
       "      <td>2013-01-03</td>\n",
       "      <td>1</td>\n",
       "      <td>224</td>\n",
       "      <td>187</td>\n",
       "      <td>0.056</td>\n",
       "      <td>0.197</td>\n",
       "      <td>-0.732</td>\n",
       "      <td>0.309</td>\n",
       "      <td>hres5</td>\n",
       "      <td>Passed</td>\n",
       "      <td>Adopting rules for the One Hundred Thirteenth ...</td>\n",
       "      <td>On Motion to Table the Motion to Refer</td>\n",
       "      <td>NaN</td>\n",
       "      <td>['Internal Organization']</td>\n",
       "      <td>['Miscellaneous Policy']</td>\n",
       "      <td>Congress</td>\n",
       "      <td>['Administrative law and regulatory procedures...</td>\n",
       "      <td>https://www.congress.gov/bill/113th-congress/h...</td>\n",
       "    </tr>\n",
       "  </tbody>\n",
       "</table>\n",
       "</div>"
      ],
      "text/plain": [
       "  chamber  rollnumber        date  session  yea_count  nay_count  \\\n",
       "0   House           1  2013-01-03        1        220        192   \n",
       "1   House           2  2013-01-03        1        224        187   \n",
       "\n",
       "   nominate_mid_1  nominate_mid_2  nominate_spread_1  nominate_spread_2  \\\n",
       "0           0.061           0.358             -0.747              0.288   \n",
       "1           0.056           0.197             -0.732              0.309   \n",
       "\n",
       "  bill_number vote_result                                          vote_desc  \\\n",
       "0         NaN     Boehner                                                NaN   \n",
       "1       hres5      Passed  Adopting rules for the One Hundred Thirteenth ...   \n",
       "\n",
       "                            vote_question  \\\n",
       "0                 Election of the Speaker   \n",
       "1  On Motion to Table the Motion to Refer   \n",
       "\n",
       "                                issue_codes             peltzman_codes  \\\n",
       "0  ['Election of the Speaker of the House']  ['Internal Organization']   \n",
       "1                                       NaN  ['Internal Organization']   \n",
       "\n",
       "              clausen_codes crs_policy_area  \\\n",
       "0  ['Miscellaneous Policy']             NaN   \n",
       "1  ['Miscellaneous Policy']        Congress   \n",
       "\n",
       "                                        crs_subjects  \\\n",
       "0                                                NaN   \n",
       "1  ['Administrative law and regulatory procedures...   \n",
       "\n",
       "                                        congress_url  \n",
       "0                                                NaN  \n",
       "1  https://www.congress.gov/bill/113th-congress/h...  "
      ]
     },
     "execution_count": 4,
     "metadata": {},
     "output_type": "execute_result"
    }
   ],
   "source": [
    "df6.head(2)"
   ]
  },
  {
   "cell_type": "code",
   "execution_count": 5,
   "id": "4cf9ec03-2f6d-4cb1-af22-e6a8b2e6b303",
   "metadata": {},
   "outputs": [
    {
     "data": {
      "text/plain": [
       "1202"
      ]
     },
     "execution_count": 5,
     "metadata": {},
     "output_type": "execute_result"
    }
   ],
   "source": [
    "df6.to_sql(name='roll_call', con=conn, if_exists='replace', index=False)"
   ]
  },
  {
   "cell_type": "markdown",
   "id": "1415eed7-7290-4129-8e8d-8efd4664b550",
   "metadata": {
    "jp-MarkdownHeadingCollapsed": true
   },
   "source": [
    "#### Member Votes"
   ]
  },
  {
   "cell_type": "code",
   "execution_count": 16,
   "id": "12fb84c6-1b76-4cac-a97f-bf8b6398e0e4",
   "metadata": {},
   "outputs": [],
   "source": [
    "df7 = pd.read_csv('./datasets/c113v.csv')"
   ]
  },
  {
   "cell_type": "code",
   "execution_count": 17,
   "id": "05ed1652-db14-41bd-ad56-7c5f6f02c1db",
   "metadata": {},
   "outputs": [
    {
     "data": {
      "text/plain": [
       "(520314, 5)"
      ]
     },
     "execution_count": 17,
     "metadata": {},
     "output_type": "execute_result"
    }
   ],
   "source": [
    "df7.shape"
   ]
  },
  {
   "cell_type": "code",
   "execution_count": 18,
   "id": "f121923a-5791-4f24-a546-51c68ccc24c1",
   "metadata": {},
   "outputs": [
    {
     "data": {
      "text/html": [
       "<div>\n",
       "<style scoped>\n",
       "    .dataframe tbody tr th:only-of-type {\n",
       "        vertical-align: middle;\n",
       "    }\n",
       "\n",
       "    .dataframe tbody tr th {\n",
       "        vertical-align: top;\n",
       "    }\n",
       "\n",
       "    .dataframe thead th {\n",
       "        text-align: right;\n",
       "    }\n",
       "</style>\n",
       "<table border=\"1\" class=\"dataframe\">\n",
       "  <thead>\n",
       "    <tr style=\"text-align: right;\">\n",
       "      <th></th>\n",
       "      <th>icpsr</th>\n",
       "      <th>cast_code</th>\n",
       "      <th>chamber</th>\n",
       "      <th>rollnumber</th>\n",
       "      <th>prob</th>\n",
       "    </tr>\n",
       "  </thead>\n",
       "  <tbody>\n",
       "    <tr>\n",
       "      <th>0</th>\n",
       "      <td>2605</td>\n",
       "      <td>7</td>\n",
       "      <td>House</td>\n",
       "      <td>1</td>\n",
       "      <td>100.0</td>\n",
       "    </tr>\n",
       "    <tr>\n",
       "      <th>1</th>\n",
       "      <td>10713</td>\n",
       "      <td>6</td>\n",
       "      <td>House</td>\n",
       "      <td>1</td>\n",
       "      <td>100.0</td>\n",
       "    </tr>\n",
       "  </tbody>\n",
       "</table>\n",
       "</div>"
      ],
      "text/plain": [
       "   icpsr  cast_code chamber  rollnumber   prob\n",
       "0   2605          7   House           1  100.0\n",
       "1  10713          6   House           1  100.0"
      ]
     },
     "execution_count": 18,
     "metadata": {},
     "output_type": "execute_result"
    }
   ],
   "source": [
    "df7.head(2)"
   ]
  },
  {
   "cell_type": "code",
   "execution_count": 19,
   "id": "9f3cd066-b3db-4a46-b896-3a6b8f12df77",
   "metadata": {},
   "outputs": [
    {
     "data": {
      "text/plain": [
       "520314"
      ]
     },
     "execution_count": 19,
     "metadata": {},
     "output_type": "execute_result"
    }
   ],
   "source": [
    "df7.to_sql(name='votes', con=conn, if_exists='replace', index=False)"
   ]
  },
  {
   "cell_type": "markdown",
   "id": "2c6cdf21-d621-4359-977c-525e2112837e",
   "metadata": {
    "jp-MarkdownHeadingCollapsed": true
   },
   "source": [
    "#### Expenditures"
   ]
  },
  {
   "cell_type": "code",
   "execution_count": 8,
   "id": "18ef2d0b-99bb-486e-947e-188bf3264845",
   "metadata": {},
   "outputs": [
    {
     "data": {
      "text/html": [
       "<div>\n",
       "<style scoped>\n",
       "    .dataframe tbody tr th:only-of-type {\n",
       "        vertical-align: middle;\n",
       "    }\n",
       "\n",
       "    .dataframe tbody tr th {\n",
       "        vertical-align: top;\n",
       "    }\n",
       "\n",
       "    .dataframe thead th {\n",
       "        text-align: right;\n",
       "    }\n",
       "</style>\n",
       "<table border=\"1\" class=\"dataframe\">\n",
       "  <thead>\n",
       "    <tr style=\"text-align: right;\">\n",
       "      <th></th>\n",
       "      <th>candidate_id</th>\n",
       "      <th>candidate_name</th>\n",
       "      <th>committee_id</th>\n",
       "      <th>committee_name</th>\n",
       "      <th>count</th>\n",
       "      <th>cycle</th>\n",
       "      <th>support_oppose_indicator</th>\n",
       "      <th>total</th>\n",
       "    </tr>\n",
       "  </thead>\n",
       "  <tbody>\n",
       "    <tr>\n",
       "      <th>0</th>\n",
       "      <td>H2AL01077</td>\n",
       "      <td>BONNER, JOSIAH ROBIAS</td>\n",
       "      <td>C00502849</td>\n",
       "      <td>CAMPAIGN FOR PRIMARY ACCOUNTABILITY INC</td>\n",
       "      <td>13</td>\n",
       "      <td>2012</td>\n",
       "      <td>O</td>\n",
       "      <td>123679.84</td>\n",
       "    </tr>\n",
       "    <tr>\n",
       "      <th>1</th>\n",
       "      <td>H0AL02087</td>\n",
       "      <td>ROBY, MARTHA</td>\n",
       "      <td>C00000935</td>\n",
       "      <td>DEMOCRATIC CONGRESSIONAL CAMPAIGN COMMITTEE</td>\n",
       "      <td>3</td>\n",
       "      <td>2012</td>\n",
       "      <td>O</td>\n",
       "      <td>11676.41</td>\n",
       "    </tr>\n",
       "  </tbody>\n",
       "</table>\n",
       "</div>"
      ],
      "text/plain": [
       "  candidate_id         candidate_name committee_id  \\\n",
       "0    H2AL01077  BONNER, JOSIAH ROBIAS    C00502849   \n",
       "1    H0AL02087           ROBY, MARTHA    C00000935   \n",
       "\n",
       "                                committee_name  count  cycle  \\\n",
       "0      CAMPAIGN FOR PRIMARY ACCOUNTABILITY INC     13   2012   \n",
       "1  DEMOCRATIC CONGRESSIONAL CAMPAIGN COMMITTEE      3   2012   \n",
       "\n",
       "  support_oppose_indicator      total  \n",
       "0                        O  123679.84  \n",
       "1                        O   11676.41  "
      ]
     },
     "execution_count": 8,
     "metadata": {},
     "output_type": "execute_result"
    }
   ],
   "source": [
    "df8 = pd.read_csv('./datasets/expenditures.csv')\n",
    "df8.head(2)"
   ]
  },
  {
   "cell_type": "code",
   "execution_count": 9,
   "id": "60e98bbd-03f2-4b04-a83f-b1c6437724dc",
   "metadata": {},
   "outputs": [
    {
     "data": {
      "text/plain": [
       "1619"
      ]
     },
     "execution_count": 9,
     "metadata": {},
     "output_type": "execute_result"
    }
   ],
   "source": [
    "df8.to_sql(name='expenditures', con=conn, if_exists='replace', index=False)"
   ]
  },
  {
   "cell_type": "markdown",
   "id": "b3aae45c-43b6-4cbd-9fb3-95c39123cc5a",
   "metadata": {
    "jp-MarkdownHeadingCollapsed": true
   },
   "source": [
    "#### Receipts (not used)"
   ]
  },
  {
   "cell_type": "code",
   "execution_count": 22,
   "id": "02df2f8f-873d-42f7-a0d8-bed6e9b90a76",
   "metadata": {},
   "outputs": [
    {
     "data": {
      "text/html": [
       "<div>\n",
       "<style scoped>\n",
       "    .dataframe tbody tr th:only-of-type {\n",
       "        vertical-align: middle;\n",
       "    }\n",
       "\n",
       "    .dataframe tbody tr th {\n",
       "        vertical-align: top;\n",
       "    }\n",
       "\n",
       "    .dataframe thead th {\n",
       "        text-align: right;\n",
       "    }\n",
       "</style>\n",
       "<table border=\"1\" class=\"dataframe\">\n",
       "  <thead>\n",
       "    <tr style=\"text-align: right;\">\n",
       "      <th></th>\n",
       "      <th>committee_id</th>\n",
       "      <th>committee_name</th>\n",
       "      <th>count</th>\n",
       "      <th>cycle</th>\n",
       "      <th>memo_count</th>\n",
       "      <th>memo_total</th>\n",
       "      <th>recipient_id</th>\n",
       "      <th>recipient_name</th>\n",
       "      <th>total</th>\n",
       "    </tr>\n",
       "  </thead>\n",
       "  <tbody>\n",
       "    <tr>\n",
       "      <th>0</th>\n",
       "      <td>C00004036</td>\n",
       "      <td>SEIU COPE (SERVICE EMPLOYEES INTERNATIONAL UNI...</td>\n",
       "      <td>1</td>\n",
       "      <td>2012</td>\n",
       "      <td>0</td>\n",
       "      <td>0.0</td>\n",
       "      <td>C00348540</td>\n",
       "      <td>1199 SERVICE EMPLOYEES INT'L UNION FEDERAL POL...</td>\n",
       "      <td>125000.0</td>\n",
       "    </tr>\n",
       "    <tr>\n",
       "      <th>1</th>\n",
       "      <td>C00348540</td>\n",
       "      <td>1199 SEIU UNITED HEALTHCARE WORKERS EAST FEDER...</td>\n",
       "      <td>1</td>\n",
       "      <td>2012</td>\n",
       "      <td>0</td>\n",
       "      <td>0.0</td>\n",
       "      <td>C00344531</td>\n",
       "      <td>1199 32BJ/144 SERVICE EMPLOYEES INTERNATIONAL ...</td>\n",
       "      <td>3546.0</td>\n",
       "    </tr>\n",
       "  </tbody>\n",
       "</table>\n",
       "</div>"
      ],
      "text/plain": [
       "  committee_id                                     committee_name  count  \\\n",
       "0    C00004036  SEIU COPE (SERVICE EMPLOYEES INTERNATIONAL UNI...      1   \n",
       "1    C00348540  1199 SEIU UNITED HEALTHCARE WORKERS EAST FEDER...      1   \n",
       "\n",
       "   cycle  memo_count  memo_total recipient_id  \\\n",
       "0   2012           0         0.0    C00348540   \n",
       "1   2012           0         0.0    C00344531   \n",
       "\n",
       "                                      recipient_name     total  \n",
       "0  1199 SERVICE EMPLOYEES INT'L UNION FEDERAL POL...  125000.0  \n",
       "1  1199 32BJ/144 SERVICE EMPLOYEES INTERNATIONAL ...    3546.0  "
      ]
     },
     "execution_count": 22,
     "metadata": {},
     "output_type": "execute_result"
    }
   ],
   "source": [
    "df9 = pd.read_csv('./datasets/receipts.csv')\n",
    "df9.head(2)"
   ]
  },
  {
   "cell_type": "code",
   "execution_count": 23,
   "id": "7091e1e6-1fbb-43a6-907d-081b4eb07f34",
   "metadata": {},
   "outputs": [
    {
     "data": {
      "text/plain": [
       "2712"
      ]
     },
     "execution_count": 23,
     "metadata": {},
     "output_type": "execute_result"
    }
   ],
   "source": [
    "df9.to_sql(name='receipts', con=conn, if_exists='replace', index=False)"
   ]
  },
  {
   "cell_type": "markdown",
   "id": "c975081f-9301-4e4e-9e20-5b66e69d8f24",
   "metadata": {
    "jp-MarkdownHeadingCollapsed": true
   },
   "source": [
    "#### Candidate Committees (not used)"
   ]
  },
  {
   "cell_type": "code",
   "execution_count": 13,
   "id": "89da0ed0-9eb9-4b27-8712-f1dca7df8958",
   "metadata": {},
   "outputs": [
    {
     "data": {
      "text/html": [
       "<div>\n",
       "<style scoped>\n",
       "    .dataframe tbody tr th:only-of-type {\n",
       "        vertical-align: middle;\n",
       "    }\n",
       "\n",
       "    .dataframe tbody tr th {\n",
       "        vertical-align: top;\n",
       "    }\n",
       "\n",
       "    .dataframe thead th {\n",
       "        text-align: right;\n",
       "    }\n",
       "</style>\n",
       "<table border=\"1\" class=\"dataframe\">\n",
       "  <thead>\n",
       "    <tr style=\"text-align: right;\">\n",
       "      <th></th>\n",
       "      <th>affiliated_org</th>\n",
       "      <th>candidate_id</th>\n",
       "      <th>committee_id</th>\n",
       "      <th>committee_type</th>\n",
       "      <th>designation</th>\n",
       "      <th>name</th>\n",
       "      <th>org_type</th>\n",
       "    </tr>\n",
       "  </thead>\n",
       "  <tbody>\n",
       "    <tr>\n",
       "      <th>0</th>\n",
       "      <td>GULF COAST VICTORY FUND</td>\n",
       "      <td>H2AL01077</td>\n",
       "      <td>C00375220</td>\n",
       "      <td>H</td>\n",
       "      <td>P</td>\n",
       "      <td>JO BONNER FOR CONGRESS COMMITTEE</td>\n",
       "      <td>NaN</td>\n",
       "    </tr>\n",
       "    <tr>\n",
       "      <th>1</th>\n",
       "      <td>NONE</td>\n",
       "      <td>H2AL03032</td>\n",
       "      <td>C00367862</td>\n",
       "      <td>H</td>\n",
       "      <td>P</td>\n",
       "      <td>MIKE ROGERS FOR CONGRESS</td>\n",
       "      <td>NaN</td>\n",
       "    </tr>\n",
       "  </tbody>\n",
       "</table>\n",
       "</div>"
      ],
      "text/plain": [
       "            affiliated_org candidate_id committee_id committee_type  \\\n",
       "0  GULF COAST VICTORY FUND    H2AL01077    C00375220              H   \n",
       "1                     NONE    H2AL03032    C00367862              H   \n",
       "\n",
       "  designation                              name  org_type  \n",
       "0           P  JO BONNER FOR CONGRESS COMMITTEE       NaN  \n",
       "1           P          MIKE ROGERS FOR CONGRESS       NaN  "
      ]
     },
     "execution_count": 13,
     "metadata": {},
     "output_type": "execute_result"
    }
   ],
   "source": [
    "df10 = pd.read_csv('./datasets/candidate_committees.csv')\n",
    "df10.head(2)"
   ]
  },
  {
   "cell_type": "code",
   "execution_count": 14,
   "id": "e5c60491-c3e2-4c7e-9733-db91896b093c",
   "metadata": {},
   "outputs": [
    {
     "data": {
      "text/plain": [
       "513"
      ]
     },
     "execution_count": 14,
     "metadata": {},
     "output_type": "execute_result"
    }
   ],
   "source": [
    "df10.to_sql(name='candidate_committees', con=conn, if_exists='replace', index=False)"
   ]
  },
  {
   "cell_type": "markdown",
   "id": "ea068841-2f38-4fe3-b97a-70d73a1b333d",
   "metadata": {
    "jp-MarkdownHeadingCollapsed": true
   },
   "source": [
    "#### Disbursements"
   ]
  },
  {
   "cell_type": "code",
   "execution_count": 25,
   "id": "3f64ccc8-4258-4edc-a919-3b3b354918a8",
   "metadata": {},
   "outputs": [
    {
     "data": {
      "text/html": [
       "<div>\n",
       "<style scoped>\n",
       "    .dataframe tbody tr th:only-of-type {\n",
       "        vertical-align: middle;\n",
       "    }\n",
       "\n",
       "    .dataframe tbody tr th {\n",
       "        vertical-align: top;\n",
       "    }\n",
       "\n",
       "    .dataframe thead th {\n",
       "        text-align: right;\n",
       "    }\n",
       "</style>\n",
       "<table border=\"1\" class=\"dataframe\">\n",
       "  <thead>\n",
       "    <tr style=\"text-align: right;\">\n",
       "      <th></th>\n",
       "      <th>committee_id</th>\n",
       "      <th>committee_name</th>\n",
       "      <th>count</th>\n",
       "      <th>recipient_id</th>\n",
       "      <th>recipient_name</th>\n",
       "      <th>total</th>\n",
       "    </tr>\n",
       "  </thead>\n",
       "  <tbody>\n",
       "    <tr>\n",
       "      <th>0</th>\n",
       "      <td>C00277335</td>\n",
       "      <td>FAIRFAX COUNTY REPUBLICAN COMMITTEE (FEDERAL)</td>\n",
       "      <td>1</td>\n",
       "      <td>C00005462</td>\n",
       "      <td>10TH DISTRICT REPUBLICAN CONGRESSIONAL COMMITTEE</td>\n",
       "      <td>4940.0</td>\n",
       "    </tr>\n",
       "    <tr>\n",
       "      <th>1</th>\n",
       "      <td>C00004036</td>\n",
       "      <td>SEIU COPE (SERVICE EMPLOYEES INTERNATIONAL UNI...</td>\n",
       "      <td>1</td>\n",
       "      <td>C00348540</td>\n",
       "      <td>1199 SERVICE EMPLOYEES INT'L UNION FEDERAL POL...</td>\n",
       "      <td>125000.0</td>\n",
       "    </tr>\n",
       "  </tbody>\n",
       "</table>\n",
       "</div>"
      ],
      "text/plain": [
       "  committee_id                                     committee_name  count  \\\n",
       "0    C00277335      FAIRFAX COUNTY REPUBLICAN COMMITTEE (FEDERAL)      1   \n",
       "1    C00004036  SEIU COPE (SERVICE EMPLOYEES INTERNATIONAL UNI...      1   \n",
       "\n",
       "  recipient_id                                     recipient_name     total  \n",
       "0    C00005462   10TH DISTRICT REPUBLICAN CONGRESSIONAL COMMITTEE    4940.0  \n",
       "1    C00348540  1199 SERVICE EMPLOYEES INT'L UNION FEDERAL POL...  125000.0  "
      ]
     },
     "execution_count": 25,
     "metadata": {},
     "output_type": "execute_result"
    }
   ],
   "source": [
    "df11 = pd.read_csv('./datasets/disbursements.csv')\n",
    "df11.head(2)"
   ]
  },
  {
   "cell_type": "code",
   "execution_count": 26,
   "id": "3f13a8f0-eda2-4df5-8483-e88eef9ef487",
   "metadata": {},
   "outputs": [
    {
     "data": {
      "text/plain": [
       "139263"
      ]
     },
     "execution_count": 26,
     "metadata": {},
     "output_type": "execute_result"
    }
   ],
   "source": [
    "df11.to_sql(name='disbursements', con=conn, if_exists='replace', index=False)"
   ]
  },
  {
   "cell_type": "markdown",
   "id": "de660214-e5fc-44e6-8b4f-ea4ad33daa35",
   "metadata": {},
   "source": [
    "## Close Connection"
   ]
  },
  {
   "cell_type": "code",
   "execution_count": 43,
   "id": "d3fd50d8-7a52-43e2-9b27-a834a1fa2623",
   "metadata": {},
   "outputs": [],
   "source": [
    "conn.close()"
   ]
  },
  {
   "cell_type": "code",
   "execution_count": null,
   "id": "ce26a96a-3a13-42f3-ad92-142630a51eee",
   "metadata": {},
   "outputs": [],
   "source": []
  }
 ],
 "metadata": {
  "kernelspec": {
   "display_name": "Python 3 (ipykernel)",
   "language": "python",
   "name": "python3"
  },
  "language_info": {
   "codemirror_mode": {
    "name": "ipython",
    "version": 3
   },
   "file_extension": ".py",
   "mimetype": "text/x-python",
   "name": "python",
   "nbconvert_exporter": "python",
   "pygments_lexer": "ipython3",
   "version": "3.10.12"
  }
 },
 "nbformat": 4,
 "nbformat_minor": 5
}
