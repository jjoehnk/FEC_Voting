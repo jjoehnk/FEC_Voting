{
 "cells": [
  {
   "cell_type": "markdown",
   "id": "4a970742-9ec2-47d2-b032-a31aeda2ea1c",
   "metadata": {},
   "source": [
    "# US Representative Voting Patterns and Funding Sources"
   ]
  },
  {
   "cell_type": "markdown",
   "id": "4a0b2f2f-a075-4a7b-95fc-a19dff3023b9",
   "metadata": {},
   "source": [
    "Part 4: Exploring Database"
   ]
  },
  {
   "cell_type": "code",
   "execution_count": 1,
   "id": "d538986f-8068-44c3-9bdf-ed219eab492a",
   "metadata": {},
   "outputs": [],
   "source": [
    "import numpy as np\n",
    "import pandas as pd \n",
    "import sqlite3 as sq\n",
    "import matplotlib.pyplot as plt"
   ]
  },
  {
   "cell_type": "code",
   "execution_count": 2,
   "id": "50785af2-76d0-4a80-8cff-11e2149f540c",
   "metadata": {},
   "outputs": [],
   "source": [
    "conn = sq.connect('congress.db')\n",
    "cur = conn.cursor()"
   ]
  },
  {
   "cell_type": "markdown",
   "id": "54b0b2d8-d693-450f-8b53-3b37421e4ce6",
   "metadata": {},
   "source": [
    "__________________________________________________________________"
   ]
  },
  {
   "cell_type": "markdown",
   "id": "5fb5ba63-2de8-4579-869b-b5a38dfc3ba0",
   "metadata": {},
   "source": [
    "## Roll Call Exploration"
   ]
  },
  {
   "cell_type": "markdown",
   "id": "8dbacff4-296f-4c41-9d89-4376e4c207f3",
   "metadata": {
    "jp-MarkdownHeadingCollapsed": true
   },
   "source": [
    "### Top Subject Matters by Code\n",
    "\n",
    "*Findings*\n",
    "1. Budget/Government Management and Defense/Foreign Policy come up the most frequently in topics of interest\n",
    "   - ACTION: look for committees that are connected to defense contracts, have a vested interest in foreign policy/military\n",
    "   - While legislation related to the budget and gov management is the most prevelant, the subject matter is the hardest to convey meaning. Though all are distilled down a significant amount, there is the least that one can observably understand from 'budget' alone. "
   ]
  },
  {
   "cell_type": "code",
   "execution_count": null,
   "id": "4b721f9d-65e1-479b-9194-8a3bc0a20727",
   "metadata": {},
   "outputs": [],
   "source": [
    "# creating joined dataframe of all bills and subject categorization metrics\n",
    "bill_df = pd.read_sql_query('SELECT r.rollnumber, r.bill_number, r.nominate_mid_1, r.nominate_mid_2, r.nominate_spread_1, r.nominate_spread_2, r.vote_result, r.vote_desc, r.vote_question, r.issue_codes, r.peltzman_codes, r.clausen_codes, r.crs_policy_area, r.crs_subjects, b.tw_latent1, b.tw_abortion_and_social_conservatism, b.tw_agriculture, b.tw_banking_and_finance, b.tw_civil_rights, b.tw_congress_and_procedural, b.tw_crime, b.tw_defense_and_foreign_policy, b.tw_economy, b.tw_education, b.tw_energy, b.tw_environment, b.tw_fair_elections, b.tw_federal_agencies_and_gov_regulation, b.tw_guns, b.tw_healthcare, b.tw_higher_education, b.tw_immigration, b.tw_indian_affairs, b.tw_intelligence_and_surveillance, b.tw_labor, b.tw_law_courts_and_judges, b.tw_transportation, b.tw_veterans_affairs, b.tw_womens_issues FROM roll_call as r LEFT JOIN bills_dime as b ON r.bill_number = b.bill_id;', conn)"
   ]
  },
  {
   "cell_type": "code",
   "execution_count": null,
   "id": "e9d32e12-b24d-465a-99d1-226341856531",
   "metadata": {
    "scrolled": true
   },
   "outputs": [],
   "source": [
    "pd.set_option('display.max_row', None)\n",
    "bill_df['issue_codes'].value_counts()"
   ]
  },
  {
   "cell_type": "code",
   "execution_count": null,
   "id": "2cefc836-3e78-45d7-a6ab-33b8f0ff4dd5",
   "metadata": {
    "scrolled": true
   },
   "outputs": [],
   "source": [
    "bill_df['peltzman_codes'].value_counts()"
   ]
  },
  {
   "cell_type": "code",
   "execution_count": null,
   "id": "9cbeb836-2d60-42f3-bc98-9f671914c9c1",
   "metadata": {
    "scrolled": true
   },
   "outputs": [],
   "source": [
    "bill_df['clausen_codes'].value_counts()"
   ]
  },
  {
   "cell_type": "code",
   "execution_count": null,
   "id": "d5c19cce-2cd1-459e-8f03-5f370d4fe0f0",
   "metadata": {},
   "outputs": [],
   "source": [
    "# sum of all topic weights from DIME PLUS to determine most frequently addressed subjects\n",
    "tw_df = pd.read_sql_query('SELECT sum(tw_abortion_and_social_conservatism), sum(tw_agriculture), sum(tw_banking_and_finance), sum(tw_civil_rights), sum(tw_congress_and_procedural), sum(tw_crime), sum(tw_defense_and_foreign_policy), sum(tw_economy), sum(tw_education), sum(tw_energy), sum(tw_environment), sum(tw_fair_elections), sum(tw_federal_agencies_and_gov_regulation), sum(tw_guns), sum(tw_healthcare), sum(tw_higher_education), sum(tw_immigration), sum(tw_indian_affairs), sum(tw_intelligence_and_surveillance), sum(tw_labor), sum(tw_law_courts_and_judges), sum(tw_transportation), sum(tw_veterans_affairs), sum(tw_womens_issues) FROM bills_dime;', conn)"
   ]
  },
  {
   "cell_type": "code",
   "execution_count": null,
   "id": "df32b2ce-71b5-4fa4-992d-54688ac26ad9",
   "metadata": {
    "scrolled": true
   },
   "outputs": [],
   "source": [
    "tw = tw_df.transpose().reset_index()\n",
    "tw.columns = ['topic', 'weight']\n",
    "tw.sort_values(by='weight', ascending=False)"
   ]
  },
  {
   "cell_type": "markdown",
   "id": "6ca129ce-45d3-4005-a4c6-5cf029e77e88",
   "metadata": {
    "jp-MarkdownHeadingCollapsed": true
   },
   "source": [
    "### Descriptive Statistics by Subject"
   ]
  },
  {
   "cell_type": "code",
   "execution_count": null,
   "id": "07a3d867-95a1-4046-9524-6073ea89f74f",
   "metadata": {},
   "outputs": [],
   "source": [
    "bill_df.groupby(by='clausen_codes').describe()"
   ]
  },
  {
   "cell_type": "markdown",
   "id": "9b0996ec-116b-4a39-ad49-8b75fb43be71",
   "metadata": {
    "jp-MarkdownHeadingCollapsed": true
   },
   "source": [
    "### NOMINATE Scaling for Top Subject Matters"
   ]
  },
  {
   "cell_type": "code",
   "execution_count": null,
   "id": "aef7f05a-05bf-4600-81d4-c02288156006",
   "metadata": {},
   "outputs": [],
   "source": [
    "# visualizing the 'liberal to conservative' spread of all bills\n",
    "# where closer to 1 on either axis is understood as the most conservative and -1 the most left-wing\n",
    "x = bill_df['nominate_mid_1']\n",
    "y = bill_df['nominate_mid_2']\n",
    "\n",
    "plt.scatter(x, y)\n",
    "plt.show;"
   ]
  },
  {
   "cell_type": "code",
   "execution_count": null,
   "id": "e60dffe4-3d43-47b4-8afc-894b8a9b2c9b",
   "metadata": {},
   "outputs": [],
   "source": [
    "# all defense bills\n",
    "defense_df = pd.read_sql_query(\n",
    "    \"SELECT rollnumber, yea_count, nay_count, nominate_mid_1, nominate_mid_2, \"\n",
    "    \"nominate_spread_1, nominate_spread_2, vote_result, vote_desc, vote_question, \"\n",
    "    \"clausen_codes, peltzman_codes \"\n",
    "    \"FROM roll_call \"\n",
    "    \"WHERE clausen_codes LIKE '%foreign%and%defense%policy%' \"\n",
    "    \"AND peltzman_codes LIKE '%defense%policy%budget%' \"\n",
    "    \"AND nominate_mid_1 != 0;\", conn)\n",
    "\n",
    "# all passed defense bills\n",
    "def_pass_df = pd.read_sql_query(\n",
    "    \"SELECT rollnumber, yea_count, nay_count, nominate_mid_1, nominate_mid_2, \"\n",
    "    \"nominate_spread_1, nominate_spread_2, vote_result, vote_desc, vote_question, \"\n",
    "    \"clausen_codes, peltzman_codes \"\n",
    "    \"FROM roll_call \"\n",
    "    \"WHERE clausen_codes LIKE '%foreign%and%defense%policy%' \"\n",
    "    \"AND peltzman_codes LIKE '%defense%policy%budget%' \"\n",
    "    \"AND nominate_mid_1 != 0 \"\n",
    "    \"AND vote_result LIKE 'Passed'; \", conn)"
   ]
  },
  {
   "cell_type": "code",
   "execution_count": null,
   "id": "2d47729f-0e90-406e-9e63-2f331835b061",
   "metadata": {
    "scrolled": true
   },
   "outputs": [],
   "source": [
    "defense_df.head(2)"
   ]
  },
  {
   "cell_type": "code",
   "execution_count": null,
   "id": "e208195e-5ac5-424b-a4a5-59040eadcdc4",
   "metadata": {
    "scrolled": true
   },
   "outputs": [],
   "source": [
    "def_pass_df.head(2)"
   ]
  },
  {
   "cell_type": "code",
   "execution_count": null,
   "id": "4397e46f-1839-4efd-a9bc-980c627553a7",
   "metadata": {},
   "outputs": [],
   "source": [
    "# visualizing the 'liberal to conservative' spread of all defense policy bills \n",
    "# where closer to 1 on either axis is understood as the most conservative and -1 the most left-wing\n",
    "x = defense_df['nominate_mid_1']\n",
    "y = defense_df['nominate_mid_2']\n",
    "\n",
    "plt.scatter(x, y)\n",
    "plt.show;"
   ]
  },
  {
   "cell_type": "code",
   "execution_count": null,
   "id": "a8b48e87-6a88-4b69-91c9-ef1cd5bcca79",
   "metadata": {},
   "outputs": [],
   "source": [
    "# visualizing the 'liberal to conservative' spread of all defense policy bills \n",
    "# where closer to 1 on either axis is understood as the most conservative and -1 the most left-wing\n",
    "x = def_pass_df['nominate_mid_1']\n",
    "y = def_pass_df['nominate_mid_2']\n",
    "\n",
    "plt.scatter(x, y)\n",
    "plt.show;"
   ]
  },
  {
   "cell_type": "code",
   "execution_count": null,
   "id": "60c1322e-b099-40df-8dd9-e113f013f98b",
   "metadata": {},
   "outputs": [],
   "source": [
    "budget_df = pd.read_sql_query(\n",
    "    \"SELECT rollnumber, yea_count, nay_count, nominate_mid_1, nominate_mid_2, \"\n",
    "    \"nominate_spread_1, nominate_spread_2, vote_result, vote_desc, vote_question, \"\n",
    "    \"clausen_codes, peltzman_codes \"\n",
    "    \"FROM roll_call \"\n",
    "    \"WHERE clausen_codes LIKE '%government%management%' \"\n",
    "    \"AND peltzman_codes LIKE '%budget%' \"\n",
    "    \"AND nominate_mid_1 != 0;\", conn)\n",
    "\n",
    "bud_pass_df = pd.read_sql_query(\n",
    "    \"SELECT rollnumber, yea_count, nay_count, nominate_mid_1, nominate_mid_2, \"\n",
    "    \"nominate_spread_1, nominate_spread_2, vote_result, vote_desc, vote_question, \"\n",
    "    \"clausen_codes, peltzman_codes \"\n",
    "    \"FROM roll_call \"\n",
    "    \"WHERE clausen_codes LIKE '%government%management%' \"\n",
    "    \"AND peltzman_codes LIKE '%budget%' \"\n",
    "    \"AND nominate_mid_1 != 0 \"\n",
    "    \"AND vote_result LIKE 'Passed';\", conn)"
   ]
  },
  {
   "cell_type": "code",
   "execution_count": null,
   "id": "13afd6c7-4d10-49fd-a8a9-be0a1e149661",
   "metadata": {
    "scrolled": true
   },
   "outputs": [],
   "source": [
    "budget_df.head(2)"
   ]
  },
  {
   "cell_type": "code",
   "execution_count": null,
   "id": "84f4ea97-1df4-41e9-be6e-555b17bb0a9a",
   "metadata": {},
   "outputs": [],
   "source": [
    "bud_pass_df.head(2)"
   ]
  },
  {
   "cell_type": "code",
   "execution_count": null,
   "id": "94af823e-698f-45ff-921c-87f438bb9bc1",
   "metadata": {},
   "outputs": [],
   "source": [
    "# visualizing the 'liberal to conservative' spread of all budget policy bills \n",
    "# where closer to 1 on either axis is understood as the most conservative and -1 the most left-wing\n",
    "x = budget_df['nominate_mid_1']\n",
    "y = budget_df['nominate_mid_2']\n",
    "\n",
    "plt.scatter(x, y)\n",
    "plt.show;"
   ]
  },
  {
   "cell_type": "code",
   "execution_count": null,
   "id": "035a7cc2-77a4-4b4d-bd0c-ff6b367e79f4",
   "metadata": {},
   "outputs": [],
   "source": [
    "# visualizing the 'liberal to conservative' spread of all budget policy bills \n",
    "# where closer to 1 on either axis is understood as the most conservative and -1 the most left-wing\n",
    "x = bud_pass_df['nominate_mid_1']\n",
    "y = bud_pass_df['nominate_mid_2']\n",
    "\n",
    "plt.scatter(x, y)\n",
    "plt.show;"
   ]
  },
  {
   "cell_type": "code",
   "execution_count": null,
   "id": "a42b47f8-3afd-4351-be15-c0368d9a6a2b",
   "metadata": {},
   "outputs": [],
   "source": [
    "sw_df = pd.read_sql_query(\n",
    "    \"SELECT rollnumber, yea_count, nay_count, nominate_mid_1, nominate_mid_2, \"\n",
    "    \"nominate_spread_1, nominate_spread_2, vote_result, vote_desc, vote_question, \"\n",
    "    \"clausen_codes, peltzman_codes \"\n",
    "    \"FROM roll_call \"\n",
    "    \"WHERE clausen_codes LIKE '%social%welfare%' \"\n",
    "    \"AND nominate_mid_1 != 0;\", conn)\n",
    "\n",
    "sw_pass_df = pd.read_sql_query(\n",
    "    \"SELECT rollnumber, yea_count, nay_count, nominate_mid_1, nominate_mid_2, \"\n",
    "    \"nominate_spread_1, nominate_spread_2, vote_result, vote_desc, vote_question, \"\n",
    "    \"clausen_codes, peltzman_codes \"\n",
    "    \"FROM roll_call \"\n",
    "    \"WHERE clausen_codes LIKE '%social%welfare%' \"\n",
    "    \"AND nominate_mid_1 != 0 \"\n",
    "    \"AND vote_result LIKE 'Passed'; \", conn)"
   ]
  },
  {
   "cell_type": "code",
   "execution_count": null,
   "id": "bfe6f799-1b98-40bd-9e50-2ef8446e811c",
   "metadata": {},
   "outputs": [],
   "source": [
    "sw_df.head(2)"
   ]
  },
  {
   "cell_type": "code",
   "execution_count": null,
   "id": "7850d7b1-8ff7-4a2a-952f-762c0158b129",
   "metadata": {},
   "outputs": [],
   "source": [
    "sw_pass_df.head(2)"
   ]
  },
  {
   "cell_type": "code",
   "execution_count": null,
   "id": "80060322-4b0f-46ee-aaec-8ac2d602cd5e",
   "metadata": {},
   "outputs": [],
   "source": [
    "# visualizing the 'liberal to conservative' spread of all social welfare policy bills \n",
    "# where closer to 1 on either axis is understood as the most conservative and -1 the most left-wing\n",
    "x = sw_df['nominate_mid_1']\n",
    "y = sw_df['nominate_mid_2']\n",
    "\n",
    "plt.scatter(x, y)\n",
    "plt.show;"
   ]
  },
  {
   "cell_type": "code",
   "execution_count": null,
   "id": "a3e67ead-22ff-4511-9e6e-00ce3e324468",
   "metadata": {},
   "outputs": [],
   "source": [
    "# visualizing the 'liberal to conservative' spread of all social welfare policy bills \n",
    "# where closer to 1 on either axis is understood as the most conservative and -1 the most left-wing\n",
    "x = sw_pass_df['nominate_mid_1']\n",
    "y = sw_pass_df['nominate_mid_2']\n",
    "\n",
    "plt.scatter(x, y)\n",
    "plt.show;"
   ]
  },
  {
   "cell_type": "code",
   "execution_count": null,
   "id": "42d26230-9e12-4b1f-9015-c496226d1239",
   "metadata": {},
   "outputs": [],
   "source": [
    "# can_comm_funds = pd.read_sql_query(\n",
    "#     \"SELECT m.name as member, m.party, m.ttl_receipts, \"\n",
    "#     \"c.name as committee, c.designation_type, c.organization_type \"\n",
    "#     \"FROM members as m \"\n",
    "#     \"JOIN committees as c USING(candidate_id); \", conn)"
   ]
  },
  {
   "cell_type": "code",
   "execution_count": null,
   "id": "19400008-407b-457d-959a-ec28a3e47356",
   "metadata": {},
   "outputs": [],
   "source": []
  },
  {
   "cell_type": "markdown",
   "id": "30aa17aa-2e6a-4199-9c8b-7baae2e9d425",
   "metadata": {},
   "source": [
    "## Committee Exploration\n",
    "\n",
    "Creating Interest Group Categories for Lobbying Groups --> information from OpenSecrets.org\n",
    "\n",
    "Starting Exploration with Four Topics: \n",
    "1. Abortion\n",
    "2. Environment\n",
    "3. Foreign Policy/Defense\n",
    "4. Gun Rights"
   ]
  },
  {
   "cell_type": "code",
   "execution_count": 3,
   "id": "0d4aab56-b17d-4822-895f-a1d6e2218fbe",
   "metadata": {},
   "outputs": [],
   "source": [
    "committee_df = pd.read_csv('./datasets/committees.csv')"
   ]
  },
  {
   "cell_type": "code",
   "execution_count": 4,
   "id": "96fa1006-6c4b-4932-a2a0-56cba3f5711d",
   "metadata": {
    "scrolled": true
   },
   "outputs": [
    {
     "data": {
      "text/html": [
       "<div>\n",
       "<style scoped>\n",
       "    .dataframe tbody tr th:only-of-type {\n",
       "        vertical-align: middle;\n",
       "    }\n",
       "\n",
       "    .dataframe tbody tr th {\n",
       "        vertical-align: top;\n",
       "    }\n",
       "\n",
       "    .dataframe thead th {\n",
       "        text-align: right;\n",
       "    }\n",
       "</style>\n",
       "<table border=\"1\" class=\"dataframe\">\n",
       "  <thead>\n",
       "    <tr style=\"text-align: right;\">\n",
       "      <th></th>\n",
       "      <th>affiliated_committee_name</th>\n",
       "      <th>candidate_ids</th>\n",
       "      <th>committee_id</th>\n",
       "      <th>committee_type</th>\n",
       "      <th>designation_type</th>\n",
       "      <th>name</th>\n",
       "      <th>organization_type</th>\n",
       "      <th>state</th>\n",
       "      <th>topic_weight</th>\n",
       "      <th>summary</th>\n",
       "    </tr>\n",
       "  </thead>\n",
       "  <tbody>\n",
       "    <tr>\n",
       "      <th>0</th>\n",
       "      <td>NaN</td>\n",
       "      <td>[]</td>\n",
       "      <td>C00408286</td>\n",
       "      <td>Party - Nonqualified</td>\n",
       "      <td>Unauthorized</td>\n",
       "      <td>10TH CONGRESSIONAL DISTRICT DEMOCRATIC COMM</td>\n",
       "      <td>NaN</td>\n",
       "      <td>MI</td>\n",
       "      <td>NaN</td>\n",
       "      <td>NaN</td>\n",
       "    </tr>\n",
       "    <tr>\n",
       "      <th>1</th>\n",
       "      <td>NaN</td>\n",
       "      <td>[]</td>\n",
       "      <td>C00486647</td>\n",
       "      <td>PAC - Nonqualified</td>\n",
       "      <td>Unauthorized</td>\n",
       "      <td>10TH CONSTITUTION PAC</td>\n",
       "      <td>NaN</td>\n",
       "      <td>MA</td>\n",
       "      <td>NaN</td>\n",
       "      <td>NaN</td>\n",
       "    </tr>\n",
       "    <tr>\n",
       "      <th>2</th>\n",
       "      <td>REPUBLICAN PARTY OF VIRGINIA INC</td>\n",
       "      <td>['H6VA10134']</td>\n",
       "      <td>C00005462</td>\n",
       "      <td>Party - Qualified</td>\n",
       "      <td>Unauthorized</td>\n",
       "      <td>10TH DISTRICT REPUBLICAN CONGRESSIONAL COMMITTEE</td>\n",
       "      <td>NaN</td>\n",
       "      <td>VA</td>\n",
       "      <td>NaN</td>\n",
       "      <td>NaN</td>\n",
       "    </tr>\n",
       "    <tr>\n",
       "      <th>3</th>\n",
       "      <td>NaN</td>\n",
       "      <td>[]</td>\n",
       "      <td>C90013426</td>\n",
       "      <td>Independent expenditure filer (not a committee)</td>\n",
       "      <td>Unauthorized</td>\n",
       "      <td>1199SEIU UNITED HEALTHCARE WORKERS EAST</td>\n",
       "      <td>NaN</td>\n",
       "      <td>NY</td>\n",
       "      <td>tw_labor</td>\n",
       "      <td>Labor Unions</td>\n",
       "    </tr>\n",
       "    <tr>\n",
       "      <th>4</th>\n",
       "      <td>1199 SEIU UNITED HEALTHCARE WORKERS EAST</td>\n",
       "      <td>[]</td>\n",
       "      <td>C00348540</td>\n",
       "      <td>PAC - Qualified</td>\n",
       "      <td>Unauthorized</td>\n",
       "      <td>1199 SEIU UNITED HEALTHCARE WORKERS EAST FEDER...</td>\n",
       "      <td>Labor Organization</td>\n",
       "      <td>NY</td>\n",
       "      <td>tw_labor</td>\n",
       "      <td>Labor Unions</td>\n",
       "    </tr>\n",
       "  </tbody>\n",
       "</table>\n",
       "</div>"
      ],
      "text/plain": [
       "                  affiliated_committee_name  candidate_ids committee_id  \\\n",
       "0                                       NaN             []    C00408286   \n",
       "1                                       NaN             []    C00486647   \n",
       "2          REPUBLICAN PARTY OF VIRGINIA INC  ['H6VA10134']    C00005462   \n",
       "3                                       NaN             []    C90013426   \n",
       "4  1199 SEIU UNITED HEALTHCARE WORKERS EAST             []    C00348540   \n",
       "\n",
       "                                    committee_type designation_type  \\\n",
       "0                             Party - Nonqualified     Unauthorized   \n",
       "1                               PAC - Nonqualified     Unauthorized   \n",
       "2                                Party - Qualified     Unauthorized   \n",
       "3  Independent expenditure filer (not a committee)     Unauthorized   \n",
       "4                                  PAC - Qualified     Unauthorized   \n",
       "\n",
       "                                                name   organization_type  \\\n",
       "0        10TH CONGRESSIONAL DISTRICT DEMOCRATIC COMM                 NaN   \n",
       "1                              10TH CONSTITUTION PAC                 NaN   \n",
       "2   10TH DISTRICT REPUBLICAN CONGRESSIONAL COMMITTEE                 NaN   \n",
       "3            1199SEIU UNITED HEALTHCARE WORKERS EAST                 NaN   \n",
       "4  1199 SEIU UNITED HEALTHCARE WORKERS EAST FEDER...  Labor Organization   \n",
       "\n",
       "  state topic_weight       summary  \n",
       "0    MI          NaN           NaN  \n",
       "1    MA          NaN           NaN  \n",
       "2    VA          NaN           NaN  \n",
       "3    NY     tw_labor  Labor Unions  \n",
       "4    NY     tw_labor  Labor Unions  "
      ]
     },
     "execution_count": 4,
     "metadata": {},
     "output_type": "execute_result"
    }
   ],
   "source": [
    "committee_df.head()"
   ]
  },
  {
   "cell_type": "code",
   "execution_count": 5,
   "id": "7c61d863-fb42-4fbc-8473-0dac426c6007",
   "metadata": {
    "scrolled": true
   },
   "outputs": [
    {
     "data": {
      "text/plain": [
       "House                                                        3628\n",
       "PAC - Qualified                                              3523\n",
       "PAC - Nonqualified                                           2875\n",
       "Super PAC (Independent Expenditure-Only)                     1275\n",
       "Independent expenditure filer (not a committee)               933\n",
       "Party - Qualified                                             295\n",
       "Party - Nonqualified                                          205\n",
       "Electioneering Communication                                   99\n",
       "Single Candidate Independent Expenditure                       69\n",
       "Hybrid PAC (with Non-Contribution Account) - Nonqualified      61\n",
       "Hybrid PAC (with Non-Contribution Account) - Qualified         45\n",
       "Name: committee_type, dtype: int64"
      ]
     },
     "execution_count": 5,
     "metadata": {},
     "output_type": "execute_result"
    }
   ],
   "source": [
    "committee_df['committee_type'].value_counts()"
   ]
  },
  {
   "cell_type": "code",
   "execution_count": 6,
   "id": "a13d2dcf-9b8f-49bd-919a-27832efb72c8",
   "metadata": {},
   "outputs": [
    {
     "data": {
      "text/plain": [
       "Unauthorized                    6154\n",
       "Principal campaign committee    3306\n",
       "Lobbyist/Registrant PAC         2322\n",
       "Leadership PAC                   517\n",
       "Joint fundraising committee      482\n",
       "Authorized by a candidate        222\n",
       "Name: designation_type, dtype: int64"
      ]
     },
     "execution_count": 6,
     "metadata": {},
     "output_type": "execute_result"
    }
   ],
   "source": [
    "committee_df['designation_type'].value_counts()"
   ]
  },
  {
   "cell_type": "code",
   "execution_count": 7,
   "id": "62384b0c-47ac-4317-8d82-704529db6a1b",
   "metadata": {},
   "outputs": [],
   "source": [
    "# committee id lists based on special interest (topics - abortion, environment, foreign/defense, gun rights, women's rights): \n",
    "prolife = ['C90011313', ' C30000921', 'C00332296', 'C00235861', 'C00208439', 'C00155564', 'C00172601', 'C00491894', 'C00141341', 'C00248898', 'C00213355', 'C00247783', 'C00157958', 'C00111278', 'C00509893', 'C00484634', 'C00260331', 'C00105080', 'C00117200', 'C00228122', 'C00164004', 'C00358051', 'C00394700', 'C00525378', 'C00172361', 'C00104174', 'C00531558', 'C00525576', 'C00520122', 'C00513184', 'C00513697', 'C00525675', 'C00278481', 'C00255406']\n",
    "\n",
    "prochoice = ['C90014051', 'C90004441', 'C90009457', 'C90010729', 'C90005349', 'C90005471', 'C30001945', 'C00314617', 'C90005042', 'C90006065', 'C90007428', 'C90006057', 'C90005885', 'C90005513', 'C90011412', 'C90006479', 'C90007014', 'C90006149', 'C90007063', 'C90007311', 'C90005430', 'C90006719', 'C90006685', 'C90013657', 'C90007105', 'C90013723', 'C90009036', 'C90011024', 'C90008673', 'C90006594', 'C90008970', 'C90008400', 'C90005620', 'C90012576', 'C90005398', 'C90008236', 'C90004466', 'C90014226', 'C90006123', 'C00312082', 'C90005067', 'C90006032', 'C90007543', 'C90008293', 'C90009390', 'C90007329', 'C90006438', 'C90005943', 'C90014465', 'C90007469', 'C90012139', 'C90004946', 'C90008194', 'C90014242', 'C90006867', 'C90005455', 'C90009408', 'C90004458', 'C90013772', 'C90014150', 'C00489799', 'C90012527', 'C90014119', 'C90006487', 'C90010638', 'C90005505', 'C00488502', 'C90006701', 'C90004193', 'C90004185', 'C00079541', 'C00401455', 'C00337451', 'C00368332', 'C00146472', ]\n",
    "\n",
    "environment = ['C00531814', 'C90010513', 'C00442020', 'C90013103', 'C00252940', 'C90006289', 'C90005786', 'C90013335', 'C90013152', 'C00278424', 'C90007121', 'C90011875', 'C00483693', 'C00135368', 'C90009234', 'C00393769', 'C30000368', 'C00523019', 'C90007907', 'C00503318', 'C90010968', 'C00405951', 'C30000954', 'C00471540']\n",
    "\n",
    "foreigndefense = ['C90013830', 'C00387555', 'C00387720', 'C00418897', 'C90010620', 'C30001275', 'C00517060', 'C00194225', 'C00346239', 'C00454819', 'C00352054', 'C00146969']\n",
    "\n",
    "gunrights = ['C90013301', 'C00053553', 'C00356477', 'C00122101', 'C00279653', 'C90011693', 'C00278101', 'C00481200', 'C00458273', 'C00322958', 'C30002158', 'C00480863', 'C00316455']\n",
    "\n",
    "womensrights = ['C00193433', 'C90011115', 'C30001572', 'C90010646', 'C00377168', 'C00488387', 'C00472894', 'C00327189']\n",
    "\n",
    "proisrael = ['C00441949', 'C00247403', 'C00147983', 'C00139659', 'C00110585', 'C00141747', 'C90012063', 'C00345132', 'C00530378', 'C00538124', 'C00492579', 'C00527804', 'C90011552', 'C00102368', 'C00135541', 'C00236596', 'C00239939', 'C00195024', 'C00204388', 'C00473249', 'C00489971']\n",
    "\n",
    "forthegays = ['C90012626', 'C00508440', 'C00235853']\n",
    "\n",
    "notallies = ['C90011982', 'C00405506']\n",
    "\n",
    "agriculturecompanies = ['C00110338', 'C00089136', 'C00400705', 'C00034405', 'C00309237', 'C00215558', 'C00204099', 'C00193631', 'C00177741', 'C00518787', 'C00028787', 'C00425371', 'C00349746', 'C00067884', 'C00007948', 'C00255224', 'C00340083', 'C00042002', 'C00033795', 'C00250464', 'C00014019', 'C00480624', 'C00023028', 'C00416297', 'C00152272', 'C00300426', 'C00326389', 'C00110338', 'C00167684', 'C00081414', 'C00129742', 'C00012328', 'C00424473', 'C00384354', 'C00164939', 'C00166348', 'C00185686', 'C00254656', 'C00326868', 'C00063586', 'C00234120', 'C00446674', 'C00308478', 'C00231670', 'C00520619', 'C00530725', 'C00079566', 'C00001388', 'C00094573', 'C00404863', 'C00478743', 'C00200675', 'C00135681', 'C00117614', 'C00146605', 'C00164939', 'C00390062', 'C00151019', 'C00320044', 'C00478388', 'C00267955', 'C00376863', 'C00415257', 'C90007535', 'C00523225', 'C00303628', 'C00412445', 'C00376590', 'C00371856', 'C00416982', 'C00487686', 'C00376343', 'C00494237', 'C00408468', 'C00290866', 'C00491456', 'C00414326', 'C00494245', 'C00166355', 'C00417840', 'C00131607', 'C00479972', 'C00120873', 'C00340083', 'C00009423', 'C00446393', 'C00093096', 'C00389510', 'C00340083', 'C00126466', 'C00033555', 'C00441089', 'C00282863', 'C00128231', 'C00383521', 'C00495234', 'C00133215', 'C00100305', 'C00220053', 'C00359075', 'C00169821', 'C00330696', 'C00363069', 'C00096594', 'C00393454', 'C00325324', 'C00359984', 'C00166892', 'C00212423', 'C00528299', 'C00136838', 'C00041954', 'C00283572', 'C00193441', 'C00169722', 'C00200329', 'C00285783', 'C00096362', 'C00417675', 'C00529990', 'C00019489', 'C00040428', 'C00089839', 'C00093898', 'C00170944', 'C00038968', 'C00528745', 'C00405761', 'C00444752', 'C00216754', 'C00481986', 'C90014044', 'C00161265', 'C00403691', 'C00214981', 'C00491175', 'C00325977', 'C00380956', 'C00336040', 'C00077701', 'C00449546', 'C00016386', 'C00039552', 'C00059238', 'C00436048', 'C00029348', 'C00371336', 'C00504753', 'C00123513', 'C00242040', 'C90009416', 'C90010455', 'C00469080', 'C00297911', 'C00126789', 'C00396671', 'C00420497', 'C00175976', 'C00201871', 'C00211524', 'C00301671', 'C00024281', 'C00034272', 'C00076182', 'C00172841', 'C00113902', 'C00249359', 'C00127621', 'C00344929', 'C00112888', 'C00214072', 'C00312785', 'C00507053', 'C00215053', 'C00197715', 'C00478388', 'C00193979', 'C00114702', 'C00080135']\n",
    "\n",
    "defensecompanies = ['C00303024', 'C00088591', 'C00250209','C00035683', 'C00078451', 'C00215285', 'C00129122', 'C00100321', 'C00281212', 'C00364851', 'C00325092', 'C00367995', 'C00372979', 'C00103549', 'C00151787', 'C00275123', 'C00142711', 'C00141002', 'C00096156', 'C00132092', 'C00380303', 'C00409979', 'C00467167', 'C00039461', 'C00437566', 'C00075341', 'C00208983', 'C00402669', 'C00432856', 'C00282210', 'C00251728', 'C00492025', 'C00433995', 'C00523852', 'C00383182', 'C00359992', 'C00456582']\n",
    "\n",
    "fossilfuelcompanies = ['C90015520', 'C00410985', 'C00348524', 'C00110478', 'C00279331', 'C00160630', 'C00236489', 'C00452524', 'C00109819', 'C00304634', 'C00320101', 'C00438754', 'C00040394', 'C00007450', 'C00485250', 'C00093948', 'C00164970', 'C00076737', 'C00151175', 'C00422352', 'C00381954', 'C00116145', 'C00496752', 'C00430157', 'C00215384', 'C00097758', 'C00436550', 'C00035006', 'C00121368', 'C00457523', 'C00083857', 'C00389288', 'C00109546', 'C00483677', 'C00231951', 'C00318766', 'C00496307', 'C00482182', 'C00159244', 'C00444430', 'C00481192', 'C00354753', 'C00112896', 'C00438754']\n",
    "\n",
    "financecompanies = ['C90008004', 'C90005679', 'C00150367', 'C00529396', 'C00495002', 'C00136317', 'C00452128', 'C00457531', 'C00440826', 'C00105981', 'C00303339', 'C00406215', 'C00289595', 'C00468215', 'C00421016', 'C00211318', 'C00107235', 'C00227744', 'C00280222', 'C00408260', 'C00451518', 'C00491738', 'C00456376', 'C00104299', 'C00128512', 'C00364778', 'C00043489', 'C00456434', 'C00428896', 'C00032698', 'C00039305', 'C00008474', 'C00463943', 'C00290502', 'C00427427', 'C00263483', 'C00303958', 'C00488882', 'C00018036', 'C00283069', 'C00275230', 'C00142596', 'C00035519', 'C00186064', 'C00250431', 'C00509315', 'C00336768', 'C00448852', 'C00456236', 'C00432252', 'C00033423', 'C00497982', 'C00072967', 'C00228924', 'C00379420', 'C00334193', 'C00406546', 'C00165589', 'C00454801', 'C00333658', 'C00387290', 'C00087502', 'C00111567', 'C00214965', 'C00456186', 'C00043265', 'C00386524', 'C00009639', 'C00428896', 'C00337113', 'C00407601', 'C00432989', 'C00341545', 'C00388942', 'C00417774', 'C00521799', 'C00235929', 'C00059907', 'C00342733', 'C00109397', 'C00007880', 'C00064097', 'C00341842', 'C90013574', 'C00130831', 'C00430066', 'C00139600', 'C30001762', 'C00139279', 'C00040659', 'C00456384', 'C00172858', 'C00449694', 'C00349902', 'C00341370', 'C00354290', 'C00268987', 'C00336834', 'C00404863', 'C00383117', 'C00171843', 'C00118943', 'C00170258', 'C00406215', 'C00123976', 'C00076174', 'C00142372', 'C00456335', 'C00326132', 'C00326595', 'C00040535', 'C00038604', 'C00346726', 'C00365122', 'C00039305', 'C00008474', 'C00438051', 'C00410274', 'C00411769', 'C00441311', 'C00432534', 'C00433052', 'C00436899', 'C00135525', 'C00103143', 'C00066472', 'C00106740', 'C00187138', 'C00268987', 'C00523696', 'C00503680', 'C00150805', 'C00336834', 'C00404863', 'C00135681', 'C00343749', 'C00263723', 'C00383117', 'C00338269', 'C00022343', 'C00361063', 'C00254953', 'C00137265', 'C00042663', 'C00166975', 'C00171843', 'C00431973', 'C00009035', 'C00118943', 'C00113258', 'C00283135', 'C00005249', 'C00170258', 'C00406215', 'C00123976', 'C00076174', 'C00158881', 'C00068528', 'C00232272', 'C00142372', 'C00456335', 'C00347112', 'C00128918', 'C00004994', 'C00279505', 'C00256453', 'C00461129', 'C00494005', 'C00343384', 'C00457366', 'C00140384', 'C00193169', 'C00509331', 'C00430884', 'C00431361', 'C00039578', 'C00173393', 'C00398248', 'C00197095', 'C00156166', 'C00179010', 'C00161604', 'C00492116', 'C00197202', 'C00276311', 'C00312223', 'C00457242', 'C00084061', 'C00406850', 'C00503003', 'C00379537', 'C00194746', 'C00270967', 'C00286922', 'C00199166', 'C00215202', 'C00450056', 'C00523217', 'C00409227', 'C00034157', 'C00164145', 'C00040923', 'C00493551', 'C00171843', 'C00127779', 'C00493304', 'C00404194', 'C00103143', 'C00066472', 'C00379768', 'C00457515', 'C00456616', 'C00033779', 'C00210526', 'C00457531', 'C00364455', 'C00380550', 'C00215046', 'C00034785', 'C00196089', 'C00470245', 'C00322560', 'C00380659', 'C00456368', 'C00253468', 'C00456087', 'C00327460', 'C00004812', 'C00113258', 'C00254201', 'C00395350', 'C00300939', 'C00347112', 'C00357012', 'C90003948', 'C00410720', 'C00302166', 'C00456087', 'C00456368', 'C00433805', 'C00083279', 'C00434696', 'C00368084', 'C00488742', 'C00030718', 'C00363986', 'C00129932', 'C00358663', 'C00424218', 'C00083279', 'C00411173', 'C00447425', 'C00487371', 'C00303339', 'C00488007', 'C00468215', 'C00369868', 'C00033779', 'C00529495', 'C00403915', 'C00130773', 'C00331835', 'C00370015']\n",
    "\n",
    "labor = ['C30000848', 'C90013426', 'C00348540', 'C00344531', 'C00010322', 'C00127621', 'C00174847', 'C00373423', 'C00002089', 'C00488486', 'C00109595', 'C00211987', 'C00041939', 'C00113225', 'C00422279', 'C00011189', 'C00152223', 'C00156554', 'C00115527', 'C00007542', 'C00398040', 'C00162818', 'C00143396', 'C00027342', 'C00027359', 'C00003632', 'C00272468', 'C00163535', 'C00002469', 'C00111237', 'C00060707', 'C00461418', 'C00529123', 'C00162891', 'C00490367', 'C90014499', 'C00189266', 'C00523530', 'C00111476', 'C00012575', 'C90011958', 'C00135475', 'C00008268', 'C00002840', 'C00002766', 'C00484253', 'C00013342', 'C00489203', 'C00299867', 'C00193680', 'C00003590', 'C00040741', 'C00528208', 'C30001564', 'C00521443', 'C00462044', 'C00484287', 'C00532390', 'C00077305', 'C00501106', 'C00292102', 'C30000798', 'C00011114', 'C00075994', 'C00386250', 'C00041038', 'C00320580', 'C00340075', 'C00042069', 'C00379537', 'C00255356', 'C90012287', 'C90014010', 'C00111880', 'C00378794', 'C00076588', 'C00423871', 'C00035006', 'C00218131', 'C00062224', 'C00075473', 'C00407635', 'C00033589', 'C00247981', 'C00422501', 'C00151787', 'C00408914', 'C00420596', 'C00108282', 'C00464628', 'C00034470', 'C00321083', 'C00034066', 'C00149211', 'C00216341', 'C00380303', 'C00033456', 'C00171926', 'C00088591', 'C00498691', 'C00097568', 'C00141002', 'C00084582', 'C00456442', 'C00394494', 'C00411454', 'C00472514', 'C00343749', 'C00224147', 'C00199711', 'C00213348', 'C00325092', 'C00243659', 'C00528455', 'C00523936', 'C00082677', 'C00042663', 'C00409938', 'C00280222', 'C00431007', 'C00404442', 'C00355289', 'C00303024', 'C00040568', 'C00496307', 'C00410274', 'C00108035', 'C00097485', 'C00010520', 'C00040923', 'C00493551', 'C00524710', 'C00502625', 'C00460840', 'C00091561', 'C00076836', 'C00413567', 'C00126011', 'C00107128', 'C00318311', 'C00148098', 'C00449694', 'C00187799', 'C00007898', 'C00135707', 'C00337808', 'C00530675', 'C00034330', 'C00304477', 'C00480830', 'C00409375', 'C00034355', 'C00177469', 'C00152272', 'C00344325', 'C00346288', 'C00379305', 'C00215533', 'C00191759', 'C00440214', 'C00428391', 'C00120519', 'C00088435', 'C90014523', 'C00408344', 'C00144345', 'C00390633', 'C00004036', 'C00008748', 'C00539833', 'C90012105', 'C00039503', 'C00384206', 'C00144774', 'C00145037', 'C00447169', 'C00430884', 'C00489310', 'C00161422', 'C00479998', 'C00080515', 'C00131615', 'C00512293', 'C00197749', 'C00457507', 'C00456038', 'C00456582', 'C00456533', 'C00456079', 'C00456657', 'C00456491', 'C00457549', 'C00456541', 'C00456640', 'C00456426', 'C00456459', 'C00456475', 'C00456566', 'C00240069', 'C00119008', 'C00142307', 'C00012518', 'C00300178', 'C00429852', 'C00390989', 'C00456467', 'C90011255', 'C00003806', 'C00279562', 'C30000798', 'C00028860', 'C90012121', 'C90011768', 'C00355818', 'C90014390', 'C00079327', 'C90012477', 'C90012303', 'C00174615', 'C00530675', 'C00162891', 'C00457598', 'C00225151', 'C00468801', 'C00490524', 'C90012444', 'C00280909', 'C00165233', 'C00137794', 'C00329326', 'C00536383', 'C00209296', 'C00396911', 'C00191213', 'C00143362', 'C00451088', 'C00327478', 'C00252056', 'C00232835', 'C00155440', 'C00192849', 'C00147181', 'C00347500', 'C00242024', 'C00225151', 'C00252825', 'C00368415', 'C00012476', 'C00331918', 'C00354142', 'C00163477', 'C00322784', 'C00260893', 'C00001016', 'C00491423', 'C00208819', 'C00150045', 'C00285593', 'C00361923', 'C00028860', 'C00520312', 'C00157545', 'C90012121', 'C90014515', 'C90013756', 'C00023754', 'C00378778', 'C00431361', 'C00456343', 'C00021121', 'C00506964', 'C00099234', 'C00449736', 'C00003863', 'C00279380', 'C00204909', 'C00029504', 'C00164509', 'C00303743', 'C00017194', 'C00114850', 'C00162545', 'C00114371', 'C00423731', 'C00134726', 'C00142851', 'C00112995', 'C00163956', 'C00104455', 'C00008409', 'C00093989', 'C00121673', 'C00418400', 'C00115568', 'C00462960', 'C00448746', 'C00446443', 'C00138966', 'C00465591', 'C00458794', 'C00428581', 'C00279737', 'C00219568', 'C00111591', 'C00449298', 'C00111674', 'C00136739', 'C00247197', 'C00151688', 'C00432815', 'C00457184', 'C00494724', 'C00090415', 'C00426163', 'C00434076', 'C00225573', 'C00142083', 'C00133611', 'C00459800', 'C00024422', 'C00388124', 'C00233049', 'C90014408', 'C00007922', 'C00155069', 'C00494542', 'C00270413', 'C00169201', 'C00429175', 'C00111237', 'C00345306', 'C00220566', 'C00214643', 'C00010322', 'C00162891', 'C00362608', 'C00032979', 'C00008078', 'C00178541', 'C00297630', 'C00234377', 'C00138552', 'C00118869,' 'C00004440', 'C00318691', 'C00039164', 'C00167270', 'C00010876', 'C00267526', 'C00526269', 'C00130187', 'C00203497', 'C00029447', 'C00365296', 'C00139014', 'C00134676', 'C00254193', 'C00499780', 'C00213645', 'C00142935', 'C00264689', 'C00140772', 'C00114314', 'C00023580', 'C00072025', 'C90014549', 'C00004861', 'C90013376', 'C00163535', 'C00527978', 'C00276253', 'C90013582', 'C00000885', 'C00373423', 'C00003632', 'C00151837', 'C00319905', 'C00134742', 'C00536326', 'C00383950', 'C00125534', 'C00337733', 'C00040949', 'C00118828', 'C00005157', 'C90013475', 'C30000814', 'C00490375', 'C00446237', 'C00311944', 'C00249359', 'C00127621', 'C00455394', 'C00174011', 'C00073627', 'C00377549', 'C00407841', 'C00468801', 'C00092957', 'C00345306', 'C00164152', 'C00100404', 'C00305037', 'C00238725', 'C00286401', 'C00490524', 'C00004325', 'C00035451', 'C00360669', 'C00456566', 'C00032995', 'C00286807']"
   ]
  },
  {
   "cell_type": "code",
   "execution_count": 8,
   "id": "5c99a702-2dbf-4e9f-bc7c-cf87d6918b24",
   "metadata": {},
   "outputs": [],
   "source": [
    "# function to create special interests tags that align with roll call subjects\n",
    "committee_df['topic_weight'] = pd.Series(dtype='object')\n",
    "committee_df['summary'] = pd.Series(dtype='object')\n",
    "\n",
    "def special_interests(df, committee_list, topic_weight, summary):\n",
    "    for index, ids in enumerate(df['committee_id']):\n",
    "        if ids in committee_list:\n",
    "            df['topic_weight'].loc[index] = topic_weight\n",
    "            df['summary'].loc[index] = summary\n",
    "    return df"
   ]
  },
  {
   "cell_type": "code",
   "execution_count": 9,
   "id": "a8b68256-94bd-4e4e-bc59-0f777434cc3e",
   "metadata": {
    "scrolled": true
   },
   "outputs": [
    {
     "data": {
      "text/html": [
       "<div>\n",
       "<style scoped>\n",
       "    .dataframe tbody tr th:only-of-type {\n",
       "        vertical-align: middle;\n",
       "    }\n",
       "\n",
       "    .dataframe tbody tr th {\n",
       "        vertical-align: top;\n",
       "    }\n",
       "\n",
       "    .dataframe thead th {\n",
       "        text-align: right;\n",
       "    }\n",
       "</style>\n",
       "<table border=\"1\" class=\"dataframe\">\n",
       "  <thead>\n",
       "    <tr style=\"text-align: right;\">\n",
       "      <th></th>\n",
       "      <th>affiliated_committee_name</th>\n",
       "      <th>candidate_ids</th>\n",
       "      <th>committee_id</th>\n",
       "      <th>committee_type</th>\n",
       "      <th>designation_type</th>\n",
       "      <th>name</th>\n",
       "      <th>organization_type</th>\n",
       "      <th>state</th>\n",
       "      <th>topic_weight</th>\n",
       "      <th>summary</th>\n",
       "    </tr>\n",
       "  </thead>\n",
       "  <tbody>\n",
       "    <tr>\n",
       "      <th>0</th>\n",
       "      <td>NaN</td>\n",
       "      <td>[]</td>\n",
       "      <td>C00408286</td>\n",
       "      <td>Party - Nonqualified</td>\n",
       "      <td>Unauthorized</td>\n",
       "      <td>10TH CONGRESSIONAL DISTRICT DEMOCRATIC COMM</td>\n",
       "      <td>NaN</td>\n",
       "      <td>MI</td>\n",
       "      <td>NaN</td>\n",
       "      <td>NaN</td>\n",
       "    </tr>\n",
       "    <tr>\n",
       "      <th>1</th>\n",
       "      <td>NaN</td>\n",
       "      <td>[]</td>\n",
       "      <td>C00486647</td>\n",
       "      <td>PAC - Nonqualified</td>\n",
       "      <td>Unauthorized</td>\n",
       "      <td>10TH CONSTITUTION PAC</td>\n",
       "      <td>NaN</td>\n",
       "      <td>MA</td>\n",
       "      <td>NaN</td>\n",
       "      <td>NaN</td>\n",
       "    </tr>\n",
       "    <tr>\n",
       "      <th>2</th>\n",
       "      <td>REPUBLICAN PARTY OF VIRGINIA INC</td>\n",
       "      <td>['H6VA10134']</td>\n",
       "      <td>C00005462</td>\n",
       "      <td>Party - Qualified</td>\n",
       "      <td>Unauthorized</td>\n",
       "      <td>10TH DISTRICT REPUBLICAN CONGRESSIONAL COMMITTEE</td>\n",
       "      <td>NaN</td>\n",
       "      <td>VA</td>\n",
       "      <td>NaN</td>\n",
       "      <td>NaN</td>\n",
       "    </tr>\n",
       "    <tr>\n",
       "      <th>3</th>\n",
       "      <td>NaN</td>\n",
       "      <td>[]</td>\n",
       "      <td>C90013426</td>\n",
       "      <td>Independent expenditure filer (not a committee)</td>\n",
       "      <td>Unauthorized</td>\n",
       "      <td>1199SEIU UNITED HEALTHCARE WORKERS EAST</td>\n",
       "      <td>NaN</td>\n",
       "      <td>NY</td>\n",
       "      <td>tw_labor</td>\n",
       "      <td>Labor Unions</td>\n",
       "    </tr>\n",
       "    <tr>\n",
       "      <th>4</th>\n",
       "      <td>1199 SEIU UNITED HEALTHCARE WORKERS EAST</td>\n",
       "      <td>[]</td>\n",
       "      <td>C00348540</td>\n",
       "      <td>PAC - Qualified</td>\n",
       "      <td>Unauthorized</td>\n",
       "      <td>1199 SEIU UNITED HEALTHCARE WORKERS EAST FEDER...</td>\n",
       "      <td>Labor Organization</td>\n",
       "      <td>NY</td>\n",
       "      <td>tw_labor</td>\n",
       "      <td>Labor Unions</td>\n",
       "    </tr>\n",
       "    <tr>\n",
       "      <th>...</th>\n",
       "      <td>...</td>\n",
       "      <td>...</td>\n",
       "      <td>...</td>\n",
       "      <td>...</td>\n",
       "      <td>...</td>\n",
       "      <td>...</td>\n",
       "      <td>...</td>\n",
       "      <td>...</td>\n",
       "      <td>...</td>\n",
       "      <td>...</td>\n",
       "    </tr>\n",
       "    <tr>\n",
       "      <th>13003</th>\n",
       "      <td>NONE</td>\n",
       "      <td>[]</td>\n",
       "      <td>C00462754</td>\n",
       "      <td>PAC - Nonqualified</td>\n",
       "      <td>Unauthorized</td>\n",
       "      <td>ZR FPAC</td>\n",
       "      <td>NaN</td>\n",
       "      <td>MN</td>\n",
       "      <td>NaN</td>\n",
       "      <td>NaN</td>\n",
       "    </tr>\n",
       "    <tr>\n",
       "      <th>13004</th>\n",
       "      <td>ENDEAVOR ACTION</td>\n",
       "      <td>[]</td>\n",
       "      <td>C00459693</td>\n",
       "      <td>PAC - Qualified</td>\n",
       "      <td>Unauthorized</td>\n",
       "      <td>ZUFFA POLITICAL ACTION COMMMITTEE</td>\n",
       "      <td>NaN</td>\n",
       "      <td>DC</td>\n",
       "      <td>NaN</td>\n",
       "      <td>NaN</td>\n",
       "    </tr>\n",
       "    <tr>\n",
       "      <th>13005</th>\n",
       "      <td>NaN</td>\n",
       "      <td>['H0OH12088']</td>\n",
       "      <td>C00472332</td>\n",
       "      <td>House</td>\n",
       "      <td>Principal campaign committee</td>\n",
       "      <td>ZUKOWSKI FOR CONGRESS</td>\n",
       "      <td>NaN</td>\n",
       "      <td>OH</td>\n",
       "      <td>NaN</td>\n",
       "      <td>NaN</td>\n",
       "    </tr>\n",
       "    <tr>\n",
       "      <th>13006</th>\n",
       "      <td>ZURICH HOLDING COMPANY OF AMERICA, INC.</td>\n",
       "      <td>[]</td>\n",
       "      <td>C00235036</td>\n",
       "      <td>PAC - Qualified</td>\n",
       "      <td>Lobbyist/Registrant PAC</td>\n",
       "      <td>ZURICH HOLDING COMPANY OF AMERICA, INC. COMMIT...</td>\n",
       "      <td>Corporation</td>\n",
       "      <td>DC</td>\n",
       "      <td>NaN</td>\n",
       "      <td>NaN</td>\n",
       "    </tr>\n",
       "    <tr>\n",
       "      <th>13007</th>\n",
       "      <td>NaN</td>\n",
       "      <td>[]</td>\n",
       "      <td>C30001184</td>\n",
       "      <td>Electioneering Communication</td>\n",
       "      <td>Unauthorized</td>\n",
       "      <td>NaN</td>\n",
       "      <td>NaN</td>\n",
       "      <td>DC</td>\n",
       "      <td>NaN</td>\n",
       "      <td>NaN</td>\n",
       "    </tr>\n",
       "  </tbody>\n",
       "</table>\n",
       "<p>13008 rows × 10 columns</p>\n",
       "</div>"
      ],
      "text/plain": [
       "                      affiliated_committee_name  candidate_ids committee_id  \\\n",
       "0                                           NaN             []    C00408286   \n",
       "1                                           NaN             []    C00486647   \n",
       "2              REPUBLICAN PARTY OF VIRGINIA INC  ['H6VA10134']    C00005462   \n",
       "3                                           NaN             []    C90013426   \n",
       "4      1199 SEIU UNITED HEALTHCARE WORKERS EAST             []    C00348540   \n",
       "...                                         ...            ...          ...   \n",
       "13003                                      NONE             []    C00462754   \n",
       "13004                           ENDEAVOR ACTION             []    C00459693   \n",
       "13005                                       NaN  ['H0OH12088']    C00472332   \n",
       "13006   ZURICH HOLDING COMPANY OF AMERICA, INC.             []    C00235036   \n",
       "13007                                       NaN             []    C30001184   \n",
       "\n",
       "                                        committee_type  \\\n",
       "0                                 Party - Nonqualified   \n",
       "1                                   PAC - Nonqualified   \n",
       "2                                    Party - Qualified   \n",
       "3      Independent expenditure filer (not a committee)   \n",
       "4                                      PAC - Qualified   \n",
       "...                                                ...   \n",
       "13003                               PAC - Nonqualified   \n",
       "13004                                  PAC - Qualified   \n",
       "13005                                            House   \n",
       "13006                                  PAC - Qualified   \n",
       "13007                     Electioneering Communication   \n",
       "\n",
       "                   designation_type  \\\n",
       "0                      Unauthorized   \n",
       "1                      Unauthorized   \n",
       "2                      Unauthorized   \n",
       "3                      Unauthorized   \n",
       "4                      Unauthorized   \n",
       "...                             ...   \n",
       "13003                  Unauthorized   \n",
       "13004                  Unauthorized   \n",
       "13005  Principal campaign committee   \n",
       "13006       Lobbyist/Registrant PAC   \n",
       "13007                  Unauthorized   \n",
       "\n",
       "                                                    name   organization_type  \\\n",
       "0            10TH CONGRESSIONAL DISTRICT DEMOCRATIC COMM                 NaN   \n",
       "1                                  10TH CONSTITUTION PAC                 NaN   \n",
       "2       10TH DISTRICT REPUBLICAN CONGRESSIONAL COMMITTEE                 NaN   \n",
       "3                1199SEIU UNITED HEALTHCARE WORKERS EAST                 NaN   \n",
       "4      1199 SEIU UNITED HEALTHCARE WORKERS EAST FEDER...  Labor Organization   \n",
       "...                                                  ...                 ...   \n",
       "13003                                            ZR FPAC                 NaN   \n",
       "13004                  ZUFFA POLITICAL ACTION COMMMITTEE                 NaN   \n",
       "13005                              ZUKOWSKI FOR CONGRESS                 NaN   \n",
       "13006  ZURICH HOLDING COMPANY OF AMERICA, INC. COMMIT...         Corporation   \n",
       "13007                                                NaN                 NaN   \n",
       "\n",
       "      state topic_weight       summary  \n",
       "0        MI          NaN           NaN  \n",
       "1        MA          NaN           NaN  \n",
       "2        VA          NaN           NaN  \n",
       "3        NY     tw_labor  Labor Unions  \n",
       "4        NY     tw_labor  Labor Unions  \n",
       "...     ...          ...           ...  \n",
       "13003    MN          NaN           NaN  \n",
       "13004    DC          NaN           NaN  \n",
       "13005    OH          NaN           NaN  \n",
       "13006    DC          NaN           NaN  \n",
       "13007    DC          NaN           NaN  \n",
       "\n",
       "[13008 rows x 10 columns]"
      ]
     },
     "execution_count": 9,
     "metadata": {},
     "output_type": "execute_result"
    }
   ],
   "source": [
    "special_interests(committee_df, prolife, 'tw_abortion_and_social_conservatism', 'Pro-Life')\n",
    "special_interests(committee_df, prochoice, 'tw_abortion_and_social_conservatism', 'Pro-Choice')\n",
    "special_interests(committee_df, environment, 'tw_environment', 'Environment and Conservation')\n",
    "special_interests(committee_df, foreigndefense, 'tw_defense_and_foreign_policy', 'Foreign and Defense Policy')\n",
    "special_interests(committee_df, gunrights, 'tw_guns', 'Gun Rights')\n",
    "special_interests(committee_df, proisrael, 'tw_defense_and_foreign_policy', 'Pro Israel')\n",
    "special_interests(committee_df, womensrights, 'tw_womens_issue', 'Women\\'s Rights')\n",
    "special_interests(committee_df, forthegays, 'tw_civil_rights', 'LGBTQIA+ Rights')\n",
    "special_interests(committee_df, notallies, 'tw_civil_rights', 'Anti-LGBTQIA+ Rights')\n",
    "special_interests(committee_df, agriculturecompanies, 'tw_agriculture', 'Agricultural Businesses')\n",
    "special_interests(committee_df, defensecompanies, 'tw_defense_and_foreign_policy', 'Defense Businesses')\n",
    "special_interests(committee_df, fossilfuelcompanies, 'tw_energy', 'Energy (Non-Renewable) Businesses')\n",
    "special_interests(committee_df, financecompanies, 'tw_banking_and_finance', 'Financial Businesses')\n",
    "special_interests(committee_df, labor, 'tw_labor', 'Labor Unions')"
   ]
  },
  {
   "cell_type": "code",
   "execution_count": 11,
   "id": "9d7cbbf9-c8b1-4684-bda3-50c54c3ac2be",
   "metadata": {},
   "outputs": [],
   "source": [
    "committee_df.to_csv('./datasets/committees.csv',sep=',',index=False)"
   ]
  },
  {
   "cell_type": "markdown",
   "id": "b17db10d-dbfc-4091-adf3-cb8d0b45d306",
   "metadata": {},
   "source": [
    "## Expenditures Exploration\n",
    "\n",
    "**Findings**\n",
    "1. Highest 'count' of expenditures of 4 groups --> Pro-Life and Environmental Protection by a significant margin (228 and 206)\n",
    "2. Most funding towards environmental protection --> $25,74,892.83, next highest is foreign policy and defense @ $297,928.68\n",
    "3. Most funding spent "
   ]
  },
  {
   "cell_type": "code",
   "execution_count": null,
   "id": "4fc773ec-f69b-4dbe-9795-4c99013f80db",
   "metadata": {},
   "outputs": [],
   "source": [
    "exp_df = pd.read_sql_query(\"SELECT e.candidate_name, e.committee_name, e.count, e.support_oppose_indicator, e.total, \"\n",
    "                           \"c.summary, c.topic_weight \"\n",
    "                           \"FROM expenditures e \"\n",
    "                           \"JOIN committees c USING(committee_id) \"\n",
    "                           \"WHERE candidate_id IN (SELECT candidate_id FROM members) \"\n",
    "                           \"OR committee_id IN (SELECT committee_id FROM committees) \"\n",
    "                           \"ORDER BY total DESC; \", conn)"
   ]
  },
  {
   "cell_type": "code",
   "execution_count": null,
   "id": "7e96faec-5338-4d93-b1fd-559976f13de2",
   "metadata": {},
   "outputs": [],
   "source": [
    "exp_df['summary'].value_counts()"
   ]
  },
  {
   "cell_type": "code",
   "execution_count": null,
   "id": "67781f8d-4dee-4061-a001-91ba4cd69a17",
   "metadata": {},
   "outputs": [],
   "source": [
    "exp_df['topic_weight'].value_counts()"
   ]
  },
  {
   "cell_type": "code",
   "execution_count": null,
   "id": "c28dfb73-2b80-4d37-a726-f401a56904c5",
   "metadata": {
    "scrolled": true
   },
   "outputs": [],
   "source": [
    "exp_by_topic = exp_df.groupby(by='summary')['total'].sum()"
   ]
  },
  {
   "cell_type": "code",
   "execution_count": null,
   "id": "a4c70544-065d-4361-9ef2-271c51cb6328",
   "metadata": {
    "scrolled": true
   },
   "outputs": [],
   "source": [
    "exp_by_topic.head()"
   ]
  },
  {
   "cell_type": "code",
   "execution_count": null,
   "id": "0e50882d-76a4-4ab2-8597-a7377b744000",
   "metadata": {},
   "outputs": [],
   "source": [
    "exp_by_member = exp_df.groupby(by='candidate_name')['total'].sum()"
   ]
  },
  {
   "cell_type": "code",
   "execution_count": null,
   "id": "7e4e4a7e-fc62-40d3-9ac9-ace6d5bcc382",
   "metadata": {},
   "outputs": [],
   "source": [
    "exp_by_member.head()"
   ]
  },
  {
   "cell_type": "code",
   "execution_count": null,
   "id": "719fc6cd-6aa0-4cc4-a71c-746f4e27f02a",
   "metadata": {},
   "outputs": [],
   "source": [
    "exp_member_count = exp_df.groupby(by='candidate_name')['support_oppose_indicator'].value_counts()"
   ]
  },
  {
   "cell_type": "code",
   "execution_count": null,
   "id": "30579813-2c1f-40ff-b710-ee2573b1434a",
   "metadata": {
    "scrolled": true
   },
   "outputs": [],
   "source": [
    "pd.set_option('display.max_row', None)\n",
    "exp_member_count"
   ]
  },
  {
   "cell_type": "code",
   "execution_count": null,
   "id": "79b56993-9e49-42c5-8099-cd6327db1154",
   "metadata": {},
   "outputs": [],
   "source": []
  },
  {
   "cell_type": "markdown",
   "id": "d1f6038f-fe28-4182-bb16-5b0c37816460",
   "metadata": {},
   "source": [
    "## Conn Close"
   ]
  },
  {
   "cell_type": "code",
   "execution_count": null,
   "id": "c33d946e-f3af-4093-ae3d-bbc4fbaf3bf3",
   "metadata": {},
   "outputs": [],
   "source": [
    "conn.close()"
   ]
  },
  {
   "cell_type": "code",
   "execution_count": null,
   "id": "649ee059-362c-4395-a3f0-17d0f4e781be",
   "metadata": {},
   "outputs": [],
   "source": []
  }
 ],
 "metadata": {
  "kernelspec": {
   "display_name": "Python 3 (ipykernel)",
   "language": "python",
   "name": "python3"
  },
  "language_info": {
   "codemirror_mode": {
    "name": "ipython",
    "version": 3
   },
   "file_extension": ".py",
   "mimetype": "text/x-python",
   "name": "python",
   "nbconvert_exporter": "python",
   "pygments_lexer": "ipython3",
   "version": "3.10.12"
  }
 },
 "nbformat": 4,
 "nbformat_minor": 5
}
