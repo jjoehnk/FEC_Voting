{
 "cells": [
  {
   "cell_type": "markdown",
   "id": "99928385-71e1-4b48-a079-1b05052257b3",
   "metadata": {},
   "source": [
    "# US Representative Voting Patterns and Funding Sources"
   ]
  },
  {
   "cell_type": "markdown",
   "id": "20f77f6a-e0e7-411b-b3f6-e5e789567022",
   "metadata": {},
   "source": [
    "*Exploratory analysis of how funding influences voting habits in Congress*\n",
    "\n",
    "Part 1 of Exploratory Analysis: Pulling FEC funding data through API"
   ]
  },
  {
   "cell_type": "code",
   "execution_count": 1,
   "id": "98c57601-7e67-4f47-99bf-439c65b3c682",
   "metadata": {},
   "outputs": [],
   "source": [
    "import requests as rq\n",
    "import pandas as pd"
   ]
  },
  {
   "cell_type": "code",
   "execution_count": 2,
   "id": "0b00bf8f-addf-4a52-bf01-4d6dd568ef26",
   "metadata": {},
   "outputs": [],
   "source": [
    "api_key_fec = '1vUtcsAF7HoPCpZfkavkXxdz5uGcNHjwjEaTHQ2Z'"
   ]
  },
  {
   "cell_type": "code",
   "execution_count": 3,
   "id": "ee70ae36-3798-4dab-ab6c-48e57cea4eaf",
   "metadata": {},
   "outputs": [],
   "source": [
    "# searching for committee distributions of one committee - NATIONAL RIFLE ASSOCIATION OF AMERICA POLITICAL VICTORY FUND (C00053553) \n",
    "# fec_nra = rq.get(f'https://api.open.fec.gov/v1/schedules/schedule_b/?committee_id=C00053553&two_year_transaction_period=2020&per_page=20&sort=-disbursement_date&sort_hide_null=false&sort_null_only=false&api_key={api_key_fec}')\n",
    "\n",
    "\n",
    "# print(fec_nra.status_code)\n",
    "# nra = fec_nra.json()"
   ]
  },
  {
   "cell_type": "code",
   "execution_count": 4,
   "id": "4a636259-9cae-4d8c-b09e-7297d20aebbd",
   "metadata": {
    "scrolled": true
   },
   "outputs": [],
   "source": [
    "# nra_results = nra['results']\n",
    "# nra_results[8]"
   ]
  },
  {
   "cell_type": "markdown",
   "id": "fbf2e353-4403-4bcf-a5c4-755173a4fbd8",
   "metadata": {},
   "source": [
    "#### Creating a reference table of registered committees - to use with further API requests\n",
    "\n",
    "**Conditions for filters**\n",
    "1. Active in 2012 (election cycle)\n",
    "2. Filing Frequency: Monthly or Quarterly Filer\n",
    "3. Designation: All but Unauthorized\n",
    "4. Organization Type: All\n",
    "5. Committee_Type: All but Party, Nonqualified/Qualified/National Non-Federal Account\n",
    "\n",
    "**Steps**\n",
    "1. Set up blank list and for loop for API pagination \n",
    "2. Get request from API with above filters added to url\n",
    "3. Extend all pages pulled into one list and convert to DataFrame\n",
    "4. Explore dataset \n",
    "\n"
   ]
  },
  {
   "cell_type": "code",
   "execution_count": 5,
   "id": "197f6360-7cdf-44e3-908b-7720f7e7dd16",
   "metadata": {},
   "outputs": [],
   "source": [
    "# example request to test result\n",
    "# committees_rq = rq.get(f'https://api.open.fec.gov/v1/committees/?page=1&per_page=100&year=2012&cycle=2012&filing_frequency=M&filing_frequency=Q&designation=A&designation=J&designation=P&designation=B&designation=D&organization_type=C&organization_type=L&organization_type=M&organization_type=T&organization_type=V&organization_type=W&committee_type=C&committee_type=D&committee_type=E&committee_type=H&committee_type=I&committee_type=N&committee_type=O&committee_type=P&committee_type=Q&committee_type=S&committee_type=U&sort=name&sort_hide_null=false&sort_null_only=false&sort_nulls_last=false&api_key={api_key_fec}')\n",
    "\n",
    "# print(committees_rq.status_code)\n",
    "# committees = committees_rq.json()\n",
    "# committees"
   ]
  },
  {
   "cell_type": "code",
   "execution_count": 6,
   "id": "3081af43-19ab-4f51-b8c9-939fb7e879fd",
   "metadata": {},
   "outputs": [],
   "source": [
    "# for loop to pull all ten pages of requests and combine into one DF\n",
    "\n",
    "committees_all_pages = []\n",
    "for i in range(1,11):\n",
    "    committees_rq = rq.get(f'https://api.open.fec.gov/v1/committees/?page={i}&per_page=100&year=2012&cycle=2012&filing_frequency=M&filing_frequency=Q&designation=A&designation=J&designation=P&designation=B&designation=D&organization_type=C&organization_type=L&organization_type=M&organization_type=T&organization_type=V&organization_type=W&committee_type=C&committee_type=D&committee_type=E&committee_type=H&committee_type=I&committee_type=N&committee_type=O&committee_type=P&committee_type=Q&committee_type=S&committee_type=U&sort=name&sort_hide_null=false&sort_null_only=false&sort_nulls_last=false&api_key={api_key_fec}')\n",
    "    \n",
    "    committees = committees_rq.json()\n",
    "    committees_all_pages.append(committees)"
   ]
  },
  {
   "cell_type": "code",
   "execution_count": 40,
   "id": "373cef53-3d24-4ece-a162-71884b06c32c",
   "metadata": {
    "scrolled": true
   },
   "outputs": [],
   "source": [
    "#merge all results into one DF\n",
    "blank_list = []\n",
    "for i in range(0,10):\n",
    "    blank_list.extend(committees_all_pages[i]['results'] )  "
   ]
  },
  {
   "cell_type": "code",
   "execution_count": 63,
   "id": "acd51f69-8699-4e59-88ce-d28af273f8b7",
   "metadata": {
    "scrolled": true
   },
   "outputs": [],
   "source": [
    "committees_df = pd.DataFrame(blank_list)"
   ]
  },
  {
   "cell_type": "code",
   "execution_count": 64,
   "id": "172c6189-0634-4dbc-921c-094bc43f8452",
   "metadata": {},
   "outputs": [
    {
     "name": "stdout",
     "output_type": "stream",
     "text": [
      "<class 'pandas.core.frame.DataFrame'>\n",
      "RangeIndex: 992 entries, 0 to 991\n",
      "Data columns (total 22 columns):\n",
      " #   Column                     Non-Null Count  Dtype \n",
      "---  ------                     --------------  ----- \n",
      " 0   affiliated_committee_name  977 non-null    object\n",
      " 1   candidate_ids              992 non-null    object\n",
      " 2   committee_id               992 non-null    object\n",
      " 3   committee_type             992 non-null    object\n",
      " 4   committee_type_full        992 non-null    object\n",
      " 5   cycles                     992 non-null    object\n",
      " 6   designation                992 non-null    object\n",
      " 7   designation_full           992 non-null    object\n",
      " 8   filing_frequency           992 non-null    object\n",
      " 9   first_f1_date              992 non-null    object\n",
      " 10  first_file_date            992 non-null    object\n",
      " 11  last_f1_date               992 non-null    object\n",
      " 12  last_file_date             992 non-null    object\n",
      " 13  name                       992 non-null    object\n",
      " 14  organization_type          992 non-null    object\n",
      " 15  organization_type_full     992 non-null    object\n",
      " 16  party                      105 non-null    object\n",
      " 17  party_full                 102 non-null    object\n",
      " 18  sponsor_candidate_ids      2 non-null      object\n",
      " 19  sponsor_candidate_list     992 non-null    object\n",
      " 20  state                      992 non-null    object\n",
      " 21  treasurer_name             992 non-null    object\n",
      "dtypes: object(22)\n",
      "memory usage: 170.6+ KB\n"
     ]
    }
   ],
   "source": [
    "committees_df.info()"
   ]
  },
  {
   "cell_type": "code",
   "execution_count": 65,
   "id": "9b8e7534-93a8-4c2e-9c6e-5b90d269a18f",
   "metadata": {
    "scrolled": true
   },
   "outputs": [
    {
     "data": {
      "text/html": [
       "<div>\n",
       "<style scoped>\n",
       "    .dataframe tbody tr th:only-of-type {\n",
       "        vertical-align: middle;\n",
       "    }\n",
       "\n",
       "    .dataframe tbody tr th {\n",
       "        vertical-align: top;\n",
       "    }\n",
       "\n",
       "    .dataframe thead th {\n",
       "        text-align: right;\n",
       "    }\n",
       "</style>\n",
       "<table border=\"1\" class=\"dataframe\">\n",
       "  <thead>\n",
       "    <tr style=\"text-align: right;\">\n",
       "      <th></th>\n",
       "      <th>affiliated_committee_name</th>\n",
       "      <th>candidate_ids</th>\n",
       "      <th>committee_id</th>\n",
       "      <th>committee_type</th>\n",
       "      <th>committee_type_full</th>\n",
       "      <th>cycles</th>\n",
       "      <th>designation</th>\n",
       "      <th>designation_full</th>\n",
       "      <th>filing_frequency</th>\n",
       "      <th>first_f1_date</th>\n",
       "      <th>...</th>\n",
       "      <th>last_file_date</th>\n",
       "      <th>name</th>\n",
       "      <th>organization_type</th>\n",
       "      <th>organization_type_full</th>\n",
       "      <th>party</th>\n",
       "      <th>party_full</th>\n",
       "      <th>sponsor_candidate_ids</th>\n",
       "      <th>sponsor_candidate_list</th>\n",
       "      <th>state</th>\n",
       "      <th>treasurer_name</th>\n",
       "    </tr>\n",
       "  </thead>\n",
       "  <tbody>\n",
       "    <tr>\n",
       "      <th>0</th>\n",
       "      <td>3M COMPANY</td>\n",
       "      <td>[]</td>\n",
       "      <td>C00084475</td>\n",
       "      <td>Q</td>\n",
       "      <td>PAC - Qualified</td>\n",
       "      <td>[1978, 1980, 1982, 1984, 1986, 1988, 1990, 199...</td>\n",
       "      <td>B</td>\n",
       "      <td>Lobbyist/Registrant PAC</td>\n",
       "      <td>M</td>\n",
       "      <td>1978-01-10</td>\n",
       "      <td>...</td>\n",
       "      <td>2023-08-14</td>\n",
       "      <td>3M COMPANY PAC</td>\n",
       "      <td>C</td>\n",
       "      <td>Corporation</td>\n",
       "      <td>PAC</td>\n",
       "      <td>None</td>\n",
       "      <td>None</td>\n",
       "      <td>[]</td>\n",
       "      <td>MN</td>\n",
       "      <td>TENNESSEN, TRACY</td>\n",
       "    </tr>\n",
       "    <tr>\n",
       "      <th>1</th>\n",
       "      <td>ABBOTT LABORATORIES</td>\n",
       "      <td>[]</td>\n",
       "      <td>C00040279</td>\n",
       "      <td>Q</td>\n",
       "      <td>PAC - Qualified</td>\n",
       "      <td>[1976, 1978, 1980, 1982, 1984, 1986, 1988, 199...</td>\n",
       "      <td>B</td>\n",
       "      <td>Lobbyist/Registrant PAC</td>\n",
       "      <td>M</td>\n",
       "      <td>1976-04-19</td>\n",
       "      <td>...</td>\n",
       "      <td>2023-08-18</td>\n",
       "      <td>ABBOTT LABORATORIES EMPLOYEE POLITICAL ACTION ...</td>\n",
       "      <td>C</td>\n",
       "      <td>Corporation</td>\n",
       "      <td>UNK</td>\n",
       "      <td>UNKNOWN</td>\n",
       "      <td>None</td>\n",
       "      <td>[]</td>\n",
       "      <td>IL</td>\n",
       "      <td>GUERRERO, CYNTHIA</td>\n",
       "    </tr>\n",
       "    <tr>\n",
       "      <th>2</th>\n",
       "      <td>ABBVIE</td>\n",
       "      <td>[]</td>\n",
       "      <td>C00536573</td>\n",
       "      <td>Q</td>\n",
       "      <td>PAC - Qualified</td>\n",
       "      <td>[2012, 2014, 2016, 2018, 2020, 2022, 2024]</td>\n",
       "      <td>B</td>\n",
       "      <td>Lobbyist/Registrant PAC</td>\n",
       "      <td>M</td>\n",
       "      <td>2012-11-19</td>\n",
       "      <td>...</td>\n",
       "      <td>2023-08-15</td>\n",
       "      <td>ABBVIE POLITICAL ACTION COMMITTEE</td>\n",
       "      <td>C</td>\n",
       "      <td>Corporation</td>\n",
       "      <td>None</td>\n",
       "      <td>None</td>\n",
       "      <td>None</td>\n",
       "      <td>[]</td>\n",
       "      <td>IL</td>\n",
       "      <td>KOLENDA, TIMOTHY</td>\n",
       "    </tr>\n",
       "    <tr>\n",
       "      <th>3</th>\n",
       "      <td>ABIOMED, INC.</td>\n",
       "      <td>[]</td>\n",
       "      <td>C00426445</td>\n",
       "      <td>Q</td>\n",
       "      <td>PAC - Qualified</td>\n",
       "      <td>[2006, 2008, 2010, 2012, 2014, 2016, 2018, 202...</td>\n",
       "      <td>B</td>\n",
       "      <td>Lobbyist/Registrant PAC</td>\n",
       "      <td>Q</td>\n",
       "      <td>2006-07-17</td>\n",
       "      <td>...</td>\n",
       "      <td>2023-08-16</td>\n",
       "      <td>ABIOMED INC POLITICAL ACTION COMMITTEE (ABIOME...</td>\n",
       "      <td>C</td>\n",
       "      <td>Corporation</td>\n",
       "      <td>None</td>\n",
       "      <td>None</td>\n",
       "      <td>None</td>\n",
       "      <td>[]</td>\n",
       "      <td>MA</td>\n",
       "      <td>LIMOLI, JUSTIN</td>\n",
       "    </tr>\n",
       "    <tr>\n",
       "      <th>4</th>\n",
       "      <td>ACCENTURE, INC.</td>\n",
       "      <td>[]</td>\n",
       "      <td>C00300707</td>\n",
       "      <td>Q</td>\n",
       "      <td>PAC - Qualified</td>\n",
       "      <td>[1996, 1998, 2000, 2002, 2004, 2006, 2008, 201...</td>\n",
       "      <td>B</td>\n",
       "      <td>Lobbyist/Registrant PAC</td>\n",
       "      <td>Q</td>\n",
       "      <td>1995-01-19</td>\n",
       "      <td>...</td>\n",
       "      <td>2023-07-20</td>\n",
       "      <td>ACCENTURE INC. POLITICAL ACTION COMMITTEE</td>\n",
       "      <td>C</td>\n",
       "      <td>Corporation</td>\n",
       "      <td>None</td>\n",
       "      <td>None</td>\n",
       "      <td>None</td>\n",
       "      <td>[]</td>\n",
       "      <td>DC</td>\n",
       "      <td>NICHOLSON, MATTHEW R.</td>\n",
       "    </tr>\n",
       "  </tbody>\n",
       "</table>\n",
       "<p>5 rows × 22 columns</p>\n",
       "</div>"
      ],
      "text/plain": [
       "  affiliated_committee_name candidate_ids committee_id committee_type  \\\n",
       "0                3M COMPANY            []    C00084475              Q   \n",
       "1       ABBOTT LABORATORIES            []    C00040279              Q   \n",
       "2                    ABBVIE            []    C00536573              Q   \n",
       "3             ABIOMED, INC.            []    C00426445              Q   \n",
       "4           ACCENTURE, INC.            []    C00300707              Q   \n",
       "\n",
       "  committee_type_full                                             cycles  \\\n",
       "0     PAC - Qualified  [1978, 1980, 1982, 1984, 1986, 1988, 1990, 199...   \n",
       "1     PAC - Qualified  [1976, 1978, 1980, 1982, 1984, 1986, 1988, 199...   \n",
       "2     PAC - Qualified         [2012, 2014, 2016, 2018, 2020, 2022, 2024]   \n",
       "3     PAC - Qualified  [2006, 2008, 2010, 2012, 2014, 2016, 2018, 202...   \n",
       "4     PAC - Qualified  [1996, 1998, 2000, 2002, 2004, 2006, 2008, 201...   \n",
       "\n",
       "  designation         designation_full filing_frequency first_f1_date  ...  \\\n",
       "0           B  Lobbyist/Registrant PAC                M    1978-01-10  ...   \n",
       "1           B  Lobbyist/Registrant PAC                M    1976-04-19  ...   \n",
       "2           B  Lobbyist/Registrant PAC                M    2012-11-19  ...   \n",
       "3           B  Lobbyist/Registrant PAC                Q    2006-07-17  ...   \n",
       "4           B  Lobbyist/Registrant PAC                Q    1995-01-19  ...   \n",
       "\n",
       "  last_file_date                                               name  \\\n",
       "0     2023-08-14                                     3M COMPANY PAC   \n",
       "1     2023-08-18  ABBOTT LABORATORIES EMPLOYEE POLITICAL ACTION ...   \n",
       "2     2023-08-15                  ABBVIE POLITICAL ACTION COMMITTEE   \n",
       "3     2023-08-16  ABIOMED INC POLITICAL ACTION COMMITTEE (ABIOME...   \n",
       "4     2023-07-20          ACCENTURE INC. POLITICAL ACTION COMMITTEE   \n",
       "\n",
       "  organization_type organization_type_full party party_full  \\\n",
       "0                 C            Corporation   PAC       None   \n",
       "1                 C            Corporation   UNK    UNKNOWN   \n",
       "2                 C            Corporation  None       None   \n",
       "3                 C            Corporation  None       None   \n",
       "4                 C            Corporation  None       None   \n",
       "\n",
       "  sponsor_candidate_ids sponsor_candidate_list state         treasurer_name  \n",
       "0                  None                     []    MN       TENNESSEN, TRACY  \n",
       "1                  None                     []    IL      GUERRERO, CYNTHIA  \n",
       "2                  None                     []    IL       KOLENDA, TIMOTHY  \n",
       "3                  None                     []    MA         LIMOLI, JUSTIN  \n",
       "4                  None                     []    DC  NICHOLSON, MATTHEW R.  \n",
       "\n",
       "[5 rows x 22 columns]"
      ]
     },
     "execution_count": 65,
     "metadata": {},
     "output_type": "execute_result"
    }
   ],
   "source": [
    "committees_df.head(5)"
   ]
  },
  {
   "cell_type": "markdown",
   "id": "e9a859a3-6dbb-470e-97e1-7d1e8dec3810",
   "metadata": {},
   "source": [
    "#### Committee Referential Table Clean-Up\n",
    "\n",
    "1. Dropping unnecessary columns (blank/mostly null or not relevant to analysis)\n",
    "2. Renaming remaining columns\n",
    "3. Checking for any nulls, exploring basic description of data before export\n",
    "4. Saving as csv\n",
    "5. Create list of committee ids for funding API requests"
   ]
  },
  {
   "cell_type": "code",
   "execution_count": 66,
   "id": "bd4a9abe-38cb-4f87-be7d-bf681bae0911",
   "metadata": {},
   "outputs": [],
   "source": [
    "# dropping columns: \n",
    "\n",
    "committees_df.drop(columns=['candidate_ids','first_f1_date','first_file_date','last_f1_date','last_file_date','sponsor_candidate_ids','sponsor_candidate_list','filing_frequency','party','party_full','committee_type','organization_type','designation','cycles','treasurer_name'],inplace=True)"
   ]
  },
  {
   "cell_type": "code",
   "execution_count": 67,
   "id": "48f9c192-b91e-4eef-afe1-68dcc51c7e6c",
   "metadata": {},
   "outputs": [
    {
     "data": {
      "text/plain": [
       "Index(['affiliated_committee_name', 'committee_id', 'committee_type_full',\n",
       "       'designation_full', 'name', 'organization_type_full', 'state'],\n",
       "      dtype='object')"
      ]
     },
     "execution_count": 67,
     "metadata": {},
     "output_type": "execute_result"
    }
   ],
   "source": [
    "committees_df.columns"
   ]
  },
  {
   "cell_type": "code",
   "execution_count": 68,
   "id": "df81567e-cdad-4fd1-9362-651a0b45e912",
   "metadata": {},
   "outputs": [],
   "source": [
    "# renaming column names \n",
    "committees_df.columns = ['affiliated_committee_name', 'committee_id', 'committee_type', 'designation_type', 'name', 'organization_type', 'state']"
   ]
  },
  {
   "cell_type": "code",
   "execution_count": 69,
   "id": "08e48796-4c3a-4642-8992-e19d3f05d379",
   "metadata": {},
   "outputs": [
    {
     "data": {
      "text/html": [
       "<div>\n",
       "<style scoped>\n",
       "    .dataframe tbody tr th:only-of-type {\n",
       "        vertical-align: middle;\n",
       "    }\n",
       "\n",
       "    .dataframe tbody tr th {\n",
       "        vertical-align: top;\n",
       "    }\n",
       "\n",
       "    .dataframe thead th {\n",
       "        text-align: right;\n",
       "    }\n",
       "</style>\n",
       "<table border=\"1\" class=\"dataframe\">\n",
       "  <thead>\n",
       "    <tr style=\"text-align: right;\">\n",
       "      <th></th>\n",
       "      <th>affiliated_committee_name</th>\n",
       "      <th>committee_id</th>\n",
       "      <th>committee_type</th>\n",
       "      <th>designation_type</th>\n",
       "      <th>name</th>\n",
       "      <th>organization_type</th>\n",
       "      <th>state</th>\n",
       "    </tr>\n",
       "  </thead>\n",
       "  <tbody>\n",
       "    <tr>\n",
       "      <th>0</th>\n",
       "      <td>3M COMPANY</td>\n",
       "      <td>C00084475</td>\n",
       "      <td>PAC - Qualified</td>\n",
       "      <td>Lobbyist/Registrant PAC</td>\n",
       "      <td>3M COMPANY PAC</td>\n",
       "      <td>Corporation</td>\n",
       "      <td>MN</td>\n",
       "    </tr>\n",
       "  </tbody>\n",
       "</table>\n",
       "</div>"
      ],
      "text/plain": [
       "  affiliated_committee_name committee_id   committee_type  \\\n",
       "0                3M COMPANY    C00084475  PAC - Qualified   \n",
       "\n",
       "          designation_type            name organization_type state  \n",
       "0  Lobbyist/Registrant PAC  3M COMPANY PAC       Corporation    MN  "
      ]
     },
     "execution_count": 69,
     "metadata": {},
     "output_type": "execute_result"
    }
   ],
   "source": [
    "committees_df.head(1)"
   ]
  },
  {
   "cell_type": "code",
   "execution_count": 70,
   "id": "b5922254-0f8c-4c34-8806-fc8a7f672f74",
   "metadata": {},
   "outputs": [
    {
     "data": {
      "text/plain": [
       "(992, 7)"
      ]
     },
     "execution_count": 70,
     "metadata": {},
     "output_type": "execute_result"
    }
   ],
   "source": [
    "committees_df.shape"
   ]
  },
  {
   "cell_type": "code",
   "execution_count": 71,
   "id": "98711c6f-56fd-423b-b5a9-a8a58375680f",
   "metadata": {},
   "outputs": [
    {
     "data": {
      "text/html": [
       "<div>\n",
       "<style scoped>\n",
       "    .dataframe tbody tr th:only-of-type {\n",
       "        vertical-align: middle;\n",
       "    }\n",
       "\n",
       "    .dataframe tbody tr th {\n",
       "        vertical-align: top;\n",
       "    }\n",
       "\n",
       "    .dataframe thead th {\n",
       "        text-align: right;\n",
       "    }\n",
       "</style>\n",
       "<table border=\"1\" class=\"dataframe\">\n",
       "  <thead>\n",
       "    <tr style=\"text-align: right;\">\n",
       "      <th></th>\n",
       "      <th>affiliated_committee_name</th>\n",
       "      <th>committee_id</th>\n",
       "      <th>committee_type</th>\n",
       "      <th>designation_type</th>\n",
       "      <th>name</th>\n",
       "      <th>organization_type</th>\n",
       "      <th>state</th>\n",
       "    </tr>\n",
       "  </thead>\n",
       "  <tbody>\n",
       "    <tr>\n",
       "      <th>count</th>\n",
       "      <td>977</td>\n",
       "      <td>992</td>\n",
       "      <td>992</td>\n",
       "      <td>992</td>\n",
       "      <td>992</td>\n",
       "      <td>992</td>\n",
       "      <td>992</td>\n",
       "    </tr>\n",
       "    <tr>\n",
       "      <th>unique</th>\n",
       "      <td>944</td>\n",
       "      <td>992</td>\n",
       "      <td>2</td>\n",
       "      <td>4</td>\n",
       "      <td>992</td>\n",
       "      <td>6</td>\n",
       "      <td>45</td>\n",
       "    </tr>\n",
       "    <tr>\n",
       "      <th>top</th>\n",
       "      <td>NONE</td>\n",
       "      <td>C00084475</td>\n",
       "      <td>PAC - Qualified</td>\n",
       "      <td>Lobbyist/Registrant PAC</td>\n",
       "      <td>3M COMPANY PAC</td>\n",
       "      <td>Corporation</td>\n",
       "      <td>DC</td>\n",
       "    </tr>\n",
       "    <tr>\n",
       "      <th>freq</th>\n",
       "      <td>20</td>\n",
       "      <td>1</td>\n",
       "      <td>949</td>\n",
       "      <td>987</td>\n",
       "      <td>1</td>\n",
       "      <td>576</td>\n",
       "      <td>367</td>\n",
       "    </tr>\n",
       "  </tbody>\n",
       "</table>\n",
       "</div>"
      ],
      "text/plain": [
       "       affiliated_committee_name committee_id   committee_type  \\\n",
       "count                        977          992              992   \n",
       "unique                       944          992                2   \n",
       "top                         NONE    C00084475  PAC - Qualified   \n",
       "freq                          20            1              949   \n",
       "\n",
       "               designation_type            name organization_type state  \n",
       "count                       992             992               992   992  \n",
       "unique                        4             992                 6    45  \n",
       "top     Lobbyist/Registrant PAC  3M COMPANY PAC       Corporation    DC  \n",
       "freq                        987               1               576   367  "
      ]
     },
     "execution_count": 71,
     "metadata": {},
     "output_type": "execute_result"
    }
   ],
   "source": [
    "committees_df.describe(include='all')"
   ]
  },
  {
   "cell_type": "code",
   "execution_count": 80,
   "id": "5c10ef59-963f-49cd-af14-ec709efe84c8",
   "metadata": {},
   "outputs": [
    {
     "data": {
      "text/plain": [
       "affiliated_committee_name    object\n",
       "committee_id                 object\n",
       "committee_type               object\n",
       "designation_type             object\n",
       "name                         object\n",
       "organization_type            object\n",
       "state                        object\n",
       "dtype: object"
      ]
     },
     "execution_count": 80,
     "metadata": {},
     "output_type": "execute_result"
    }
   ],
   "source": [
    "committees_df.dtypes"
   ]
  },
  {
   "cell_type": "code",
   "execution_count": 85,
   "id": "7b01d48d-9aaa-40f0-9ee6-6662adf507d0",
   "metadata": {
    "scrolled": true
   },
   "outputs": [],
   "source": [
    "committees_df.to_csv('./datasets/committees.csv',sep=',',index=False)"
   ]
  },
  {
   "cell_type": "code",
   "execution_count": 88,
   "id": "d5430987-1a68-4115-a859-0ad6b65d4a29",
   "metadata": {
    "collapsed": true,
    "jupyter": {
     "outputs_hidden": true
    }
   },
   "outputs": [
    {
     "data": {
      "text/plain": [
       "0      C00084475\n",
       "1      C00040279\n",
       "2      C00536573\n",
       "3      C00426445\n",
       "4      C00300707\n",
       "         ...    \n",
       "987    C00329474\n",
       "988    C00279455\n",
       "989    C00025536\n",
       "990    C00399386\n",
       "991    C00235036\n",
       "Name: committee_id, Length: 992, dtype: object"
      ]
     },
     "execution_count": 88,
     "metadata": {},
     "output_type": "execute_result"
    }
   ],
   "source": [
    "committee_id_list = committees_df['committee_id']\n",
    "committee_id_list"
   ]
  },
  {
   "cell_type": "markdown",
   "id": "2ba29069-9681-4112-b0a3-abde2bdcf143",
   "metadata": {},
   "source": [
    "#### Set up API Funding Request Template\n"
   ]
  }
 ],
 "metadata": {
  "kernelspec": {
   "display_name": "Python 3 (ipykernel)",
   "language": "python",
   "name": "python3"
  },
  "language_info": {
   "codemirror_mode": {
    "name": "ipython",
    "version": 3
   },
   "file_extension": ".py",
   "mimetype": "text/x-python",
   "name": "python",
   "nbconvert_exporter": "python",
   "pygments_lexer": "ipython3",
   "version": "3.10.12"
  }
 },
 "nbformat": 4,
 "nbformat_minor": 5
}
